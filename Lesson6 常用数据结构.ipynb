{
 "cells": [
  {
   "cell_type": "markdown",
   "metadata": {
    "collapsed": true
   },
   "source": [
    "# Lesson6 常用数据结构"
   ]
  },
  {
   "cell_type": "markdown",
   "metadata": {},
   "source": [
    "## 课程内容\n",
    "\n",
    "同学，你好！欢迎来到第六课。\n",
    "\n",
    "在上一次课中，我们学习了使用Python操作系统文件的相关知识，包括\n",
    "\n",
    "- 操作系统相关的自建模块`os`、`sys`、`shutil`\n",
    "- 文件IO操作\n",
    "- 最常用的数据结构——列表`list`\n",
    "\n",
    "这些知识是不是很实用呢？如果对你的工作很有帮助，不要忘了多多的练习巩固。\n",
    "\n",
    "今天这节课我们将继续为大家介绍更多的Python开发必备的基础知识——更多常用数据结构：\n",
    "- 元组`tuple`\n",
    "- 字典`dict`\n",
    "- 集合`set`\n",
    "- for...in...循环"
   ]
  },
  {
   "cell_type": "markdown",
   "metadata": {},
   "source": [
    "## 元组"
   ]
  },
  {
   "cell_type": "markdown",
   "metadata": {},
   "source": [
    "## 字典"
   ]
  },
  {
   "cell_type": "markdown",
   "metadata": {},
   "source": [
    "## 集合"
   ]
  },
  {
   "cell_type": "markdown",
   "metadata": {},
   "source": [
    "## `for...in`循环"
   ]
  }
 ],
 "metadata": {
  "kernelspec": {
   "display_name": "Python 2",
   "language": "python",
   "name": "python2"
  },
  "language_info": {
   "codemirror_mode": {
    "name": "ipython",
    "version": 2
   },
   "file_extension": ".py",
   "mimetype": "text/x-python",
   "name": "python",
   "nbconvert_exporter": "python",
   "pygments_lexer": "ipython2",
   "version": "2.7.14"
  }
 },
 "nbformat": 4,
 "nbformat_minor": 2
}
