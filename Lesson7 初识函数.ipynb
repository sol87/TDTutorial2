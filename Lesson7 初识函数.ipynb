{
 "cells": [
  {
   "cell_type": "markdown",
   "metadata": {
    "collapsed": true
   },
   "source": [
    "# Lesson7 初识函数"
   ]
  },
  {
   "cell_type": "markdown",
   "metadata": {},
   "source": [
    "## 课程内容\n",
    "\n",
    "同学，你好！欢迎来到第七课。\n",
    "\n",
    "在上一次课中，我们学习了Python当中各种常用的数据结构，以及迭代操作这些数据的相关知识，包括\n",
    "\n",
    "- for...in...循环\n",
    "- 元组`tuple`\n",
    "- 字典`dict`\n",
    "- 集合`set`\n",
    "\n",
    "今天这节课，我们将来学习编程当中非常重要的一个知识点——函数相关内容：\n",
    "\n",
    "- 函数的调用\n",
    "- 自定义函数\n",
    "- 匿名函数\n",
    "- 变量作用域"
   ]
  },
  {
   "cell_type": "markdown",
   "metadata": {},
   "source": [
    "## 函数是什么"
   ]
  },
  {
   "cell_type": "markdown",
   "metadata": {},
   "source": [
    "在计算机科学发展过程中，函数是一种非常有效的发明。它解决了程序代码复用的问题，同时也为大型程序的开发和维护提供了可能。\n",
    "\n",
    "计算机函数可以被理解为一个具备固定功能的程序段。各种编程语言几乎都提供了函数的功能，开发者可以借助定义函数的语法将功能**封装**起来，以使得程序代码更加的具有**复用性**、**可扩展性**。\n",
    "\n",
    "函数实现了对业务代码的抽象，当函数被定义后，函数的名称即可指代函数所定义的功能。在程序开发中，被封装为函数后的代码将无需重新被编写，调用函数的开发者仅需使用函数的名称来指代这些代码，即可达到重复运行函数内代码的功能。借助函数，大量的底层业务实现在顶层代码中被打包隐藏起来，这种方式降低了软件各层次的复杂度，程序变得更容易扩展，也更加适合多人协作开发。\n",
    "\n",
    "在Python中，函数可以被理解为一个固定的代码块。一个函数由`函数名`、`参数表`、`函数体`几个部分组成。"
   ]
  },
  {
   "cell_type": "markdown",
   "metadata": {},
   "source": [
    "## 函数的调用\n",
    "\n",
    "当函数被调用时，解释器会将传入的参数代入函数代码内进行计算, 并在计算完成后返回函数的运行结果。\n",
    "\n",
    "函数调用的基本语法为：\n",
    "\n",
    "```python\n",
    "fuction_name(arguments)    # <函数名>(<函数参数>)\n",
    "```\n",
    "\n",
    "函数名必须为已定义或为Python解释器内建函数，参数元组在函数名右侧，参数元组内可包含0或多个参数，以小括号`()`包围，不同参数之间使用逗号`,`分隔。\n"
   ]
  },
  {
   "cell_type": "markdown",
   "metadata": {},
   "source": [
    "#### 无参数调用\n",
    "\n",
    "当函数运行不需要参数时，函数右侧的参数元组为空即可，但括号不能省略。"
   ]
  },
  {
   "cell_type": "code",
   "execution_count": 1,
   "metadata": {},
   "outputs": [
    {
     "data": {
      "text/plain": [
       "{'In': ['', u'vars()    # \\u8c03\\u7528\\u65e0\\u53c2\\u6570\\u7684\\u51fd\\u6570'],\n",
       " 'Out': {},\n",
       " '_': '',\n",
       " '__': '',\n",
       " '___': '',\n",
       " '__builtin__': <module '__builtin__' (built-in)>,\n",
       " '__builtins__': <module '__builtin__' (built-in)>,\n",
       " '__doc__': 'Automatically created module for IPython interactive environment',\n",
       " '__name__': '__main__',\n",
       " '_dh': [u'/home/nbuser/library'],\n",
       " '_i': u'',\n",
       " '_i1': u'vars()    # \\u8c03\\u7528\\u65e0\\u53c2\\u6570\\u7684\\u51fd\\u6570',\n",
       " '_ih': ['', u'vars()    # \\u8c03\\u7528\\u65e0\\u53c2\\u6570\\u7684\\u51fd\\u6570'],\n",
       " '_ii': u'',\n",
       " '_iii': u'',\n",
       " '_oh': {},\n",
       " '_sh': <module 'IPython.core.shadowns' from '/home/nbuser/anaconda2_501/lib/python2.7/site-packages/IPython/core/shadowns.pyc'>,\n",
       " 'exit': <IPython.core.autocall.ZMQExitAutocall at 0x7f38ab89af90>,\n",
       " 'get_ipython': <bound method ZMQInteractiveShell.get_ipython of <ipykernel.zmqshell.ZMQInteractiveShell object at 0x7f38ab8c0250>>,\n",
       " 'quit': <IPython.core.autocall.ZMQExitAutocall at 0x7f38ab89af90>}"
      ]
     },
     "execution_count": 1,
     "metadata": {},
     "output_type": "execute_result"
    }
   ],
   "source": [
    "vars()    # 调用无参数的函数"
   ]
  },
  {
   "cell_type": "markdown",
   "metadata": {},
   "source": [
    "#### 传入参数调用"
   ]
  },
  {
   "cell_type": "code",
   "execution_count": 5,
   "metadata": {},
   "outputs": [
    {
     "data": {
      "text/plain": [
       "int"
      ]
     },
     "execution_count": 5,
     "metadata": {},
     "output_type": "execute_result"
    }
   ],
   "source": [
    "type(1)"
   ]
  },
  {
   "cell_type": "code",
   "execution_count": 6,
   "metadata": {},
   "outputs": [
    {
     "data": {
      "text/plain": [
       "True"
      ]
     },
     "execution_count": 6,
     "metadata": {},
     "output_type": "execute_result"
    }
   ],
   "source": [
    "callable(help)"
   ]
  },
  {
   "cell_type": "code",
   "execution_count": 12,
   "metadata": {},
   "outputs": [
    {
     "data": {
      "text/plain": [
       "17"
      ]
     },
     "execution_count": 12,
     "metadata": {},
     "output_type": "execute_result"
    }
   ],
   "source": [
    "sum([1,2,3,4,5])"
   ]
  },
  {
   "cell_type": "code",
   "execution_count": 8,
   "metadata": {},
   "outputs": [
    {
     "data": {
      "text/plain": [
       "99"
      ]
     },
     "execution_count": 8,
     "metadata": {},
     "output_type": "execute_result"
    }
   ],
   "source": [
    "max(1, 4, 99, 21)    # 有些函数可以接收不确定长度的参数"
   ]
  },
  {
   "cell_type": "code",
   "execution_count": 9,
   "metadata": {},
   "outputs": [
    {
     "data": {
      "text/plain": [
       "19"
      ]
     },
     "execution_count": 9,
     "metadata": {},
     "output_type": "execute_result"
    }
   ],
   "source": [
    "max(18, 19)"
   ]
  },
  {
   "cell_type": "markdown",
   "metadata": {},
   "source": [
    "> 在Python中，任何`可调用(callable)`的对象都可以像函数一样被调用。函数作为一种可被调用的资源也可作为变量的值存在。"
   ]
  },
  {
   "cell_type": "code",
   "execution_count": 4,
   "metadata": {},
   "outputs": [
    {
     "name": "stdout",
     "output_type": "stream",
     "text": [
      "6\n"
     ]
    }
   ],
   "source": [
    "func_variable = sum    # 将函数sum赋值给变量func_variable\n",
    "print func_variable([1,2,3])    # 此时func_variable就具备了函数sum同样的功能"
   ]
  },
  {
   "cell_type": "markdown",
   "metadata": {},
   "source": [
    "## 定义函数"
   ]
  },
  {
   "cell_type": "markdown",
   "metadata": {},
   "source": [
    "在Python中，你可以通过调用**`def`**关键字定义函数。定义函数的语法规则有：\n",
    "\n",
    "- 函数定义语句必须以def关键字开头;\n",
    "- def关键字右侧为函数名称，函数名称必须为字母、数字、下划线组合，数字不得作为第一个字符。PEP8建议开发者们使用小写英文单词和下划线组合命名函数;\n",
    "- 函数名称右侧为形式参数表，形式参数表需要以小括号包围，多个参数之间以逗号分隔;\n",
    "- 最右侧为冒号，表示缩进代码块开始;\n",
    "\n",
    "#### 语法示例：\n",
    "```python\n",
    "def function_name(argument1，argument2):    \n",
    "    pass    # 函数内的代码，注意缩进规则。\n",
    "\n",
    "```"
   ]
  },
  {
   "cell_type": "code",
   "execution_count": 19,
   "metadata": {},
   "outputs": [],
   "source": [
    "def say_hello_world():    # 定义一个无参数的函数\n",
    "    print \"Hello world.\""
   ]
  },
  {
   "cell_type": "code",
   "execution_count": 20,
   "metadata": {},
   "outputs": [
    {
     "name": "stdout",
     "output_type": "stream",
     "text": [
      "Hello world.\n"
     ]
    }
   ],
   "source": [
    "say_hello_world()"
   ]
  },
  {
   "cell_type": "code",
   "execution_count": 16,
   "metadata": {},
   "outputs": [],
   "source": [
    "def say_hello_to(name):    # 定义一个有参数的函数\n",
    "    print \"Hello\", name, \", Nice to meet you!\""
   ]
  },
  {
   "cell_type": "code",
   "execution_count": 17,
   "metadata": {},
   "outputs": [
    {
     "name": "stdout",
     "output_type": "stream",
     "text": [
      "Hello Aaron , Nice to meet you!\n"
     ]
    }
   ],
   "source": [
    "say_hello_to(\"Aaron\")"
   ]
  },
  {
   "cell_type": "code",
   "execution_count": 18,
   "metadata": {},
   "outputs": [
    {
     "name": "stdout",
     "output_type": "stream",
     "text": [
      "Hello Tom , Nice to meet you!\n"
     ]
    }
   ],
   "source": [
    "say_hello_to(\"Tom\")"
   ]
  },
  {
   "cell_type": "markdown",
   "metadata": {},
   "source": [
    "## 函数的参数"
   ]
  },
  {
   "cell_type": "markdown",
   "metadata": {},
   "source": [
    "为了区分函数定义阶段的参数与函数调用阶段的参数，我们先来定义两个术语：\n",
    "\n",
    "在函数定义中用于指代传入数据的参数变量被称为**`形式参数`**，简称形参。\n",
    "\n",
    "在函数被调用的阶段传入的实际数据参数被称为**`实际参数`**，简称实参。"
   ]
  },
  {
   "cell_type": "markdown",
   "metadata": {},
   "source": [
    "### 形式参数的定义"
   ]
  },
  {
   "cell_type": "markdown",
   "metadata": {},
   "source": [
    "形式参数是在函数定义阶段被声明的用于指代传入数据的变量。在函数代码中，形式参数即可被当做变量被调用。\n",
    "\n",
    "> 在上文案例中，函数`say_hello_to(name)`中的name即是一个形式参数。"
   ]
  },
  {
   "cell_type": "markdown",
   "metadata": {},
   "source": [
    "#### 形式参数命名规则"
   ]
  },
  {
   "cell_type": "markdown",
   "metadata": {},
   "source": [
    "在Python环境下定义的函数中，形式参数必须拥有一个符合变量命名规则的名称。"
   ]
  },
  {
   "cell_type": "code",
   "execution_count": 22,
   "metadata": {},
   "outputs": [],
   "source": [
    "def right_argument_name(my_arg): pass    # 使用合法的变量命名规则命名参数"
   ]
  },
  {
   "cell_type": "code",
   "execution_count": 21,
   "metadata": {
    "scrolled": true
   },
   "outputs": [
    {
     "ename": "SyntaxError",
     "evalue": "invalid syntax (<ipython-input-21-d465fad46e77>, line 1)",
     "output_type": "error",
     "traceback": [
      "\u001b[0;36m  File \u001b[0;32m\"<ipython-input-21-d465fad46e77>\"\u001b[0;36m, line \u001b[0;32m1\u001b[0m\n\u001b[0;31m    def wrong_argument(0_arg): pass    # 和变量命名规则一样，数字不得作为参数名称的开头\u001b[0m\n\u001b[0m                       ^\u001b[0m\n\u001b[0;31mSyntaxError\u001b[0m\u001b[0;31m:\u001b[0m invalid syntax\n"
     ]
    }
   ],
   "source": [
    "def wrong_argument_name(0_arg): pass    # 和变量命名规则一样，数字不得作为参数名称的开头"
   ]
  },
  {
   "cell_type": "markdown",
   "metadata": {},
   "source": [
    "#### 形式参数的变量特性"
   ]
  },
  {
   "cell_type": "code",
   "execution_count": 23,
   "metadata": {},
   "outputs": [],
   "source": [
    "def foo(my_arg):\n",
    "    print \"my_arg is a variable\"\n",
    "    print \"the value of my_arg is\", my_arg    # 同变量一样，形式参数具备指代数据的作用\n",
    "    print \"the type of my arg is\", type(my_arg)"
   ]
  },
  {
   "cell_type": "code",
   "execution_count": 24,
   "metadata": {},
   "outputs": [
    {
     "name": "stdout",
     "output_type": "stream",
     "text": [
      "my_arg is a variable\n",
      "the value of my_arg is 3\n",
      "the type of my arg is <type 'int'>\n"
     ]
    }
   ],
   "source": [
    "foo(3)"
   ]
  },
  {
   "cell_type": "code",
   "execution_count": 25,
   "metadata": {},
   "outputs": [
    {
     "name": "stdout",
     "output_type": "stream",
     "text": [
      "my_arg is a variable\n",
      "the value of my_arg is Hello\n",
      "the type of my arg is <type 'str'>\n"
     ]
    }
   ],
   "source": [
    "foo(\"Hello\")"
   ]
  },
  {
   "cell_type": "markdown",
   "metadata": {},
   "source": [
    "#### 必填参数"
   ]
  },
  {
   "cell_type": "markdown",
   "metadata": {},
   "source": [
    "在Python函数定义中，没有缺省赋值的形式参数在函数被调用时都是必须传入实际参数的，即**必填参数**。\n",
    "\n",
    "上文案例中，函数`foo`中的形式参数`my_arg`，其在函数定义中并未被赋予默认值，即是一个必填参数。"
   ]
  },
  {
   "cell_type": "code",
   "execution_count": 26,
   "metadata": {},
   "outputs": [
    {
     "ename": "TypeError",
     "evalue": "foo() takes exactly 1 argument (0 given)",
     "output_type": "error",
     "traceback": [
      "\u001b[0;31m\u001b[0m",
      "\u001b[0;31mTypeError\u001b[0mTraceback (most recent call last)",
      "\u001b[0;32m<ipython-input-26-475209130834>\u001b[0m in \u001b[0;36m<module>\u001b[0;34m()\u001b[0m\n\u001b[0;32m----> 1\u001b[0;31m \u001b[0mfoo\u001b[0m\u001b[0;34m(\u001b[0m\u001b[0;34m)\u001b[0m    \u001b[0;31m# 当函数被调用时，没有必填参数则会触发报错\u001b[0m\u001b[0;34m\u001b[0m\u001b[0m\n\u001b[0m",
      "\u001b[0;31mTypeError\u001b[0m: foo() takes exactly 1 argument (0 given)"
     ]
    }
   ],
   "source": [
    "foo()    # 当函数被调用时，没有必填参数则会触发TypeError异常"
   ]
  },
  {
   "cell_type": "markdown",
   "metadata": {},
   "source": [
    "#### 缺省参数"
   ]
  },
  {
   "cell_type": "markdown",
   "metadata": {},
   "source": [
    "在函数定义时赋予形式参数一个默认值，参数即可在函数调用的时候被缺省。在函数被调用时，如果用户未赋予缺省参数新的值，则此时参数的值为默认值。"
   ]
  },
  {
   "cell_type": "code",
   "execution_count": 29,
   "metadata": {},
   "outputs": [],
   "source": [
    "def default_arg_function(number=5):\n",
    "    print \"now number is\", number"
   ]
  },
  {
   "cell_type": "code",
   "execution_count": 30,
   "metadata": {},
   "outputs": [
    {
     "name": "stdout",
     "output_type": "stream",
     "text": [
      "now number is 5\n"
     ]
    }
   ],
   "source": [
    "default_arg_function()"
   ]
  },
  {
   "cell_type": "code",
   "execution_count": 31,
   "metadata": {},
   "outputs": [
    {
     "name": "stdout",
     "output_type": "stream",
     "text": [
      "now number is 8\n"
     ]
    }
   ],
   "source": [
    "default_arg_function(8)"
   ]
  },
  {
   "cell_type": "markdown",
   "metadata": {},
   "source": [
    "> 在自定义的函数中，当形式参数中既包含必填参数又包含缺省参数时，缺省参数只能出现在必填参数之后。"
   ]
  },
  {
   "cell_type": "code",
   "execution_count": 32,
   "metadata": {},
   "outputs": [
    {
     "ename": "SyntaxError",
     "evalue": "non-default argument follows default argument (<ipython-input-32-589f749cf2bd>, line 1)",
     "output_type": "error",
     "traceback": [
      "\u001b[0;36m  File \u001b[0;32m\"<ipython-input-32-589f749cf2bd>\"\u001b[0;36m, line \u001b[0;32m1\u001b[0m\n\u001b[0;31m    def my_function(default_arg=9, required_arg):    # 缺省参数在必填参数之前，将会触发异常\u001b[0m\n\u001b[0;31mSyntaxError\u001b[0m\u001b[0;31m:\u001b[0m non-default argument follows default argument\n"
     ]
    }
   ],
   "source": [
    "def wrong_function(default_arg=9, required_arg):    # 缺省参数在必填参数之前，将会触发语法错误异常\n",
    "    pass"
   ]
  },
  {
   "cell_type": "code",
   "execution_count": 33,
   "metadata": {},
   "outputs": [],
   "source": [
    "def right_function(required_arg, default_arg=9):    # 正确的函数定义方式，缺省参数在必填参数之后定义\n",
    "    pass"
   ]
  },
  {
   "cell_type": "markdown",
   "metadata": {},
   "source": [
    "#### 不定长形式参数"
   ]
  },
  {
   "cell_type": "markdown",
   "metadata": {},
   "source": [
    "> 当调用不包含不定长参数的函数时，向函数传入不存在的关键字参数或超出参数数量的位置参数。"
   ]
  },
  {
   "cell_type": "code",
   "execution_count": 68,
   "metadata": {},
   "outputs": [],
   "source": [
    "def foo0(a, b):\n",
    "    pass"
   ]
  },
  {
   "cell_type": "code",
   "execution_count": 69,
   "metadata": {},
   "outputs": [
    {
     "ename": "TypeError",
     "evalue": "foo0() takes exactly 2 arguments (3 given)",
     "output_type": "error",
     "traceback": [
      "\u001b[0;31m\u001b[0m",
      "\u001b[0;31mTypeError\u001b[0mTraceback (most recent call last)",
      "\u001b[0;32m<ipython-input-69-e932b8a50829>\u001b[0m in \u001b[0;36m<module>\u001b[0;34m()\u001b[0m\n\u001b[0;32m----> 1\u001b[0;31m \u001b[0mfoo0\u001b[0m\u001b[0;34m(\u001b[0m\u001b[0;36m1\u001b[0m\u001b[0;34m,\u001b[0m\u001b[0;36m2\u001b[0m\u001b[0;34m,\u001b[0m\u001b[0;36m3\u001b[0m\u001b[0;34m)\u001b[0m    \u001b[0;31m# 传入超出参数数量的位置参数，将会引发语法错误\u001b[0m\u001b[0;34m\u001b[0m\u001b[0m\n\u001b[0m",
      "\u001b[0;31mTypeError\u001b[0m: foo0() takes exactly 2 arguments (3 given)"
     ]
    }
   ],
   "source": [
    "foo0(1,2,3)    # 传入超出参数数量的位置参数，将会引发类型错误"
   ]
  },
  {
   "cell_type": "code",
   "execution_count": 71,
   "metadata": {},
   "outputs": [
    {
     "ename": "TypeError",
     "evalue": "foo0() got an unexpected keyword argument 'c'",
     "output_type": "error",
     "traceback": [
      "\u001b[0;31m\u001b[0m",
      "\u001b[0;31mTypeError\u001b[0mTraceback (most recent call last)",
      "\u001b[0;32m<ipython-input-71-26792492397e>\u001b[0m in \u001b[0;36m<module>\u001b[0;34m()\u001b[0m\n\u001b[0;32m----> 1\u001b[0;31m \u001b[0mfoo0\u001b[0m\u001b[0;34m(\u001b[0m\u001b[0ma\u001b[0m\u001b[0;34m=\u001b[0m\u001b[0;36m1\u001b[0m\u001b[0;34m,\u001b[0m\u001b[0mb\u001b[0m\u001b[0;34m=\u001b[0m\u001b[0;36m2\u001b[0m\u001b[0;34m,\u001b[0m\u001b[0mc\u001b[0m\u001b[0;34m=\u001b[0m\u001b[0;36m3\u001b[0m\u001b[0;34m)\u001b[0m    \u001b[0;31m# 传入不存在的关键字参数，将会引发类型错误\u001b[0m\u001b[0;34m\u001b[0m\u001b[0m\n\u001b[0m",
      "\u001b[0;31mTypeError\u001b[0m: foo0() got an unexpected keyword argument 'c'"
     ]
    }
   ],
   "source": [
    "foo0(a=1,b=2,c=3)    # 传入不存在的关键字参数，将会引发类型错误"
   ]
  },
  {
   "cell_type": "markdown",
   "metadata": {},
   "source": [
    "除了固定的参数外，Python还允许函数支持无限数量或不确定名称的参数。这种不固定数量且不确定名称的参数被称为不定长参数。"
   ]
  },
  {
   "cell_type": "markdown",
   "metadata": {},
   "source": [
    "在Python中有两种定义不定长参数的方式，分别为列表类型不定长形参和字典类型不定长形参。当实际参数传入函数时，这些参数将会以元组或字典的方式被存入对应的形参中。"
   ]
  },
  {
   "cell_type": "markdown",
   "metadata": {},
   "source": [
    "在形式参数前添加一个星号(`*`)即可将此参数转化为元组类型不定长参数，此时通过不带关键字的传参方式额外传入的参数将会被存入形式参数所对应的列表变量中。"
   ]
  },
  {
   "cell_type": "code",
   "execution_count": 41,
   "metadata": {},
   "outputs": [],
   "source": [
    "def multi_arg_func(*args):\n",
    "    print args, type(args)"
   ]
  },
  {
   "cell_type": "code",
   "execution_count": 35,
   "metadata": {},
   "outputs": [
    {
     "name": "stdout",
     "output_type": "stream",
     "text": [
      "(9, 8, 7, 6) <type 'tuple'>\n"
     ]
    }
   ],
   "source": [
    "multi_arg_func(9, 8, 7, 6)"
   ]
  },
  {
   "cell_type": "markdown",
   "metadata": {},
   "source": [
    "在形式参数前添加两个星号(`**`)即可将此参数转化为字典类型的不定长参数，此时通过关键字传参的方式额外传入的实际参数将会被存入形式参数所对应的字典变量中。\n",
    "\n",
    "> 关键字传参方式将在下文中介绍。"
   ]
  },
  {
   "cell_type": "code",
   "execution_count": 37,
   "metadata": {},
   "outputs": [],
   "source": [
    "def multi_kwarg_func(**kwargs):\n",
    "    print kwargs, type(kwargs)"
   ]
  },
  {
   "cell_type": "code",
   "execution_count": 38,
   "metadata": {},
   "outputs": [
    {
     "name": "stdout",
     "output_type": "stream",
     "text": [
      "{'a': 3, 'my_arg': 'Hello', 'b': 1} <type 'dict'>\n"
     ]
    }
   ],
   "source": [
    "multi_kwarg_func(a=3, b=1, my_arg=\"Hello\")"
   ]
  },
  {
   "cell_type": "markdown",
   "metadata": {},
   "source": [
    "> 一般情况下，你应当同时使用两种参数类型，以应对不确定的传参情况。"
   ]
  },
  {
   "cell_type": "code",
   "execution_count": 42,
   "metadata": {},
   "outputs": [
    {
     "ename": "TypeError",
     "evalue": "multi_arg_func() got an unexpected keyword argument 'a'",
     "output_type": "error",
     "traceback": [
      "\u001b[0;31m\u001b[0m",
      "\u001b[0;31mTypeError\u001b[0mTraceback (most recent call last)",
      "\u001b[0;32m<ipython-input-42-ed162ea3557f>\u001b[0m in \u001b[0;36m<module>\u001b[0;34m()\u001b[0m\n\u001b[0;32m----> 1\u001b[0;31m \u001b[0mmulti_arg_func\u001b[0m\u001b[0;34m(\u001b[0m\u001b[0ma\u001b[0m\u001b[0;34m=\u001b[0m\u001b[0;36m1\u001b[0m\u001b[0;34m,\u001b[0m \u001b[0mb\u001b[0m\u001b[0;34m=\u001b[0m\u001b[0;36m2\u001b[0m\u001b[0;34m)\u001b[0m\u001b[0;34m\u001b[0m\u001b[0m\n\u001b[0m",
      "\u001b[0;31mTypeError\u001b[0m: multi_arg_func() got an unexpected keyword argument 'a'"
     ]
    }
   ],
   "source": [
    "multi_arg_func(1, 2, 3, a=9, b=8)    # 当有关键字传参的实参时，单纯的元组型不定长参数无法支持"
   ]
  },
  {
   "cell_type": "code",
   "execution_count": 43,
   "metadata": {},
   "outputs": [
    {
     "ename": "TypeError",
     "evalue": "multi_kwarg_func() takes exactly 0 arguments (3 given)",
     "output_type": "error",
     "traceback": [
      "\u001b[0;31m\u001b[0m",
      "\u001b[0;31mTypeError\u001b[0mTraceback (most recent call last)",
      "\u001b[0;32m<ipython-input-43-7eb08c7b7df3>\u001b[0m in \u001b[0;36m<module>\u001b[0;34m()\u001b[0m\n\u001b[0;32m----> 1\u001b[0;31m \u001b[0mmulti_kwarg_func\u001b[0m\u001b[0;34m(\u001b[0m\u001b[0;36m7\u001b[0m\u001b[0;34m,\u001b[0m \u001b[0;36m8\u001b[0m\u001b[0;34m,\u001b[0m \u001b[0;36m9\u001b[0m\u001b[0;34m)\u001b[0m\u001b[0;34m\u001b[0m\u001b[0m\n\u001b[0m",
      "\u001b[0;31mTypeError\u001b[0m: multi_kwarg_func() takes exactly 0 arguments (3 given)"
     ]
    }
   ],
   "source": [
    "multi_kwarg_func(1, 2, 3, a=9, b=8)    # 当有不带关键字的实际参数传入时，单纯的字典型不定长参数也无法支持"
   ]
  },
  {
   "cell_type": "code",
   "execution_count": 46,
   "metadata": {},
   "outputs": [],
   "source": [
    "def foo(*args, **kwargs):    # 同时使用两者，以应对复杂的传参情况\n",
    "    print args, type(args)\n",
    "    print kwargs, type(kwargs)"
   ]
  },
  {
   "cell_type": "code",
   "execution_count": 47,
   "metadata": {},
   "outputs": [
    {
     "name": "stdout",
     "output_type": "stream",
     "text": [
      "(1, 2, 3) <type 'tuple'>\n",
      "{'a': 9, 'b': 8} <type 'dict'>\n"
     ]
    }
   ],
   "source": [
    "foo(1, 2, 3, a=9, b=8)"
   ]
  },
  {
   "cell_type": "markdown",
   "metadata": {},
   "source": [
    "> 在定义函数时，不定长形式参数必须在所有其他参数之后，且字典类型的不定长形式参数必须在元组类型的不定长形式参数之后。"
   ]
  },
  {
   "cell_type": "code",
   "execution_count": 48,
   "metadata": {},
   "outputs": [
    {
     "ename": "SyntaxError",
     "evalue": "invalid syntax (<ipython-input-48-f9500c5f8fcc>, line 1)",
     "output_type": "error",
     "traceback": [
      "\u001b[0;36m  File \u001b[0;32m\"<ipython-input-48-f9500c5f8fcc>\"\u001b[0;36m, line \u001b[0;32m1\u001b[0m\n\u001b[0;31m    def foo1(*arg, a):\u001b[0m\n\u001b[0m                   ^\u001b[0m\n\u001b[0;31mSyntaxError\u001b[0m\u001b[0;31m:\u001b[0m invalid syntax\n"
     ]
    }
   ],
   "source": [
    "def foo1(*args, a):    # 不定长参数在其他参数之前，则会出发语法错误\n",
    "    pass"
   ]
  },
  {
   "cell_type": "code",
   "execution_count": 49,
   "metadata": {},
   "outputs": [
    {
     "ename": "SyntaxError",
     "evalue": "invalid syntax (<ipython-input-49-25d3a05ab953>, line 1)",
     "output_type": "error",
     "traceback": [
      "\u001b[0;36m  File \u001b[0;32m\"<ipython-input-49-25d3a05ab953>\"\u001b[0;36m, line \u001b[0;32m1\u001b[0m\n\u001b[0;31m    def foo2(**kwargs, *args):\u001b[0m\n\u001b[0m                     ^\u001b[0m\n\u001b[0;31mSyntaxError\u001b[0m\u001b[0;31m:\u001b[0m invalid syntax\n"
     ]
    }
   ],
   "source": [
    "def foo2(**kwargs, *args):    \n",
    "    pass"
   ]
  },
  {
   "cell_type": "markdown",
   "metadata": {},
   "source": [
    "### 实际参数传入规则"
   ]
  },
  {
   "cell_type": "markdown",
   "metadata": {},
   "source": [
    "在调用函数时，我们经常需要向函数传入参数。上文中已经演示了多种调用函数时传入参数的常见情况。下面我们将来详细地展开函数调用时参数传入的几种情况及相应的语法规则。"
   ]
  },
  {
   "cell_type": "markdown",
   "metadata": {},
   "source": [
    "#### 顺序传参\n",
    "\n",
    "当函数调用时，按函数所需的参数顺序传入实参数值，此时每一个参数的值将与其传入实参的位置一一对应。这种顺序传参中的实参被称为位置参数。"
   ]
  },
  {
   "cell_type": "code",
   "execution_count": 5,
   "metadata": {},
   "outputs": [
    {
     "data": {
      "text/plain": [
       "[5, 4, 3, 2]"
      ]
     },
     "execution_count": 5,
     "metadata": {},
     "output_type": "execute_result"
    }
   ],
   "source": [
    "range(5, 1, -1)    # range函数的参数顺序为 start, stop, step"
   ]
  },
  {
   "cell_type": "code",
   "execution_count": 51,
   "metadata": {},
   "outputs": [],
   "source": [
    "def show_args(a, b, c):\n",
    "    print \"a is\", a\n",
    "    print \"b is\", b\n",
    "    print \"c is\", c"
   ]
  },
  {
   "cell_type": "code",
   "execution_count": 52,
   "metadata": {},
   "outputs": [
    {
     "name": "stdout",
     "output_type": "stream",
     "text": [
      "a is 1\n",
      "b is 2\n",
      "c is 3\n"
     ]
    }
   ],
   "source": [
    "show_args(1, 2, 3)"
   ]
  },
  {
   "cell_type": "code",
   "execution_count": 53,
   "metadata": {},
   "outputs": [
    {
     "name": "stdout",
     "output_type": "stream",
     "text": [
      "a is 2\n",
      "b is 3\n",
      "c is 1\n"
     ]
    }
   ],
   "source": [
    "show_args(2, 3, 1)    # 改变参数传入的顺序，函数运行的结果将会随之改变"
   ]
  },
  {
   "cell_type": "markdown",
   "metadata": {},
   "source": [
    "> 注意：顺序传参时，参数的顺序必须和函数定义参数的顺序保持一致。"
   ]
  },
  {
   "cell_type": "markdown",
   "metadata": {},
   "source": [
    "#### 关键字传参\n",
    "\n",
    "除了可以按顺序给函数传参外，你还可以使用参数变量赋值的方式给函数传递参数。在这种方式中，参数变量的名称即为参数关键字的名称，因此这种传参方式也被称为关键字传参。"
   ]
  },
  {
   "cell_type": "code",
   "execution_count": 54,
   "metadata": {},
   "outputs": [
    {
     "name": "stdout",
     "output_type": "stream",
     "text": [
      "a is 1\n",
      "b is 2\n",
      "c is 3\n"
     ]
    }
   ],
   "source": [
    "show_args(a=1, b=2, c=3)"
   ]
  },
  {
   "cell_type": "code",
   "execution_count": 55,
   "metadata": {},
   "outputs": [
    {
     "name": "stdout",
     "output_type": "stream",
     "text": [
      "a is 1\n",
      "b is 2\n",
      "c is 3\n"
     ]
    }
   ],
   "source": [
    "show_args(b=2, c=3, a=1)    # 不改变参数名与值的相对关系的前提下，改变参数传入的顺序不会影响函数运行的结果"
   ]
  },
  {
   "cell_type": "markdown",
   "metadata": {},
   "source": [
    "> 当函数中有多个缺省参数时，使用关键字传参的方式传递参数可以选择性地传入部分缺省参数。"
   ]
  },
  {
   "cell_type": "code",
   "execution_count": 56,
   "metadata": {},
   "outputs": [],
   "source": [
    "def many_default_args_func(a, b=2, c=3, d=4):\n",
    "    print a, b, c, d"
   ]
  },
  {
   "cell_type": "code",
   "execution_count": 59,
   "metadata": {},
   "outputs": [
    {
     "name": "stdout",
     "output_type": "stream",
     "text": [
      "100 2 3 99\n"
     ]
    }
   ],
   "source": [
    "many_default_args_func(a=100, d=99)"
   ]
  },
  {
   "cell_type": "markdown",
   "metadata": {},
   "source": [
    "> 当混合使用顺序传参和关键字传参两种方式向函数传参时，关键字参数必须写在非关键字数之后。"
   ]
  },
  {
   "cell_type": "code",
   "execution_count": 58,
   "metadata": {},
   "outputs": [
    {
     "ename": "SyntaxError",
     "evalue": "non-keyword arg after keyword arg (<ipython-input-58-347b949dc2b8>, line 1)",
     "output_type": "error",
     "traceback": [
      "\u001b[0;36m  File \u001b[0;32m\"<ipython-input-58-347b949dc2b8>\"\u001b[0;36m, line \u001b[0;32m1\u001b[0m\n\u001b[0;31m    many_default_args_func(a=100, 101, 102)\u001b[0m\n\u001b[0;31mSyntaxError\u001b[0m\u001b[0;31m:\u001b[0m non-keyword arg after keyword arg\n"
     ]
    }
   ],
   "source": [
    "many_default_args_func(a=100, 101, 102)    # 关键字参数在非关键字参数之前将出发语法错误"
   ]
  },
  {
   "cell_type": "markdown",
   "metadata": {},
   "source": [
    "### 函数的返回值"
   ]
  },
  {
   "cell_type": "markdown",
   "metadata": {},
   "source": [
    "函数的返回值决定了函数运行后的值。"
   ]
  },
  {
   "cell_type": "markdown",
   "metadata": {},
   "source": [
    "#### return"
   ]
  },
  {
   "cell_type": "markdown",
   "metadata": {},
   "source": [
    "在Python中，我们使用关键字`return`来完成函数的返回，函数返回时`return`之后的表达式的值即为函数的返回值。"
   ]
  },
  {
   "cell_type": "code",
   "execution_count": 61,
   "metadata": {},
   "outputs": [
    {
     "name": "stdout",
     "output_type": "stream",
     "text": [
      "function foo's return value is 5\n"
     ]
    }
   ],
   "source": [
    "def foo():\n",
    "    return 5\n",
    "\n",
    "return_value = foo()\n",
    "print \"function foo's return value is\", return_value"
   ]
  },
  {
   "cell_type": "markdown",
   "metadata": {},
   "source": [
    "> 当函数中没有`return`关键字或`return`所在代码块被跳过时，函数的返回值为None"
   ]
  },
  {
   "cell_type": "code",
   "execution_count": null,
   "metadata": {},
   "outputs": [],
   "source": [
    "def foo():\n",
    "    print 5\n",
    "    \n",
    "return+value = foo"
   ]
  },
  {
   "cell_type": "markdown",
   "metadata": {},
   "source": [
    "> 在函数被调用时，当`return`语句被执行后，其后的代码将不再被运行"
   ]
  },
  {
   "cell_type": "code",
   "execution_count": 67,
   "metadata": {},
   "outputs": [
    {
     "name": "stdout",
     "output_type": "stream",
     "text": [
      "1\n",
      "2\n"
     ]
    }
   ],
   "source": [
    "def return_test():\n",
    "    print 1\n",
    "    print 2\n",
    "    return\n",
    "    print 3\n",
    "    print 4\n",
    "    \n",
    "return_test()"
   ]
  },
  {
   "cell_type": "markdown",
   "metadata": {},
   "source": [
    "## 匿名函数"
   ]
  },
  {
   "cell_type": "markdown",
   "metadata": {},
   "source": [
    "如果你所需要的函数非常的简短，并且不希望完整定义一个函数的，`Lambda`表达式可以帮你轻松地实现需求。\n",
    "\n",
    "`lambda`是一个可以在一行代码内生成一个匿名函数的Python内建关键字。在一个Lambda语句中可以使用任意数量的参数，但其函数体只能是一个表达式。\n",
    "\n",
    "语法规范为：\n",
    "```lambda <参数> : <表达式>```"
   ]
  },
  {
   "cell_type": "code",
   "execution_count": 84,
   "metadata": {},
   "outputs": [],
   "source": [
    "foo = lambda arg: arg+1"
   ]
  },
  {
   "cell_type": "code",
   "execution_count": 85,
   "metadata": {},
   "outputs": [
    {
     "data": {
      "text/plain": [
       "3"
      ]
     },
     "execution_count": 85,
     "metadata": {},
     "output_type": "execute_result"
    }
   ],
   "source": [
    "foo(2)"
   ]
  },
  {
   "cell_type": "markdown",
   "metadata": {},
   "source": [
    "> 注意：Lambda函数在没有执行前内部代码不会被执行。当Lambda函数中引用了外部变量的情况下，其变量值会是此函数被调用时变量的值。"
   ]
  },
  {
   "cell_type": "code",
   "execution_count": 2,
   "metadata": {},
   "outputs": [
    {
     "name": "stdout",
     "output_type": "stream",
     "text": [
      "4\n",
      "4\n",
      "4\n",
      "4\n"
     ]
    }
   ],
   "source": [
    "a = [1,2,3,4]\n",
    "func_list = []\n",
    "for i in a:\n",
    "    func_list.append(lambda : i)\n",
    "    \n",
    "for func in func_list:\n",
    "    print func()"
   ]
  },
  {
   "cell_type": "markdown",
   "metadata": {},
   "source": [
    "## 变量作用域"
   ]
  },
  {
   "cell_type": "markdown",
   "metadata": {},
   "source": [
    "在Python中，所有的关键字都有其作用域。作为一种常用的自定义关键字，变量的作用域直接影响着这些变量可以在哪些范围内被访问。"
   ]
  },
  {
   "cell_type": "markdown",
   "metadata": {},
   "source": [
    "Python中的作用域一共分为4种，分别是：\n",
    "\n",
    "- L (Local) 局部作用域\n",
    "- E (Enclosing) 闭包函数外的函数中\n",
    "- G (Global) 全局作用域\n",
    "- B (Built-in) 内建作用域\n",
    "\n",
    "在Python运行环境中，解释器会以 L –> E –> G –>B 的顺序顺次查找所需要的关键字。这意味着在内部函数内可以访问外部函数和全局以及内建作用域内的所有变量；同时，在函数内的局部作用域下定义的变量将会在函数中覆盖全局作用域下的同名变量。"
   ]
  },
  {
   "cell_type": "code",
   "execution_count": 81,
   "metadata": {},
   "outputs": [
    {
     "name": "stdout",
     "output_type": "stream",
     "text": [
      "5\n"
     ]
    }
   ],
   "source": [
    "my_var = 5\n",
    "\n",
    "def foo():\n",
    "    print my_var    # 函数内并未定义变量my_var，但可以访问全局作用域下的变量my_var\n",
    "    \n",
    "foo()"
   ]
  },
  {
   "cell_type": "code",
   "execution_count": 72,
   "metadata": {},
   "outputs": [
    {
     "name": "stdout",
     "output_type": "stream",
     "text": [
      "hello\n",
      "5\n"
     ]
    }
   ],
   "source": [
    "my_var = 5\n",
    "\n",
    "def foo():\n",
    "    my_var = \"hello\"\n",
    "    print my_var    # 函数内的my_var覆盖了全局作用域下定义的同名变量。此处打印的my_var变量为函数内的定义的值为\"hello\"的局部变量\n",
    "    \n",
    "foo()\n",
    "\n",
    "print my_var    # 因为局部变量只能在函数内使用，因此此处打印的my_var变量为本段代码最上方定义的值为5的全局变量"
   ]
  },
  {
   "cell_type": "markdown",
   "metadata": {},
   "source": [
    "> 在Python中，可以改变变量作用域的方式只有在函数以及类中定义变量，相关的关键字为`def`/`lambda`/`class`。其他关键字,如`if`/`elif`/`else`/` try`/`except`/`for`/`while`均不会对变量的作用域产生影响。"
   ]
  },
  {
   "cell_type": "code",
   "execution_count": 73,
   "metadata": {},
   "outputs": [
    {
     "name": "stdout",
     "output_type": "stream",
     "text": [
      "5\n"
     ]
    }
   ],
   "source": [
    "a = 3\n",
    "if True:\n",
    "    a = 5    # 此处变量a即为if语句之前定义的变量a,故a的值已被修改为5\n",
    "print a"
   ]
  },
  {
   "cell_type": "markdown",
   "metadata": {},
   "source": [
    "### 闭包函数"
   ]
  },
  {
   "cell_type": "markdown",
   "metadata": {},
   "source": [
    "闭包函数指的是在函数内定义的内部函数。闭包函数可以调用外部函数作用域内的变量。"
   ]
  },
  {
   "cell_type": "code",
   "execution_count": 79,
   "metadata": {},
   "outputs": [
    {
     "name": "stdout",
     "output_type": "stream",
     "text": [
      " 1\n"
     ]
    }
   ],
   "source": [
    "def foo():\n",
    "    a = 1\n",
    "    def closure():\n",
    "        print a    # 内部函数内并未定义变量a，但a可以被调用\n",
    "    closure()\n",
    "    \n",
    "foo()"
   ]
  },
  {
   "cell_type": "markdown",
   "metadata": {},
   "source": [
    "使用`global`关键字可以声明一个对象为全局变量。在代码运行时，解释器会在全局作用域中寻找同名变量，如果找到则此变量将被指向全局作用域下同名变量的值。"
   ]
  },
  {
   "cell_type": "code",
   "execution_count": 78,
   "metadata": {},
   "outputs": [
    {
     "name": "stdout",
     "output_type": "stream",
     "text": [
      " defined_global_var is 1\n",
      "non_defined_global_var is"
     ]
    },
    {
     "ename": "NameError",
     "evalue": "global name 'non_defined_global_var' is not defined",
     "output_type": "error",
     "traceback": [
      "\u001b[0;31m\u001b[0m",
      "\u001b[0;31mNameError\u001b[0mTraceback (most recent call last)",
      "\u001b[0;32m<ipython-input-78-3e8ab6713b2f>\u001b[0m in \u001b[0;36m<module>\u001b[0;34m()\u001b[0m\n\u001b[1;32m      6\u001b[0m     \u001b[0;32mprint\u001b[0m \u001b[0;34m\"non_defined_global_var is\"\u001b[0m\u001b[0;34m,\u001b[0m \u001b[0mnon_defined_global_var\u001b[0m    \u001b[0;31m# 由于对应全局变量不存在，因此non_defined_global_var变量并未被定义。此时触发名称错误\u001b[0m\u001b[0;34m\u001b[0m\u001b[0m\n\u001b[1;32m      7\u001b[0m \u001b[0;34m\u001b[0m\u001b[0m\n\u001b[0;32m----> 8\u001b[0;31m \u001b[0mfoo\u001b[0m\u001b[0;34m(\u001b[0m\u001b[0;34m)\u001b[0m\u001b[0;34m\u001b[0m\u001b[0m\n\u001b[0m",
      "\u001b[0;32m<ipython-input-78-3e8ab6713b2f>\u001b[0m in \u001b[0;36mfoo\u001b[0;34m()\u001b[0m\n\u001b[1;32m      4\u001b[0m     \u001b[0;32mglobal\u001b[0m \u001b[0mnon_defined_global_var\u001b[0m    \u001b[0;31m# 当全局变量不存在时，此语句无效\u001b[0m\u001b[0;34m\u001b[0m\u001b[0m\n\u001b[1;32m      5\u001b[0m     \u001b[0;32mprint\u001b[0m \u001b[0;34m\"defined_global_var is\"\u001b[0m\u001b[0;34m,\u001b[0m \u001b[0mdefined_global_var\u001b[0m\u001b[0;34m\u001b[0m\u001b[0m\n\u001b[0;32m----> 6\u001b[0;31m     \u001b[0;32mprint\u001b[0m \u001b[0;34m\"non_defined_global_var is\"\u001b[0m\u001b[0;34m,\u001b[0m \u001b[0mnon_defined_global_var\u001b[0m    \u001b[0;31m# 由于对应全局变量不存在，因此non_defined_global_var变量并未被定义。此时触发名称错误\u001b[0m\u001b[0;34m\u001b[0m\u001b[0m\n\u001b[0m\u001b[1;32m      7\u001b[0m \u001b[0;34m\u001b[0m\u001b[0m\n\u001b[1;32m      8\u001b[0m \u001b[0mfoo\u001b[0m\u001b[0;34m(\u001b[0m\u001b[0;34m)\u001b[0m\u001b[0;34m\u001b[0m\u001b[0m\n",
      "\u001b[0;31mNameError\u001b[0m: global name 'non_defined_global_var' is not defined"
     ]
    }
   ],
   "source": [
    "defined_global_var = 1\n",
    "def foo():\n",
    "    global defined_global_var\n",
    "    global non_defined_global_var    # 当全局变量不存在时，此语句无效\n",
    "    print \"defined_global_var is\", defined_global_var\n",
    "    print \"non_defined_global_var is\", non_defined_global_var    # 由于对应全局变量不存在，因此non_defined_global_var变量并未被定义。此时触发名称错误\n",
    "    \n",
    "foo()"
   ]
  },
  {
   "cell_type": "markdown",
   "metadata": {},
   "source": [
    "> 注意：在函数内访问全局变量时，如果函数内存在同名变量赋值语句，则会触发异常。"
   ]
  },
  {
   "cell_type": "code",
   "execution_count": 82,
   "metadata": {},
   "outputs": [
    {
     "ename": "UnboundLocalError",
     "evalue": "local variable 'var' referenced before assignment",
     "output_type": "error",
     "traceback": [
      "\u001b[0;31m\u001b[0m",
      "\u001b[0;31mUnboundLocalError\u001b[0mTraceback (most recent call last)",
      "\u001b[0;32m<ipython-input-82-da3a0d2ed345>\u001b[0m in \u001b[0;36m<module>\u001b[0;34m()\u001b[0m\n\u001b[1;32m      3\u001b[0m     \u001b[0;32mprint\u001b[0m \u001b[0mvar\u001b[0m\u001b[0;34m\u001b[0m\u001b[0m\n\u001b[1;32m      4\u001b[0m     \u001b[0mvar\u001b[0m \u001b[0;34m=\u001b[0m \u001b[0;36m200\u001b[0m\u001b[0;34m\u001b[0m\u001b[0m\n\u001b[0;32m----> 5\u001b[0;31m \u001b[0;32mprint\u001b[0m \u001b[0mfun\u001b[0m\u001b[0;34m(\u001b[0m\u001b[0;34m)\u001b[0m\u001b[0;34m\u001b[0m\u001b[0m\n\u001b[0m",
      "\u001b[0;32m<ipython-input-82-da3a0d2ed345>\u001b[0m in \u001b[0;36mfun\u001b[0;34m()\u001b[0m\n\u001b[1;32m      1\u001b[0m \u001b[0mvar\u001b[0m \u001b[0;34m=\u001b[0m \u001b[0;36m1\u001b[0m\u001b[0;34m\u001b[0m\u001b[0m\n\u001b[1;32m      2\u001b[0m \u001b[0;32mdef\u001b[0m \u001b[0mfun\u001b[0m\u001b[0;34m(\u001b[0m\u001b[0;34m)\u001b[0m\u001b[0;34m:\u001b[0m\u001b[0;34m\u001b[0m\u001b[0m\n\u001b[0;32m----> 3\u001b[0;31m     \u001b[0;32mprint\u001b[0m \u001b[0mvar\u001b[0m\u001b[0;34m\u001b[0m\u001b[0m\n\u001b[0m\u001b[1;32m      4\u001b[0m     \u001b[0mvar\u001b[0m \u001b[0;34m=\u001b[0m \u001b[0;36m200\u001b[0m\u001b[0;34m\u001b[0m\u001b[0m\n\u001b[1;32m      5\u001b[0m \u001b[0;32mprint\u001b[0m \u001b[0mfun\u001b[0m\u001b[0;34m(\u001b[0m\u001b[0;34m)\u001b[0m\u001b[0;34m\u001b[0m\u001b[0m\n",
      "\u001b[0;31mUnboundLocalError\u001b[0m: local variable 'var' referenced before assignment"
     ]
    }
   ],
   "source": [
    "var = 1\n",
    "def fun():\n",
    "    print var\n",
    "    var = 200\n",
    "print fun()"
   ]
  },
  {
   "cell_type": "code",
   "execution_count": 83,
   "metadata": {},
   "outputs": [
    {
     "ename": "UnboundLocalError",
     "evalue": "local variable 'var' referenced before assignment",
     "output_type": "error",
     "traceback": [
      "\u001b[0;31m\u001b[0m",
      "\u001b[0;31mUnboundLocalError\u001b[0mTraceback (most recent call last)",
      "\u001b[0;32m<ipython-input-83-c4f47cf4ae09>\u001b[0m in \u001b[0;36m<module>\u001b[0;34m()\u001b[0m\n\u001b[1;32m      3\u001b[0m     \u001b[0mvar\u001b[0m \u001b[0;34m=\u001b[0m \u001b[0mvar\u001b[0m \u001b[0;34m+\u001b[0m \u001b[0;36m1\u001b[0m\u001b[0;34m\u001b[0m\u001b[0m\n\u001b[1;32m      4\u001b[0m     \u001b[0;32mreturn\u001b[0m \u001b[0mvar\u001b[0m\u001b[0;34m\u001b[0m\u001b[0m\n\u001b[0;32m----> 5\u001b[0;31m \u001b[0;32mprint\u001b[0m \u001b[0mfun\u001b[0m\u001b[0;34m(\u001b[0m\u001b[0;34m)\u001b[0m\u001b[0;34m\u001b[0m\u001b[0m\n\u001b[0m",
      "\u001b[0;32m<ipython-input-83-c4f47cf4ae09>\u001b[0m in \u001b[0;36mfun\u001b[0;34m()\u001b[0m\n\u001b[1;32m      1\u001b[0m \u001b[0mvar\u001b[0m \u001b[0;34m=\u001b[0m \u001b[0;36m1\u001b[0m\u001b[0;34m\u001b[0m\u001b[0m\n\u001b[1;32m      2\u001b[0m \u001b[0;32mdef\u001b[0m \u001b[0mfun\u001b[0m\u001b[0;34m(\u001b[0m\u001b[0;34m)\u001b[0m\u001b[0;34m:\u001b[0m\u001b[0;34m\u001b[0m\u001b[0m\n\u001b[0;32m----> 3\u001b[0;31m     \u001b[0mvar\u001b[0m \u001b[0;34m=\u001b[0m \u001b[0mvar\u001b[0m \u001b[0;34m+\u001b[0m \u001b[0;36m1\u001b[0m\u001b[0;34m\u001b[0m\u001b[0m\n\u001b[0m\u001b[1;32m      4\u001b[0m     \u001b[0;32mreturn\u001b[0m \u001b[0mvar\u001b[0m\u001b[0;34m\u001b[0m\u001b[0m\n\u001b[1;32m      5\u001b[0m \u001b[0;32mprint\u001b[0m \u001b[0mfun\u001b[0m\u001b[0;34m(\u001b[0m\u001b[0;34m)\u001b[0m\u001b[0;34m\u001b[0m\u001b[0m\n",
      "\u001b[0;31mUnboundLocalError\u001b[0m: local variable 'var' referenced before assignment"
     ]
    }
   ],
   "source": [
    "var = 1\n",
    "def fun():\n",
    "    var = var + 1\n",
    "    return var\n",
    "print fun()"
   ]
  },
  {
   "cell_type": "markdown",
   "metadata": {},
   "source": [
    "### 本课结语\n",
    "\n",
    "在本节课中，我们已经学习了以下几个内容：\n",
    "\n",
    "- 函数的调用\n",
    "- 自定义函数\n",
    "- 匿名函数\n",
    "- 变量作用域\n",
    "\n",
    "如果你还没有熟练地掌握这些知识，我建议你通过以下几种方式提高自己：\n",
    "\n",
    "- 反复地阅读这一节课的内容；\n",
    "- 依据本课知识，举一反三地进行更多的练习；\n",
    "- 到互联网上浏览和补充相关的知识，完善和巩固知识体系；\n",
    "- 在我们的课堂群中和我们进行更多的交流。\n",
    "\n",
    "如果你觉得本课内容对你有帮助，欢迎到我们的[课程](https://ke.qq.com/course/328764?tuin=2a5bd9a8)中进行评价，给予我们一个珍贵的好评。"
   ]
  }
 ],
 "metadata": {
  "kernelspec": {
   "display_name": "Python 2",
   "language": "python",
   "name": "python2"
  },
  "language_info": {
   "codemirror_mode": {
    "name": "ipython",
    "version": 2
   },
   "file_extension": ".py",
   "mimetype": "text/x-python",
   "name": "python",
   "nbconvert_exporter": "python",
   "pygments_lexer": "ipython2",
   "version": "2.7.14"
  }
 },
 "nbformat": 4,
 "nbformat_minor": 2
}
