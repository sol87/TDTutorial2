{
  "cells": [
    {
      "metadata": {
        "collapsed": true
      },
      "cell_type": "markdown",
      "source": "# Lesson10 模块与包"
    },
    {
      "metadata": {},
      "cell_type": "markdown",
      "source": "## 课程内容\n\n同学，你好！欢迎来到第十课。\n\n在上一次课中，我们学习了一些Python中常用的高级特性的相关知识，包括\n\n- Python中的函数式编程\n- 偏函数\n- 高阶函数\n- 装饰器\n\n今天这节课，我们将来学习Python中有关模块和包管理的知识， 包括：\n\n- 模块\n- Python运行环境管理\n- 自定义包管理\n- 虚拟环境(Virtual Environment)\n"
    },
    {
      "metadata": {},
      "cell_type": "markdown",
      "source": "## 模块"
    },
    {
      "metadata": {},
      "cell_type": "markdown",
      "source": "可以被导入调用的就是模块。\n\n每一个py文件都是一个模块。也可以使用其他语言实现编译成为Python模块。"
    },
    {
      "metadata": {},
      "cell_type": "markdown",
      "source": "### 自定义Python模块"
    },
    {
      "metadata": {},
      "cell_type": "markdown",
      "source": "### 模块的`__name__`属性"
    },
    {
      "metadata": {},
      "cell_type": "markdown",
      "source": "## Python运行环境"
    },
    {
      "metadata": {},
      "cell_type": "markdown",
      "source": "### Python运行环境下可被导入的模块位置"
    },
    {
      "metadata": {},
      "cell_type": "markdown",
      "source": "### `sys.path`属性的作用"
    },
    {
      "metadata": {},
      "cell_type": "markdown",
      "source": "### 使用环境变量改变运行环境"
    },
    {
      "metadata": {},
      "cell_type": "markdown",
      "source": "### 外部模块的分布"
    },
    {
      "metadata": {},
      "cell_type": "markdown",
      "source": "除了相同文件夹下的模块，其他位置的都是外部模块"
    },
    {
      "metadata": {},
      "cell_type": "markdown",
      "source": "![](http://ome7yw3kc.bkt.clouddn.com/Python%E6%A8%A1%E5%9D%97%E5%88%86%E5%B8%83.png)"
    },
    {
      "metadata": {},
      "cell_type": "markdown",
      "source": "## 包"
    },
    {
      "metadata": {},
      "cell_type": "markdown",
      "source": "### `__init__.py`文件"
    },
    {
      "metadata": {},
      "cell_type": "markdown",
      "source": "## 虚拟环境"
    },
    {
      "metadata": {},
      "cell_type": "markdown",
      "source": "### 本课结语\n\n在本节课中，我们已经学习了以下几个内容：\n\n- Python运行环境管理\n- 自定义模块\n- 自定义包管理\n- 虚拟环境(Virtual Environment)\n\n如果你还没有熟练地掌握这些知识，我建议你通过以下几种方式提高自己：\n\n- 反复地阅读这一节课的内容；\n- 依据本课知识，举一反三地进行更多的练习；\n- 到互联网上浏览和补充相关的知识，完善和巩固知识体系；\n- 在我们的课堂群中和我们进行更多的交流。\n\n如果你觉得本课内容对你有帮助，欢迎到我们的[课程](https://ke.qq.com/course/328764?tuin=2a5bd9a8)中进行评价，给予我们一个珍贵的好评。"
    }
  ],
  "metadata": {
    "kernelspec": {
      "name": "python2",
      "display_name": "Python 2",
      "language": "python"
    },
    "language_info": {
      "mimetype": "text/x-python",
      "nbconvert_exporter": "python",
      "name": "python",
      "pygments_lexer": "ipython2",
      "version": "2.7.14",
      "file_extension": ".py",
      "codemirror_mode": {
        "version": 2,
        "name": "ipython"
      }
    }
  },
  "nbformat": 4,
  "nbformat_minor": 2
}