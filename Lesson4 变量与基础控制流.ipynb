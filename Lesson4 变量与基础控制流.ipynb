{
 "cells": [
  {
   "cell_type": "markdown",
   "metadata": {},
   "source": [
    "# Lesson4 变量与基础控制流"
   ]
  },
  {
   "cell_type": "markdown",
   "metadata": {
    "collapsed": true
   },
   "source": [
    "## 课程内容\n",
    "\n",
    "同学，你好！欢迎来到第四课。\n",
    "\n",
    "在上一次课中，我们学习了Python开发相关的一些基础知识，包括\n",
    "\n",
    "- 最常用的Python保留字`print`\n",
    "- 基础数据类型及常用的运算符\n",
    "- 针对数据类型进行操作的常用内建函数\n",
    "\n",
    "相信你很好地已经掌握了这些内容。\n",
    "\n",
    "今天这节课，我们将向大家讲解以下几个内容：\n",
    "\n",
    "- 变量\n",
    "- 标准输入\n",
    "- 导入模块 import\n",
    "- if...elif..else\n",
    "- while循环"
   ]
  },
  {
   "cell_type": "markdown",
   "metadata": {},
   "source": [
    "## 变量"
   ]
  },
  {
   "cell_type": "markdown",
   "metadata": {},
   "source": [
    "变量是一种用于指代数据的标识符。在Python中，一切对象都可以作为变量的值，你可以使用赋值运算符`=`为变量赋值，其语法为：\n",
    "\n",
    "`变量名 = 任意对象`\n",
    "\n",
    "Python是一门具有动态变量类型特性的编程语言，变量的类型可以随着其值的类型不同而动态地变换，因此在Python中无需为变量声明类型。\n",
    "\n",
    "通常情况下，定义一个Python变量只需调用赋值语句即可完成。"
   ]
  },
  {
   "cell_type": "code",
   "execution_count": 13,
   "metadata": {},
   "outputs": [],
   "source": [
    "a = \"Hello\""
   ]
  },
  {
   "cell_type": "markdown",
   "metadata": {},
   "source": [
    "以上代码即定义了一个变量名为`a`的Python变量。同表达式一样，当a被调用或打印时，其指代的就是该变量当前的值。"
   ]
  },
  {
   "cell_type": "code",
   "execution_count": 12,
   "metadata": {},
   "outputs": [
    {
     "name": "stdout",
     "output_type": "stream",
     "text": [
      "Hello\n"
     ]
    }
   ],
   "source": [
    "print a"
   ]
  },
  {
   "cell_type": "code",
   "execution_count": 14,
   "metadata": {},
   "outputs": [
    {
     "name": "stdout",
     "output_type": "stream",
     "text": [
      "HelloHelloHelloHelloHello\n"
     ]
    }
   ],
   "source": [
    "print a * 5"
   ]
  },
  {
   "cell_type": "markdown",
   "metadata": {},
   "source": [
    "重新赋值变量a，只需要再次使用赋值运算符即可："
   ]
  },
  {
   "cell_type": "code",
   "execution_count": 18,
   "metadata": {},
   "outputs": [
    {
     "name": "stdout",
     "output_type": "stream",
     "text": [
      "重新赋值后a的值为： 10\n"
     ]
    }
   ],
   "source": [
    "a = 10   \n",
    "print \"重新赋值后a的值为：\", a    # 此时打印a的值为1"
   ]
  },
  {
   "cell_type": "code",
   "execution_count": 19,
   "metadata": {},
   "outputs": [
    {
     "name": "stdout",
     "output_type": "stream",
     "text": [
      "50\n"
     ]
    }
   ],
   "source": [
    "print a * 5"
   ]
  },
  {
   "cell_type": "markdown",
   "metadata": {},
   "source": [
    "变量a也可以作为值赋值给其他的变量，如："
   ]
  },
  {
   "cell_type": "code",
   "execution_count": 20,
   "metadata": {},
   "outputs": [
    {
     "name": "stdout",
     "output_type": "stream",
     "text": [
      "10\n",
      "True\n"
     ]
    }
   ],
   "source": [
    "b = a \n",
    "print b\n",
    "print a == b"
   ]
  },
  {
   "cell_type": "markdown",
   "metadata": {},
   "source": [
    "在原有变量值上进行修改的赋值是编程中经常会遇到的一种操作，通常情况下你可以通过这样的语句赋值"
   ]
  },
  {
   "cell_type": "code",
   "execution_count": 23,
   "metadata": {},
   "outputs": [],
   "source": [
    "a = a + 1"
   ]
  },
  {
   "cell_type": "markdown",
   "metadata": {},
   "source": [
    "Python还提供了这样一种写法来简化这种操作："
   ]
  },
  {
   "cell_type": "code",
   "execution_count": 24,
   "metadata": {},
   "outputs": [],
   "source": [
    "a += 1"
   ]
  },
  {
   "cell_type": "markdown",
   "metadata": {},
   "source": [
    "### 独特的Pythonic的赋值方式"
   ]
  },
  {
   "cell_type": "code",
   "execution_count": 5,
   "metadata": {},
   "outputs": [
    {
     "name": "stdout",
     "output_type": "stream",
     "text": [
      "1\n",
      "2\n"
     ]
    }
   ],
   "source": [
    "a, b = 1, 2\n",
    "print a\n",
    "print b"
   ]
  },
  {
   "cell_type": "code",
   "execution_count": 6,
   "metadata": {},
   "outputs": [
    {
     "name": "stdout",
     "output_type": "stream",
     "text": [
      "2\n",
      "1\n"
     ]
    }
   ],
   "source": [
    "a, b = b, a\n",
    "print a\n",
    "print b"
   ]
  },
  {
   "cell_type": "markdown",
   "metadata": {},
   "source": [
    "### 变量名的命名规则\n",
    "\n",
    "在python中，并非一切字符皆可作为合法的变量名。在通用的CPython解释器下，变量名需要符合以下几条规范才可以被正确地解释为变量\n",
    "\n",
    "- 变量名中只存在`大小写字母`、`数字`、`下划线`中的一种或几种字符\n",
    "- 数字不可出现在变量名的开头\n",
    "\n"
   ]
  },
  {
   "cell_type": "markdown",
   "metadata": {},
   "source": [
    "和学习测试不同，在实际的开发工作中你每天都需要大量使用变量。为了使得代码更容易阅读，我建议你依据一些Python开发行业通行的规范来命名变量， 如PEP8。\n",
    "\n",
    "- 使用小写的英文名词为变量命名，以增强可阅读性\n",
    "- 在多个单词之间使用下划线`_`连接\n",
    "- 尽量避免自己发明的简写\n",
    "- 5-30个字符都是相对合适的"
   ]
  },
  {
   "cell_type": "markdown",
   "metadata": {},
   "source": [
    "### 标准输入函数"
   ]
  },
  {
   "cell_type": "markdown",
   "metadata": {},
   "source": [
    "Python中有两个标准输入的函数`input`和`raw_input`，当这两个命令被调用时，程序将会请求用户输入信息，在不同的运行环境下表现形式是不一样的。"
   ]
  },
  {
   "cell_type": "markdown",
   "metadata": {},
   "source": [
    "`input`函数允许用户输入一个表达式，Python解释器将对其进行自动求值。因此，在程序调用`input`函数时，用户必须输入一个合法的Python表达式才可以被正确地运行。"
   ]
  },
  {
   "cell_type": "code",
   "execution_count": 7,
   "metadata": {},
   "outputs": [
    {
     "name": "stdout",
     "output_type": "stream",
     "text": [
      "Please type something:2+2\n",
      "4\n"
     ]
    }
   ],
   "source": [
    "my_input = input(\"Please type something:\")\n",
    "print my_input"
   ]
  },
  {
   "cell_type": "code",
   "execution_count": 8,
   "metadata": {},
   "outputs": [
    {
     "name": "stdout",
     "output_type": "stream",
     "text": [
      "Please type something:what?\n"
     ]
    },
    {
     "ename": "SyntaxError",
     "evalue": "unexpected EOF while parsing (<string>, line 1)",
     "output_type": "error",
     "traceback": [
      "\u001b[0;36m  File \u001b[0;32m\"<string>\"\u001b[0;36m, line \u001b[0;32m1\u001b[0m\n\u001b[0;31m    what?\u001b[0m\n\u001b[0m        ^\u001b[0m\n\u001b[0;31mSyntaxError\u001b[0m\u001b[0;31m:\u001b[0m unexpected EOF while parsing\n"
     ]
    }
   ],
   "source": [
    "my_input = input(\"Please type something:\")\n",
    "print my_input"
   ]
  },
  {
   "cell_type": "markdown",
   "metadata": {},
   "source": [
    "> 注意：因为Python解释器会自动运行input中的表达式，因此这种方式容易导致代码注入风险。"
   ]
  },
  {
   "cell_type": "markdown",
   "metadata": {},
   "source": [
    "不同于`input`，`raw_input`会将用户输入的一切内容当做字符串来处理，因此用户可以输入任何内容。"
   ]
  },
  {
   "cell_type": "code",
   "execution_count": 9,
   "metadata": {},
   "outputs": [
    {
     "name": "stdout",
     "output_type": "stream",
     "text": [
      "Please type something:2+2\n",
      "2+2\n"
     ]
    }
   ],
   "source": [
    "my_raw_input = raw_input(\"Please type something:\")\n",
    "print my_raw_input"
   ]
  },
  {
   "cell_type": "code",
   "execution_count": 11,
   "metadata": {},
   "outputs": [
    {
     "name": "stdout",
     "output_type": "stream",
     "text": [
      "Please type something:what?\n",
      "<type 'str'> what?\n"
     ]
    }
   ],
   "source": [
    "my_raw_input = raw_input(\"Please type something:\")\n",
    "print type(my_raw_input), my_raw_input"
   ]
  },
  {
   "cell_type": "markdown",
   "metadata": {},
   "source": [
    "### 三元赋值法"
   ]
  },
  {
   "cell_type": "code",
   "execution_count": 3,
   "metadata": {},
   "outputs": [
    {
     "name": "stdout",
     "output_type": "stream",
     "text": [
      "Please type some thing:Hello\n",
      "now x is Hello\n"
     ]
    }
   ],
   "source": [
    "a = raw_input(\"Please type some thing:\")\n",
    "x = a or \"Nothing\"\n",
    "print \"now x is\", x"
   ]
  },
  {
   "cell_type": "markdown",
   "metadata": {},
   "source": [
    "## if...elif...else语句"
   ]
  },
  {
   "cell_type": "markdown",
   "metadata": {},
   "source": [
    "条件判断语句是计算机编程开发中最重要的控制流语句，这种根据不同条件运行不同代码的基本算法赋予了计算机强大的自动化能力。\n",
    "\n"
   ]
  },
  {
   "cell_type": "markdown",
   "metadata": {},
   "source": [
    "### 一行内的条件判断语句"
   ]
  },
  {
   "cell_type": "code",
   "execution_count": 12,
   "metadata": {},
   "outputs": [
    {
     "name": "stdout",
     "output_type": "stream",
     "text": [
      "Hello\n"
     ]
    }
   ],
   "source": [
    "print \"Hello\" if True else \"World\""
   ]
  },
  {
   "cell_type": "code",
   "execution_count": 13,
   "metadata": {},
   "outputs": [
    {
     "name": "stdout",
     "output_type": "stream",
     "text": [
      "World\n"
     ]
    }
   ],
   "source": [
    "print \"Hello\" if False else \"World\""
   ]
  },
  {
   "cell_type": "markdown",
   "metadata": {},
   "source": [
    "### 使用逻辑表达式作为条件"
   ]
  },
  {
   "cell_type": "code",
   "execution_count": 20,
   "metadata": {},
   "outputs": [
    {
     "name": "stdout",
     "output_type": "stream",
     "text": [
      "a是正数\n"
     ]
    }
   ],
   "source": [
    "a = 8\n",
    "print \"a大于0\" if a > 0 else \"a不大于0"
   ]
  },
  {
   "cell_type": "code",
   "execution_count": 23,
   "metadata": {},
   "outputs": [
    {
     "name": "stdout",
     "output_type": "stream",
     "text": [
      "a是正整数\n"
     ]
    }
   ],
   "source": [
    "a = 3\n",
    "print \"a是正整数\" if type(a) == int and a > 0 else \"a不是正整数\""
   ]
  },
  {
   "cell_type": "markdown",
   "metadata": {},
   "source": [
    "### 升级版的三元赋值法"
   ]
  },
  {
   "cell_type": "code",
   "execution_count": 5,
   "metadata": {},
   "outputs": [
    {
     "name": "stdout",
     "output_type": "stream",
     "text": [
      "Please type some thing:\n",
      "now x is Nothing\n"
     ]
    }
   ],
   "source": [
    "a = raw_input(\"Please type some thing:\")\n",
    "x = a if a else \"Nothing\"\n",
    "print \"now x is\", x"
   ]
  },
  {
   "cell_type": "markdown",
   "metadata": {},
   "source": [
    "### 多行条件判断代码块"
   ]
  },
  {
   "cell_type": "code",
   "execution_count": 18,
   "metadata": {},
   "outputs": [
    {
     "name": "stdout",
     "output_type": "stream",
     "text": [
      "a是正数\n"
     ]
    }
   ],
   "source": [
    "a = 10\n",
    "if a > 0:\n",
    "    print \"a是正数\""
   ]
  },
  {
   "cell_type": "markdown",
   "metadata": {},
   "source": [
    "#### 使用else处理其他情况"
   ]
  },
  {
   "cell_type": "code",
   "execution_count": 4,
   "metadata": {},
   "outputs": [
    {
     "name": "stdout",
     "output_type": "stream",
     "text": [
      "6K+36L6T5YWl5LiA5Liq5pW05pWw77ya\n",
      "56\n",
      "a是偶数\n"
     ]
    }
   ],
   "source": [
    "a = input(\"请输入一个整数：\")\n",
    "if a % 2 == 0:\n",
    "    print \"a是偶数\"\n",
    "else:\n",
    "    print \"a是奇数\""
   ]
  },
  {
   "cell_type": "markdown",
   "metadata": {},
   "source": [
    "#### 使用elif增加条件"
   ]
  },
  {
   "cell_type": "code",
   "execution_count": 6,
   "metadata": {},
   "outputs": [
    {
     "name": "stdout",
     "output_type": "stream",
     "text": [
      "a是负数\n"
     ]
    }
   ],
   "source": [
    "a = -2\n",
    "if a > 0:\n",
    "    print \"a是正数\"\n",
    "elif a < 0:\n",
    "    print \"a是负数\"\n",
    "else:\n",
    "    print \"a是零\""
   ]
  },
  {
   "cell_type": "markdown",
   "metadata": {},
   "source": [
    "## While循环"
   ]
  },
  {
   "cell_type": "markdown",
   "metadata": {},
   "source": [
    "while循环是一种基于条件判断的迭代循环模型，在Python中其标准的写法为：\n",
    "\n",
    "```python\n",
    "while <条件>:\n",
    "        <条件成立时会被执行的代码>\n",
    "```\n",
    "\n",
    "在这个循环结构中，当条件成立（值被判定为真）时，循环体内的代码就会被运行；每当循环体内代码运行结束，就会回到条件判断行，重新进行判断；每当条件成立，循环体都会被运行一次，直至条件不成立。\n",
    "\n",
    "> 死循环指的是无法靠程序自身的控制终止的循环。通常情况下，开发者预期以外的死循环容易导致难以退出运行的情况发生。使用`while`是造成这种死循环的常见原因，因此当你在代码中使用了`while`循环时，你需要在代码运行前小心谨慎地阅读，以避免这种问题发生。"
   ]
  },
  {
   "cell_type": "code",
   "execution_count": 15,
   "metadata": {},
   "outputs": [
    {
     "name": "stdout",
     "output_type": "stream",
     "text": [
      "1\n",
      "2\n",
      "3\n",
      "4\n",
      "5\n",
      "6\n",
      "7\n",
      "8\n",
      "9\n"
     ]
    }
   ],
   "source": [
    "n = 1\n",
    "while n < 10:\n",
    "    print n\n",
    "    n += 1"
   ]
  },
  {
   "cell_type": "markdown",
   "metadata": {},
   "source": [
    "## 导入模块"
   ]
  },
  {
   "cell_type": "markdown",
   "metadata": {},
   "source": [
    "除了内建的对象外，Python还允许开发者通过导入调用来自外部的对象和函数。"
   ]
  },
  {
   "cell_type": "markdown",
   "metadata": {},
   "source": [
    "### 九蛇真经"
   ]
  },
  {
   "cell_type": "code",
   "execution_count": 1,
   "metadata": {
    "scrolled": false
   },
   "outputs": [
    {
     "name": "stdout",
     "output_type": "stream",
     "text": [
      "The Zen of Python, by Tim Peters\n",
      "\n",
      "Beautiful is better than ugly.\n",
      "Explicit is better than implicit.\n",
      "Simple is better than complex.\n",
      "Complex is better than complicated.\n",
      "Flat is better than nested.\n",
      "Sparse is better than dense.\n",
      "Readability counts.\n",
      "Special cases aren't special enough to break the rules.\n",
      "Although practicality beats purity.\n",
      "Errors should never pass silently.\n",
      "Unless explicitly silenced.\n",
      "In the face of ambiguity, refuse the temptation to guess.\n",
      "There should be one-- and preferably only one --obvious way to do it.\n",
      "Although that way may not be obvious at first unless you're Dutch.\n",
      "Now is better than never.\n",
      "Although never is often better than *right* now.\n",
      "If the implementation is hard to explain, it's a bad idea.\n",
      "If the implementation is easy to explain, it may be a good idea.\n",
      "Namespaces are one honking great idea -- let's do more of those!\n"
     ]
    }
   ],
   "source": [
    "import this"
   ]
  },
  {
   "cell_type": "markdown",
   "metadata": {},
   "source": [
    "美胜丑，  \n",
    "显胜隐。  \n",
    "简胜繁，  \n",
    "繁胜杂。  \n",
    "扁平胜嵌套，  \n",
    "稀疏胜密集，  \n",
    "易读是关键。  \n",
    "例外不出规则，  \n",
    "纵使实用胜于纯粹。  \n",
    "错误不被隐藏，  \n",
    "除非明确说明静默。  \n",
    "面对歧义，拒绝猜测，  \n",
    "只有一个方式——最佳的那个——最明显的方式解决问题，  \n",
    "虽然有时也不那么明显，除非你来自荷兰。  \n",
    "当下胜于永不开始，  \n",
    "纵使永不开始总比“马上”好。  \n",
    "难以解释的方案不是好方案，  \n",
    "容易讲清的点子才是好点子。  \n",
    "命名空间好的呱呱叫——咱们多来点这种的吧！  \n"
   ]
  },
  {
   "cell_type": "markdown",
   "metadata": {},
   "source": [
    "### 逆天飞行"
   ]
  },
  {
   "cell_type": "code",
   "execution_count": 29,
   "metadata": {},
   "outputs": [],
   "source": [
    "import antigravity"
   ]
  },
  {
   "cell_type": "markdown",
   "metadata": {},
   "source": [
    "![](https://imgs.xkcd.com/comics/python.png)"
   ]
  },
  {
   "cell_type": "markdown",
   "metadata": {},
   "source": [
    "### 获取现在的时间"
   ]
  },
  {
   "cell_type": "code",
   "execution_count": 9,
   "metadata": {},
   "outputs": [
    {
     "name": "stdout",
     "output_type": "stream",
     "text": [
      "2018-09-12 10:28:34.021876\n"
     ]
    }
   ],
   "source": [
    "import datetime\n",
    "\n",
    "print datetime.datetime.now()"
   ]
  },
  {
   "cell_type": "markdown",
   "metadata": {},
   "source": [
    "### 几种常见的导入方式"
   ]
  },
  {
   "cell_type": "code",
   "execution_count": 2,
   "metadata": {},
   "outputs": [],
   "source": [
    "import datetime"
   ]
  },
  {
   "cell_type": "markdown",
   "metadata": {},
   "source": [
    "使用`as`可以改变模块的名称空间"
   ]
  },
  {
   "cell_type": "code",
   "execution_count": 4,
   "metadata": {},
   "outputs": [
    {
     "name": "stdout",
     "output_type": "stream",
     "text": [
      "2018-09-12 10:24:48.553585\n"
     ]
    }
   ],
   "source": [
    "import datetime as dt\n",
    "\n",
    "print dt.datetime.now()"
   ]
  },
  {
   "cell_type": "markdown",
   "metadata": {},
   "source": [
    "使用`from`从模块包（package）中导入子模块"
   ]
  },
  {
   "cell_type": "code",
   "execution_count": 6,
   "metadata": {},
   "outputs": [
    {
     "name": "stdout",
     "output_type": "stream",
     "text": [
      "2018-09-12 10:25:44.273490\n"
     ]
    }
   ],
   "source": [
    "from datetime import datetime\n",
    "\n",
    "print datetime.now()"
   ]
  },
  {
   "cell_type": "markdown",
   "metadata": {},
   "source": [
    "使用通配符`*`导入所有子模块"
   ]
  },
  {
   "cell_type": "code",
   "execution_count": null,
   "metadata": {},
   "outputs": [],
   "source": [
    "from datetime import *"
   ]
  },
  {
   "cell_type": "markdown",
   "metadata": {},
   "source": [
    "混合使用`from`和`as`关键字"
   ]
  },
  {
   "cell_type": "markdown",
   "metadata": {},
   "source": [
    "> Python内建函数`dir`可以用来查看对象的属性和方法，这个方法同样可以用于模块对象"
   ]
  },
  {
   "cell_type": "code",
   "execution_count": 10,
   "metadata": {
    "scrolled": true
   },
   "outputs": [
    {
     "name": "stdout",
     "output_type": "stream",
     "text": [
      "['MAXYEAR', 'MINYEAR', '__doc__', '__file__', '__name__', '__package__', 'date', 'datetime', 'datetime_CAPI', 'time', 'timedelta', 'tzinfo']\n"
     ]
    }
   ],
   "source": [
    "import datetime\n",
    "print dir(datetime)"
   ]
  },
  {
   "cell_type": "code",
   "execution_count": 7,
   "metadata": {},
   "outputs": [
    {
     "name": "stdout",
     "output_type": "stream",
     "text": [
      "2018-09-12 10:26:22.151123\n"
     ]
    }
   ],
   "source": [
    "from datetime import datetime as ddt\n",
    "\n",
    "print ddt.now()"
   ]
  },
  {
   "cell_type": "markdown",
   "metadata": {},
   "source": [
    "## 课堂案例：猜数字游戏\n",
    "\n",
    "根据下面的规则实现一个python脚本游戏\n",
    "\n",
    "- 在0-100之间随机生成目标整数\n",
    "- 允许用户输入5次答案\n",
    "- 在用户输入错误时提示答案相比目标数字大小\n",
    "- 输入正确游戏胜利并退出，所有机会耗尽游戏失败"
   ]
  },
  {
   "cell_type": "markdown",
   "metadata": {},
   "source": [
    "思路梳理：\n",
    "\n",
    "- 先思考用户的操作方式（从需求出发）\n",
    "- 用伪代码建立基本程序框架（由上而下设计）\n",
    "- 构建程序\n",
    "    - 思考各个模块涉及的技术点（技术筹备）\n",
    "    - 逐一实现这些代码块\n",
    "    - 在构建中不断调整和完善程序框架"
   ]
  },
  {
   "cell_type": "markdown",
   "metadata": {},
   "source": [
    "### 伪代码构建程序框架"
   ]
  },
  {
   "cell_type": "code",
   "execution_count": null,
   "metadata": {},
   "outputs": [],
   "source": [
    "# 生成一个随机的谜底\n",
    "\n",
    "# 循环5次，每次都要求用户输入，并将输入值与谜底对比。回答正确，则提前结束循环\n",
    "    # 在一次循环内\n",
    "    # 要求用户输入一个0-100的数字\n",
    "\n",
    "    # 对比用户输入与谜底\n",
    "\n",
    "    # 如果输入大于谜底，则打印“数字过大”\n",
    "\n",
    "    # 如果输入小于谜底，则打印“数字过小”\n",
    "\n",
    "    # 否则打印“回答正确”，并跳出循环\n",
    "\n",
    "# 如果剩余次数>0,则打印恭喜信息；否则打印“Game Over”"
   ]
  },
  {
   "cell_type": "markdown",
   "metadata": {},
   "source": [
    "#### random模块"
   ]
  },
  {
   "cell_type": "code",
   "execution_count": 12,
   "metadata": {},
   "outputs": [
    {
     "name": "stdout",
     "output_type": "stream",
     "text": [
      "Help on method randint in module random:\n",
      "\n",
      "randint(self, a, b) method of random.Random instance\n",
      "    Return random integer in range [a, b], including both end points.\n",
      "\n"
     ]
    }
   ],
   "source": [
    "import random\n",
    "\n",
    "help(random.randint)"
   ]
  },
  {
   "cell_type": "code",
   "execution_count": 13,
   "metadata": {},
   "outputs": [
    {
     "data": {
      "text/plain": [
       "7"
      ]
     },
     "execution_count": 13,
     "metadata": {},
     "output_type": "execute_result"
    }
   ],
   "source": [
    "random.randint(1, 100)"
   ]
  },
  {
   "cell_type": "code",
   "execution_count": 16,
   "metadata": {},
   "outputs": [
    {
     "data": {
      "text/plain": [
       "38"
      ]
     },
     "execution_count": 16,
     "metadata": {},
     "output_type": "execute_result"
    }
   ],
   "source": [
    "random.randint(1, 100)"
   ]
  },
  {
   "cell_type": "code",
   "execution_count": 17,
   "metadata": {},
   "outputs": [
    {
     "data": {
      "text/plain": [
       "13"
      ]
     },
     "execution_count": 17,
     "metadata": {},
     "output_type": "execute_result"
    }
   ],
   "source": [
    "random.randint(1, 100)"
   ]
  },
  {
   "cell_type": "markdown",
   "metadata": {},
   "source": [
    "## 作业：乌龟画画\n",
    "\n",
    "尝试画个五角星吧"
   ]
  },
  {
   "cell_type": "code",
   "execution_count": null,
   "metadata": {},
   "outputs": [],
   "source": [
    "import turtle\n",
    "\n",
    "# 创建画布，设置背景色\n",
    "wn = turtle.Screen() \n",
    "wn.bgcolor(\"lightgreen\")\n",
    "\n",
    "# 创建一只笔，设置好颜色和粗细\n",
    "pen = turtle.Turtle()\n",
    "pen.color(\"hotpink\")\n",
    "pen.pensize(5)\n",
    "\n",
    "# TODO: 开始画画吧！"
   ]
  },
  {
   "cell_type": "markdown",
   "metadata": {},
   "source": [
    "## 作业：石头剪刀布"
   ]
  },
  {
   "cell_type": "code",
   "execution_count": 25,
   "metadata": {},
   "outputs": [
    {
     "name": "stdout",
     "output_type": "stream",
     "text": [
      "游戏开始！\n",
      "石头，剪刀, 布...\n",
      "电脑出了： 0\n"
     ]
    }
   ],
   "source": [
    "# 提示游戏开始\n",
    "print \"游戏开始！\"\n",
    "\n",
    "print \"石头，剪刀, 布...\"\n",
    "\n",
    "# 获取用户选择\n",
    "your_choice = 0    # FIXME: 提示用户输入他的选择\n",
    "\n",
    "# 随机生成计算机的选择\n",
    "computer_choice = 0    # FIXME: 随机生成此结果\n",
    "\n",
    "# 提示用户电脑的选择\n",
    "\n",
    "print \"电脑出了：\", computer_choice \n",
    "\n",
    "# TODO: 补充下方代码，根据具体情况输出“胜利”、“失败”、“平局”的结果\n",
    "            "
   ]
  },
  {
   "cell_type": "markdown",
   "metadata": {},
   "source": [
    "### 本课结语\n",
    "\n",
    "在本节课中，我们已经学习了以下几个内容：\n",
    "- 变量\n",
    "- 标准输入\n",
    "- 导入模块 import\n",
    "- if...elif..else\n",
    "- while循环\n",
    "\n",
    "如果你还没有熟练地掌握这些知识，我建议你通过以下几种方式提高自己：\n",
    "\n",
    "- 反复地阅读这一节课的内容；\n",
    "- 依据本课知识，举一反三地进行更多的练习；\n",
    "- 到互联网上浏览和补充相关的知识，完善和巩固知识体系；\n",
    "- 在我们的课堂群中和我们进行更多的交流。\n",
    "\n",
    "如果你觉得本课内容对你有帮助，欢迎到我们的[课程](https://ke.qq.com/course/328764?tuin=2a5bd9a8)中进行评价，给予我们一个珍贵的好评。"
   ]
  }
 ],
 "metadata": {
  "kernelspec": {
   "display_name": "Python 2",
   "language": "python",
   "name": "python2"
  },
  "language_info": {
   "codemirror_mode": {
    "name": "ipython",
    "version": 2
   },
   "file_extension": ".py",
   "mimetype": "text/x-python",
   "name": "python",
   "nbconvert_exporter": "python",
   "pygments_lexer": "ipython2",
   "version": "2.7.14"
  }
 },
 "nbformat": 4,
 "nbformat_minor": 2
}
