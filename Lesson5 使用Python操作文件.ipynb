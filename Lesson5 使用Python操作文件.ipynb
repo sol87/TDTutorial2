{
 "cells": [
  {
   "cell_type": "markdown",
   "metadata": {
    "collapsed": true
   },
   "source": [
    "# Lesson5 使用Python操作文件"
   ]
  },
  {
   "cell_type": "markdown",
   "metadata": {},
   "source": [
    "## 课程内容\n",
    "\n",
    "同学，你好！欢迎来到第四课。\n",
    "\n",
    "在上一次课中，我们学习了变量和基础控制流相关的知识，包括\n",
    "\n",
    "- 变量\n",
    "- 标准输入\n",
    "- 导入模块 import\n",
    "- if...elif..else\n",
    "- while循环\n",
    "\n",
    "现在你应该已经可以写出自己的脚本代码了。\n",
    "\n",
    "今天这节课我们将继续学习，以几个实用的需求为案例，向大家讲解更多的Python开发技巧。主要内容有：\n",
    "\n",
    "- 最常用的数据结构`list`\n",
    "- 操作系统相关的自建模块`os`、`sys`、`shutil`\n",
    "- 文件IO操作\n"
   ]
  },
  {
   "cell_type": "markdown",
   "metadata": {},
   "source": [
    "## 基本数据结构——列表`list`\n",
    "\n",
    "列表是一种有序且可重复的元素集合，可以非常方便地增减元素、分割、排序、过滤、迭代操作。"
   ]
  },
  {
   "cell_type": "markdown",
   "metadata": {},
   "source": [
    "列表的特征是**以中括号`[]`包围，元素之间以逗号分隔**。"
   ]
  },
  {
   "cell_type": "code",
   "execution_count": 3,
   "metadata": {},
   "outputs": [
    {
     "name": "stdout",
     "output_type": "stream",
     "text": [
      "[1, 2, 3, 4]\n",
      "<type 'list'>\n"
     ]
    }
   ],
   "source": [
    "int_list = [1, 2, 3, 4]\n",
    "print int_list\n",
    "print type(int_list)"
   ]
  },
  {
   "cell_type": "markdown",
   "metadata": {},
   "source": [
    "> 列表的元素可以是任意类型的"
   ]
  },
  {
   "cell_type": "code",
   "execution_count": 4,
   "metadata": {},
   "outputs": [
    {
     "name": "stdout",
     "output_type": "stream",
     "text": [
      "['Aaron', 'Baron', 'Caron'] <type 'list'>\n"
     ]
    }
   ],
   "source": [
    "name_list = [\"Aaron\", \"Baron\", \"Caron\"]\n",
    "print name_list, type(name_list)"
   ]
  },
  {
   "cell_type": "code",
   "execution_count": 5,
   "metadata": {},
   "outputs": [
    {
     "name": "stdout",
     "output_type": "stream",
     "text": [
      "[99, 'hello', [1, 2, 3], ['Aaron', 'Baron', 'Caron']]\n",
      "<type 'list'>\n"
     ]
    }
   ],
   "source": [
    "complex_list = [99, \"hello\", [1,2,3], name_list]\n",
    "print complex_list\n",
    "print type(complex_list)"
   ]
  },
  {
   "cell_type": "markdown",
   "metadata": {},
   "source": [
    "### 生成数字列表"
   ]
  },
  {
   "cell_type": "code",
   "execution_count": 6,
   "metadata": {},
   "outputs": [
    {
     "name": "stdout",
     "output_type": "stream",
     "text": [
      "[0, 1, 2, 3, 4, 5, 6, 7, 8, 9]\n"
     ]
    }
   ],
   "source": [
    "numbers = range(10)\n",
    "print numbers"
   ]
  },
  {
   "cell_type": "markdown",
   "metadata": {},
   "source": [
    "### 获取列表元素"
   ]
  },
  {
   "cell_type": "code",
   "execution_count": 7,
   "metadata": {},
   "outputs": [
    {
     "name": "stdout",
     "output_type": "stream",
     "text": [
      "0\n"
     ]
    }
   ],
   "source": [
    "print numbers[0]"
   ]
  },
  {
   "cell_type": "code",
   "execution_count": 8,
   "metadata": {},
   "outputs": [
    {
     "name": "stdout",
     "output_type": "stream",
     "text": [
      "1\n"
     ]
    }
   ],
   "source": [
    "print numbers[1]"
   ]
  },
  {
   "cell_type": "code",
   "execution_count": 1,
   "metadata": {},
   "outputs": [
    {
     "ename": "NameError",
     "evalue": "name 'numbers' is not defined",
     "output_type": "error",
     "traceback": [
      "\u001b[0;31m\u001b[0m",
      "\u001b[0;31mNameError\u001b[0mTraceback (most recent call last)",
      "\u001b[0;32m<ipython-input-1-4fbf80f0c2d0>\u001b[0m in \u001b[0;36m<module>\u001b[0;34m()\u001b[0m\n\u001b[0;32m----> 1\u001b[0;31m \u001b[0;32mprint\u001b[0m \u001b[0mnumbers\u001b[0m\u001b[0;34m[\u001b[0m\u001b[0;36m10\u001b[0m\u001b[0;34m]\u001b[0m\u001b[0;34m\u001b[0m\u001b[0m\n\u001b[0m",
      "\u001b[0;31mNameError\u001b[0m: name 'numbers' is not defined"
     ]
    }
   ],
   "source": [
    "print numbers[10]    # 索引号超出范围，则会触发报错"
   ]
  },
  {
   "cell_type": "code",
   "execution_count": 10,
   "metadata": {},
   "outputs": [
    {
     "name": "stdout",
     "output_type": "stream",
     "text": [
      "9\n"
     ]
    }
   ],
   "source": [
    "print numbers[-1]"
   ]
  },
  {
   "cell_type": "code",
   "execution_count": 11,
   "metadata": {},
   "outputs": [
    {
     "name": "stdout",
     "output_type": "stream",
     "text": [
      "8\n"
     ]
    }
   ],
   "source": [
    "print numbers[-2]"
   ]
  },
  {
   "cell_type": "code",
   "execution_count": 12,
   "metadata": {},
   "outputs": [
    {
     "name": "stdout",
     "output_type": "stream",
     "text": [
      "0\n"
     ]
    }
   ],
   "source": [
    "print numbers[-10]"
   ]
  },
  {
   "cell_type": "code",
   "execution_count": 2,
   "metadata": {},
   "outputs": [
    {
     "ename": "NameError",
     "evalue": "name 'numbers' is not defined",
     "output_type": "error",
     "traceback": [
      "\u001b[0;31m\u001b[0m",
      "\u001b[0;31mNameError\u001b[0mTraceback (most recent call last)",
      "\u001b[0;32m<ipython-input-2-060c043fc88f>\u001b[0m in \u001b[0;36m<module>\u001b[0;34m()\u001b[0m\n\u001b[0;32m----> 1\u001b[0;31m \u001b[0;32mprint\u001b[0m \u001b[0mnumbers\u001b[0m\u001b[0;34m[\u001b[0m\u001b[0;34m-\u001b[0m\u001b[0;36m11\u001b[0m\u001b[0;34m]\u001b[0m\u001b[0;34m\u001b[0m\u001b[0m\n\u001b[0m",
      "\u001b[0;31mNameError\u001b[0m: name 'numbers' is not defined"
     ]
    }
   ],
   "source": [
    "print numbers[-11]    # 负索引号范围超出也将报错"
   ]
  },
  {
   "cell_type": "code",
   "execution_count": 4,
   "metadata": {},
   "outputs": [
    {
     "name": "stdout",
     "output_type": "stream",
     "text": [
      "hello\n"
     ]
    }
   ],
   "source": [
    "my_list = [1, 2, 3, [\"hello\", \"world\"]]\n",
    "print my_list[-1][0]"
   ]
  },
  {
   "cell_type": "markdown",
   "metadata": {},
   "source": [
    "### 修改列表元素"
   ]
  },
  {
   "cell_type": "code",
   "execution_count": 12,
   "metadata": {},
   "outputs": [
    {
     "name": "stdout",
     "output_type": "stream",
     "text": [
      "[10, 8, 7]\n"
     ]
    }
   ],
   "source": [
    "test_list = [9, 8, 7]\n",
    "test_list[0] = 10\n",
    "print test_list"
   ]
  },
  {
   "cell_type": "code",
   "execution_count": 13,
   "metadata": {},
   "outputs": [
    {
     "name": "stdout",
     "output_type": "stream",
     "text": [
      "[10, 9, 7]\n"
     ]
    }
   ],
   "source": [
    "test_list[1] += 1\n",
    "print test_list"
   ]
  },
  {
   "cell_type": "markdown",
   "metadata": {},
   "source": [
    "### 判断元素是否存在"
   ]
  },
  {
   "cell_type": "code",
   "execution_count": 5,
   "metadata": {},
   "outputs": [
    {
     "data": {
      "text/plain": [
       "True"
      ]
     },
     "execution_count": 5,
     "metadata": {},
     "output_type": "execute_result"
    }
   ],
   "source": [
    "2 in my_list"
   ]
  },
  {
   "cell_type": "code",
   "execution_count": 6,
   "metadata": {},
   "outputs": [
    {
     "data": {
      "text/plain": [
       "False"
      ]
     },
     "execution_count": 6,
     "metadata": {},
     "output_type": "execute_result"
    }
   ],
   "source": [
    "\"hello\" in my_list"
   ]
  },
  {
   "cell_type": "markdown",
   "metadata": {},
   "source": [
    "### 列表切片"
   ]
  },
  {
   "cell_type": "code",
   "execution_count": 15,
   "metadata": {},
   "outputs": [
    {
     "data": {
      "text/plain": [
       "[0, 1, 2]"
      ]
     },
     "execution_count": 15,
     "metadata": {},
     "output_type": "execute_result"
    }
   ],
   "source": [
    "numbers[0:3]"
   ]
  },
  {
   "cell_type": "code",
   "execution_count": 16,
   "metadata": {},
   "outputs": [
    {
     "data": {
      "text/plain": [
       "[0, 1, 2]"
      ]
     },
     "execution_count": 16,
     "metadata": {},
     "output_type": "execute_result"
    }
   ],
   "source": [
    "numbers[:3]"
   ]
  },
  {
   "cell_type": "code",
   "execution_count": 17,
   "metadata": {},
   "outputs": [
    {
     "data": {
      "text/plain": [
       "[3, 4, 5]"
      ]
     },
     "execution_count": 17,
     "metadata": {},
     "output_type": "execute_result"
    }
   ],
   "source": [
    "numbers[3:6]"
   ]
  },
  {
   "cell_type": "code",
   "execution_count": 18,
   "metadata": {},
   "outputs": [
    {
     "data": {
      "text/plain": [
       "[3, 4, 5, 6, 7, 8, 9]"
      ]
     },
     "execution_count": 18,
     "metadata": {},
     "output_type": "execute_result"
    }
   ],
   "source": [
    "numbers[3:]"
   ]
  },
  {
   "cell_type": "code",
   "execution_count": 19,
   "metadata": {},
   "outputs": [
    {
     "data": {
      "text/plain": [
       "[2, 3, 4, 5, 6, 7]"
      ]
     },
     "execution_count": 19,
     "metadata": {},
     "output_type": "execute_result"
    }
   ],
   "source": [
    "numbers[2:-2]"
   ]
  },
  {
   "cell_type": "markdown",
   "metadata": {},
   "source": [
    "### 列表的常用方法"
   ]
  },
  {
   "cell_type": "markdown",
   "metadata": {},
   "source": [
    "在Python中几乎所有的内容都是对象，列表也是一种常见的对象类型。与模块对象一样，你可以使用`dir`函数求出一个列表对象的所有`属性`和`方法`。"
   ]
  },
  {
   "cell_type": "markdown",
   "metadata": {},
   "source": [
    "> `属性Attribute`和`方法Method`是Python中常用的两个术语，分别指的是从属于对象或类的变量和函数。因此，你可以简单地理解为`属性`即是`变量`，`方法`即是`函数`。"
   ]
  },
  {
   "cell_type": "code",
   "execution_count": 20,
   "metadata": {},
   "outputs": [
    {
     "data": {
      "text/plain": [
       "['__add__',\n",
       " '__class__',\n",
       " '__contains__',\n",
       " '__delattr__',\n",
       " '__delitem__',\n",
       " '__delslice__',\n",
       " '__doc__',\n",
       " '__eq__',\n",
       " '__format__',\n",
       " '__ge__',\n",
       " '__getattribute__',\n",
       " '__getitem__',\n",
       " '__getslice__',\n",
       " '__gt__',\n",
       " '__hash__',\n",
       " '__iadd__',\n",
       " '__imul__',\n",
       " '__init__',\n",
       " '__iter__',\n",
       " '__le__',\n",
       " '__len__',\n",
       " '__lt__',\n",
       " '__mul__',\n",
       " '__ne__',\n",
       " '__new__',\n",
       " '__reduce__',\n",
       " '__reduce_ex__',\n",
       " '__repr__',\n",
       " '__reversed__',\n",
       " '__rmul__',\n",
       " '__setattr__',\n",
       " '__setitem__',\n",
       " '__setslice__',\n",
       " '__sizeof__',\n",
       " '__str__',\n",
       " '__subclasshook__',\n",
       " 'append',\n",
       " 'count',\n",
       " 'extend',\n",
       " 'index',\n",
       " 'insert',\n",
       " 'pop',\n",
       " 'remove',\n",
       " 'reverse',\n",
       " 'sort']"
      ]
     },
     "execution_count": 20,
     "metadata": {},
     "output_type": "execute_result"
    }
   ],
   "source": [
    "dir(numbers)"
   ]
  },
  {
   "cell_type": "markdown",
   "metadata": {},
   "source": [
    "### `append`方法"
   ]
  },
  {
   "cell_type": "code",
   "execution_count": 21,
   "metadata": {},
   "outputs": [
    {
     "name": "stdout",
     "output_type": "stream",
     "text": [
      "[0, 1, 2, 3, 4, 5, 6, 7, 8, 9, 99]\n"
     ]
    }
   ],
   "source": [
    "# append方法用于追加元素\n",
    "numbers.append(99)\n",
    "print numbers"
   ]
  },
  {
   "cell_type": "markdown",
   "metadata": {},
   "source": [
    "### `count`方法"
   ]
  },
  {
   "cell_type": "code",
   "execution_count": 22,
   "metadata": {},
   "outputs": [
    {
     "data": {
      "text/plain": [
       "1"
      ]
     },
     "execution_count": 22,
     "metadata": {},
     "output_type": "execute_result"
    }
   ],
   "source": [
    "# count方法用于统计元素出现的次数\n",
    "numbers.count(99)"
   ]
  },
  {
   "cell_type": "markdown",
   "metadata": {},
   "source": [
    "### `extend`方法"
   ]
  },
  {
   "cell_type": "code",
   "execution_count": 23,
   "metadata": {},
   "outputs": [
    {
     "name": "stdout",
     "output_type": "stream",
     "text": [
      "[0, 1, 2, 3, 4, 5, 6, 7, 8, 9, 99, 'a', 'b', 'c']\n"
     ]
    }
   ],
   "source": [
    "# extend方法用于将一个列表追加到当前列表中\n",
    "new_list = [\"a\", \"b\", \"c\"]\n",
    "numbers.extend(new_list)\n",
    "print numbers"
   ]
  },
  {
   "cell_type": "markdown",
   "metadata": {},
   "source": [
    "### `index`方法"
   ]
  },
  {
   "cell_type": "code",
   "execution_count": 24,
   "metadata": {},
   "outputs": [
    {
     "data": {
      "text/plain": [
       "11"
      ]
     },
     "execution_count": 24,
     "metadata": {},
     "output_type": "execute_result"
    }
   ],
   "source": [
    "# index方法用于查询元素索引号\n",
    "numbers.index(\"a\")"
   ]
  },
  {
   "cell_type": "code",
   "execution_count": 25,
   "metadata": {},
   "outputs": [
    {
     "data": {
      "text/plain": [
       "10"
      ]
     },
     "execution_count": 25,
     "metadata": {},
     "output_type": "execute_result"
    }
   ],
   "source": [
    "numbers.index(99)"
   ]
  },
  {
   "cell_type": "markdown",
   "metadata": {},
   "source": [
    "### `insert`方法"
   ]
  },
  {
   "cell_type": "code",
   "execution_count": 26,
   "metadata": {},
   "outputs": [
    {
     "name": "stdout",
     "output_type": "stream",
     "text": [
      "[0, 1, 2, 'inserted_item', 3, 4, 5, 6, 7, 8, 9, 99, 'a', 'b', 'c']\n"
     ]
    }
   ],
   "source": [
    "# insert方法用于在列表中插入元素\n",
    "numbers.insert(3, \"inserted_item\")\n",
    "print numbers"
   ]
  },
  {
   "cell_type": "markdown",
   "metadata": {},
   "source": [
    "### `pop`方法"
   ]
  },
  {
   "cell_type": "code",
   "execution_count": 27,
   "metadata": {},
   "outputs": [
    {
     "name": "stdout",
     "output_type": "stream",
     "text": [
      "c [0, 1, 2, 'inserted_item', 3, 4, 5, 6, 7, 8, 9, 99, 'a', 'b']\n"
     ]
    }
   ],
   "source": [
    "# pop方法用于从列表中取出数据，默认取最后一位，当index参数不为空时取index所对应的元素。当元素被取出后，其在列表中将被删除。\n",
    "poped_item = numbers.pop()\n",
    "print poped_item, numbers"
   ]
  },
  {
   "cell_type": "code",
   "execution_count": 28,
   "metadata": {},
   "outputs": [
    {
     "name": "stdout",
     "output_type": "stream",
     "text": [
      "inserted_item [0, 1, 2, 3, 4, 5, 6, 7, 8, 9, 99, 'a', 'b']\n"
     ]
    }
   ],
   "source": [
    "poped_item = numbers.pop(3)\n",
    "print poped_item, numbers"
   ]
  },
  {
   "cell_type": "markdown",
   "metadata": {},
   "source": [
    "### `remove`方法"
   ]
  },
  {
   "cell_type": "code",
   "execution_count": 29,
   "metadata": {},
   "outputs": [
    {
     "name": "stdout",
     "output_type": "stream",
     "text": [
      "None [0, 1, 2, 3, 4, 5, 6, 7, 8, 9, 99, 'b']\n"
     ]
    }
   ],
   "source": [
    "# remove方法，删除元素\n",
    "removed_item = numbers.remove('a')\n",
    "print removed_item, numbers"
   ]
  },
  {
   "cell_type": "code",
   "execution_count": 30,
   "metadata": {},
   "outputs": [
    {
     "name": "stdout",
     "output_type": "stream",
     "text": [
      "[0, 1, 2, 3, 4, 5, 6, 7, 8, 9, 'b']\n"
     ]
    }
   ],
   "source": [
    "numbers.remove(99)\n",
    "print numbers"
   ]
  },
  {
   "cell_type": "markdown",
   "metadata": {},
   "source": [
    "### `reverse`方法"
   ]
  },
  {
   "cell_type": "code",
   "execution_count": 31,
   "metadata": {},
   "outputs": [
    {
     "name": "stdout",
     "output_type": "stream",
     "text": [
      "['b', 9, 8, 7, 6, 5, 4, 3, 2, 1, 0]\n"
     ]
    }
   ],
   "source": [
    "# reverse方法用于反转列表\n",
    "numbers.reverse()\n",
    "print numbers"
   ]
  },
  {
   "cell_type": "code",
   "execution_count": 32,
   "metadata": {},
   "outputs": [
    {
     "name": "stdout",
     "output_type": "stream",
     "text": [
      "<listreverseiterator object at 0x7f85011d7490>\n",
      "0\n",
      "1\n",
      "2\n",
      "3\n",
      "4\n",
      "5\n",
      "6\n",
      "7\n",
      "8\n",
      "9\n",
      "b\n"
     ]
    }
   ],
   "source": [
    "# reversed函数是一个类似于reverse方法的Python内建函数，区别于reverse方法的是，reversed函数不会破坏原列表，而是会生成一个新的迭代器对象。\n",
    "reversed_numbers = reversed(numbers)\n",
    "print reversed_numbers\n",
    "for i in reversed_numbers: print i"
   ]
  },
  {
   "cell_type": "markdown",
   "metadata": {},
   "source": [
    "### `sort`方法"
   ]
  },
  {
   "cell_type": "code",
   "execution_count": 33,
   "metadata": {},
   "outputs": [
    {
     "name": "stdout",
     "output_type": "stream",
     "text": [
      "[0, 1, 1, 3, 4, 6, 9, 32, 78]\n"
     ]
    }
   ],
   "source": [
    "my_list = [3, 1, 4, 6, 78, 32, 9, 1, 0]\n",
    "my_list.sort()\n",
    "print my_list"
   ]
  },
  {
   "cell_type": "code",
   "execution_count": 34,
   "metadata": {},
   "outputs": [
    {
     "name": "stdout",
     "output_type": "stream",
     "text": [
      "[0, 1, 1, 3, 4, 6, 9, 32, 78]\n",
      "[3, 1, 4, 6, 78, 32, 9, 1, 0]\n"
     ]
    }
   ],
   "source": [
    "my_list = [3, 1, 4, 6, 78, 32, 9, 1, 0]\n",
    "sorted_list = sorted(my_list)\n",
    "print sorted_list\n",
    "print my_list"
   ]
  },
  {
   "cell_type": "markdown",
   "metadata": {},
   "source": [
    "> 思考：列表可以作为自己的元素吗？会怎样？"
   ]
  },
  {
   "cell_type": "markdown",
   "metadata": {},
   "source": [
    "> 课后作业：之前学习过的`str`类型的对象都有哪些可用的方法呢？不妨上网搜索一下吧。"
   ]
  },
  {
   "cell_type": "markdown",
   "metadata": {},
   "source": [
    "## 文件操作相关模块"
   ]
  },
  {
   "cell_type": "markdown",
   "metadata": {},
   "source": [
    "### `os`模块\n",
    "\n",
    "`os`模块是python与计算机操作系统交互的模块，它提供了一系列访问操作系统相关功能的功能。`os`模块的功能非常丰富，本节课中我只挑选了一些和访问文件相关的函数介绍给你。"
   ]
  },
  {
   "cell_type": "code",
   "execution_count": 35,
   "metadata": {},
   "outputs": [
    {
     "data": {
      "text/plain": [
       "'/home/nbuser/library'"
      ]
     },
     "execution_count": 35,
     "metadata": {},
     "output_type": "execute_result"
    }
   ],
   "source": [
    "import os\n",
    "\n",
    "os.getcwd()    # 获取当前工作路径"
   ]
  },
  {
   "cell_type": "code",
   "execution_count": 36,
   "metadata": {},
   "outputs": [],
   "source": [
    "os.mkdir(\"test_folder\")    # 创建文件夹"
   ]
  },
  {
   "cell_type": "code",
   "execution_count": 37,
   "metadata": {},
   "outputs": [
    {
     "data": {
      "text/plain": [
       "['Lesson4 \\xe5\\x8f\\x98\\xe9\\x87\\x8f\\xe4\\xb8\\x8e\\xe5\\x9f\\xba\\xe7\\xa1\\x80\\xe6\\x8e\\xa7\\xe5\\x88\\xb6\\xe6\\xb5\\x81.ipynb',\n",
       " 'test_folder',\n",
       " '.git',\n",
       " 'Lesson3 Python\\xe5\\xbc\\x80\\xe5\\x8f\\x91\\xe5\\x88\\x9d\\xe4\\xbd\\x93\\xe9\\xaa\\x8c.ipynb',\n",
       " 'notebook.tex',\n",
       " 'examples',\n",
       " '.ipynb_checkpoints',\n",
       " 'README.md',\n",
       " '.gitignore',\n",
       " 'Lesson5 \\xe4\\xbd\\xbf\\xe7\\x94\\xa8Python\\xe6\\x93\\x8d\\xe4\\xbd\\x9c\\xe6\\x96\\x87\\xe4\\xbb\\xb6.ipynb',\n",
       " '.library.json',\n",
       " 'Lesson6 \\xe5\\xb8\\xb8\\xe7\\x94\\xa8\\xe6\\x95\\xb0\\xe6\\x8d\\xae\\xe7\\xbb\\x93\\xe6\\x9e\\x84.ipynb']"
      ]
     },
     "execution_count": 37,
     "metadata": {},
     "output_type": "execute_result"
    }
   ],
   "source": [
    "os.listdir(os.getcwd())    # 列举目录中的内容"
   ]
  },
  {
   "cell_type": "code",
   "execution_count": 38,
   "metadata": {},
   "outputs": [],
   "source": [
    "os.chdir(\"./test_folder\")    # 重新设置工作路径为当前路径下的test_folder"
   ]
  },
  {
   "cell_type": "code",
   "execution_count": 39,
   "metadata": {},
   "outputs": [
    {
     "data": {
      "text/plain": [
       "'/home/nbuser/library/test_folder'"
      ]
     },
     "execution_count": 39,
     "metadata": {},
     "output_type": "execute_result"
    }
   ],
   "source": [
    "os.getcwd()"
   ]
  },
  {
   "cell_type": "code",
   "execution_count": 40,
   "metadata": {},
   "outputs": [],
   "source": [
    "os.rmdir(\"../test_folder\")    # 删除工作路径上一层文件夹下的test_folder文件夹"
   ]
  },
  {
   "cell_type": "code",
   "execution_count": 41,
   "metadata": {},
   "outputs": [],
   "source": [
    "os.chdir(\"../\")"
   ]
  },
  {
   "cell_type": "code",
   "execution_count": 42,
   "metadata": {},
   "outputs": [
    {
     "data": {
      "text/plain": [
       "['Lesson4 \\xe5\\x8f\\x98\\xe9\\x87\\x8f\\xe4\\xb8\\x8e\\xe5\\x9f\\xba\\xe7\\xa1\\x80\\xe6\\x8e\\xa7\\xe5\\x88\\xb6\\xe6\\xb5\\x81.ipynb',\n",
       " '.git',\n",
       " 'Lesson3 Python\\xe5\\xbc\\x80\\xe5\\x8f\\x91\\xe5\\x88\\x9d\\xe4\\xbd\\x93\\xe9\\xaa\\x8c.ipynb',\n",
       " 'notebook.tex',\n",
       " 'examples',\n",
       " '.ipynb_checkpoints',\n",
       " 'README.md',\n",
       " '.gitignore',\n",
       " 'Lesson5 \\xe4\\xbd\\xbf\\xe7\\x94\\xa8Python\\xe6\\x93\\x8d\\xe4\\xbd\\x9c\\xe6\\x96\\x87\\xe4\\xbb\\xb6.ipynb',\n",
       " '.library.json',\n",
       " 'Lesson6 \\xe5\\xb8\\xb8\\xe7\\x94\\xa8\\xe6\\x95\\xb0\\xe6\\x8d\\xae\\xe7\\xbb\\x93\\xe6\\x9e\\x84.ipynb']"
      ]
     },
     "execution_count": 42,
     "metadata": {},
     "output_type": "execute_result"
    }
   ],
   "source": [
    "os.listdir(os.getcwd())"
   ]
  },
  {
   "cell_type": "code",
   "execution_count": 43,
   "metadata": {},
   "outputs": [],
   "source": [
    "os.makedirs(\"./test_parent_folder/sub_folder\")    # 递归创建文件夹"
   ]
  },
  {
   "cell_type": "code",
   "execution_count": 44,
   "metadata": {},
   "outputs": [
    {
     "data": {
      "text/plain": [
       "['Lesson4 \\xe5\\x8f\\x98\\xe9\\x87\\x8f\\xe4\\xb8\\x8e\\xe5\\x9f\\xba\\xe7\\xa1\\x80\\xe6\\x8e\\xa7\\xe5\\x88\\xb6\\xe6\\xb5\\x81.ipynb',\n",
       " '.git',\n",
       " 'Lesson3 Python\\xe5\\xbc\\x80\\xe5\\x8f\\x91\\xe5\\x88\\x9d\\xe4\\xbd\\x93\\xe9\\xaa\\x8c.ipynb',\n",
       " 'notebook.tex',\n",
       " 'examples',\n",
       " '.ipynb_checkpoints',\n",
       " 'README.md',\n",
       " '.gitignore',\n",
       " 'test_parent_folder',\n",
       " 'Lesson5 \\xe4\\xbd\\xbf\\xe7\\x94\\xa8Python\\xe6\\x93\\x8d\\xe4\\xbd\\x9c\\xe6\\x96\\x87\\xe4\\xbb\\xb6.ipynb',\n",
       " '.library.json',\n",
       " 'Lesson6 \\xe5\\xb8\\xb8\\xe7\\x94\\xa8\\xe6\\x95\\xb0\\xe6\\x8d\\xae\\xe7\\xbb\\x93\\xe6\\x9e\\x84.ipynb']"
      ]
     },
     "execution_count": 44,
     "metadata": {},
     "output_type": "execute_result"
    }
   ],
   "source": [
    "os.listdir(os.getcwd())"
   ]
  },
  {
   "cell_type": "code",
   "execution_count": 45,
   "metadata": {},
   "outputs": [
    {
     "name": "stdout",
     "output_type": "stream",
     "text": [
      "/home/nbuser/library/test_parent_folder\n"
     ]
    }
   ],
   "source": [
    "parent_dir = os.path.join(os.getcwd(), \"test_parent_folder\")    # 组合路径\n",
    "print parent_dir"
   ]
  },
  {
   "cell_type": "code",
   "execution_count": 46,
   "metadata": {},
   "outputs": [
    {
     "data": {
      "text/plain": [
       "True"
      ]
     },
     "execution_count": 46,
     "metadata": {},
     "output_type": "execute_result"
    }
   ],
   "source": [
    "os.path.exists(parent_dir)   # 判断路径是否存在（是文件夹或文件）"
   ]
  },
  {
   "cell_type": "code",
   "execution_count": 47,
   "metadata": {},
   "outputs": [
    {
     "data": {
      "text/plain": [
       "True"
      ]
     },
     "execution_count": 47,
     "metadata": {},
     "output_type": "execute_result"
    }
   ],
   "source": [
    "os.path.isdir(parent_dir)    # 判断路径是否为文件夹"
   ]
  },
  {
   "cell_type": "code",
   "execution_count": 48,
   "metadata": {},
   "outputs": [
    {
     "data": {
      "text/plain": [
       "False"
      ]
     },
     "execution_count": 48,
     "metadata": {},
     "output_type": "execute_result"
    }
   ],
   "source": [
    "os.path.isfile(parent_dir)    # 判断路径是否为文件"
   ]
  },
  {
   "cell_type": "code",
   "execution_count": 49,
   "metadata": {},
   "outputs": [
    {
     "data": {
      "text/plain": [
       "True"
      ]
     },
     "execution_count": 49,
     "metadata": {},
     "output_type": "execute_result"
    }
   ],
   "source": [
    "sub_dir = os.path.join(parent_dir, \"sub_folder\")\n",
    "os.path.exists(sub_dir)"
   ]
  },
  {
   "cell_type": "code",
   "execution_count": 50,
   "metadata": {},
   "outputs": [],
   "source": [
    "new_path = \"/home/nbuser/library/examples\"\n",
    "os.rename(sub_dir, new_path)    # 移动并重命名"
   ]
  },
  {
   "cell_type": "code",
   "execution_count": 51,
   "metadata": {},
   "outputs": [
    {
     "data": {
      "text/plain": [
       "False"
      ]
     },
     "execution_count": 51,
     "metadata": {},
     "output_type": "execute_result"
    }
   ],
   "source": [
    "os.path.exists(sub_dir)"
   ]
  },
  {
   "cell_type": "code",
   "execution_count": 52,
   "metadata": {},
   "outputs": [
    {
     "data": {
      "text/plain": [
       "True"
      ]
     },
     "execution_count": 52,
     "metadata": {},
     "output_type": "execute_result"
    }
   ],
   "source": [
    "os.path.exists(new_path)"
   ]
  },
  {
   "cell_type": "code",
   "execution_count": 53,
   "metadata": {},
   "outputs": [
    {
     "data": {
      "text/plain": [
       "'/home/nbuser/library'"
      ]
     },
     "execution_count": 53,
     "metadata": {},
     "output_type": "execute_result"
    }
   ],
   "source": [
    "os.path.dirname(new_path)    # 获取父路径"
   ]
  },
  {
   "cell_type": "code",
   "execution_count": 54,
   "metadata": {},
   "outputs": [
    {
     "data": {
      "text/plain": [
       "('/home/nbuser/library', 'examples')"
      ]
     },
     "execution_count": 54,
     "metadata": {},
     "output_type": "execute_result"
    }
   ],
   "source": [
    "os.path.split(new_path)    # 切分路径"
   ]
  },
  {
   "cell_type": "code",
   "execution_count": 55,
   "metadata": {},
   "outputs": [],
   "source": [
    "os.removedirs(parent_dir)    # 删除文件夹"
   ]
  },
  {
   "cell_type": "markdown",
   "metadata": {},
   "source": [
    "### `shutil`模块\n",
    "\n",
    "`shutil`是Python内建的一个高级文件操作模块，提供了一些针对文件操作和文件采集相关的高级功能。在`os`模块相关功能的基础上进行了升级，形成了一系列专门为文件操作而设计的功能集合。"
   ]
  },
  {
   "cell_type": "code",
   "execution_count": 56,
   "metadata": {},
   "outputs": [],
   "source": [
    "import shutil    # 导入模块\n",
    "\n",
    "test_file_path = \"/home/nbuser/library/examples/test_file\"\n",
    "new_file_path = test_file_path + \"_new\""
   ]
  },
  {
   "cell_type": "code",
   "execution_count": 58,
   "metadata": {},
   "outputs": [],
   "source": [
    "# copy函数可以将一个文件从一个路径复制到另一个路径下。\n",
    "shutil.copy(test_file_path, new_file_path)"
   ]
  },
  {
   "cell_type": "code",
   "execution_count": 60,
   "metadata": {},
   "outputs": [],
   "source": [
    "# copy2 == copy + copystat， 除了拷贝文件外，copy2还会将源文件的权限，最后访问时间，最后修改时间和各种文件标志也拷贝到目标文件上。\n",
    "another_new_file_path = test_file_path + \"_new2\"\n",
    "shutil.copy2(test_file_path, another_new_file_path)"
   ]
  },
  {
   "cell_type": "code",
   "execution_count": 62,
   "metadata": {},
   "outputs": [],
   "source": [
    "# move情况1\n",
    "# 如果目标是已存在的目录，则src将被移动到该目录中。\n",
    "folder_path = \"/home/nbuser/library/examples/lesson5\"\n",
    "shutil.move(test_file_path, folder_path)"
   ]
  },
  {
   "cell_type": "code",
   "execution_count": 68,
   "metadata": {},
   "outputs": [],
   "source": [
    "# move情况2\n",
    "# 如果目标是个已存在的文件，则会以os.rename()的方式覆盖它。\n",
    "another_file_path = \"/home/nbuser/library/examples/another_test_file\"\n",
    "exists_test_file = os.path.join(folder_path, \"test_file\")\n",
    "shutil.move(another_file_path, exists_test_file)"
   ]
  },
  {
   "cell_type": "code",
   "execution_count": 69,
   "metadata": {},
   "outputs": [],
   "source": [
    "# move情况3\n",
    "# 如果目标和源在同一目录下，则相当于调用os.rename()；否则即为拷贝源文件至目标，然后删除源文件。\n",
    "new_name_path = os.path.join(folder_path, \"new_name\")\n",
    "shutil.move(exists_test_file, new_name_path)"
   ]
  },
  {
   "cell_type": "code",
   "execution_count": 70,
   "metadata": {},
   "outputs": [],
   "source": [
    "# rmtree 删除整个目录，参数路径必须指向一个真实存在的文件夹路径；\n",
    "# 忽略错误（ignore_errors ）参数为真时，将会自动忽略错误文件；\n",
    "# 当提供了onerror参数的内容时，其所指向的回调函数将会在出现错误时自动被调用。\n",
    "rm_folder_path = \"/home/nbuser/library/examples/lesson5/useless_folder\"\n",
    "shutil.rmtree(rm_folder_path)"
   ]
  },
  {
   "cell_type": "markdown",
   "metadata": {},
   "source": [
    "### `glob`模块\n",
    "\n",
    "`glob`模块提供了一种unix风格的文件名称匹配的功能，可以非常方便地帮助我们按名称过滤查找文件。"
   ]
  },
  {
   "cell_type": "markdown",
   "metadata": {},
   "source": [
    "## 课堂案例: 整理旧的文件"
   ]
  },
  {
   "cell_type": "markdown",
   "metadata": {},
   "source": [
    "将文件夹内的文件按最近修改的时间自动整理到“最近使用的”和“旧文件”两个文件夹内。"
   ]
  },
  {
   "cell_type": "code",
   "execution_count": 71,
   "metadata": {},
   "outputs": [],
   "source": [
    "# coding=utf8\n",
    "import os           # 操作系统相关的模块\n",
    "import time         # 用来获取时间和处理时间的模块\n",
    "import datetime     # 专门用来获取日期的模块\n",
    "import shutil       # 文件操作的模块\n",
    "\n",
    "'''将指定目录下的文件，按照最后修改日期，根据条件(是否在一周之内修改过)归类到new和old两个文件夹内'''\n",
    "\n",
    "# 要处理的路径\n",
    "source_dir = u\"/home/nbuser/library/examples/lesson5\"\n",
    "\n",
    "# 创建new目录\n",
    "new_dir = os.path.join(source_dir, 'new')\n",
    "if not os.path.exists(new_dir):\n",
    "    os.makedirs(new_dir)\n",
    "\n",
    "# 创建old目录\n",
    "old_dir = os.path.join(source_dir, 'old')\n",
    "if not os.path.exists(old_dir):\n",
    "    os.makedirs(old_dir)\n",
    "\n",
    "# 分类条件, 一周前的日期\n",
    "condition = datetime.date.today() + datetime.timedelta(days=-7)\n",
    "# 将时间格式化为时间戳用于计算\n",
    "format_condition = time.mktime(condition.timetuple())\n",
    "\n",
    "for file_name in os.listdir(source_dir):\n",
    "    # 获取文件完整路径\n",
    "    source_path = os.path.join(source_dir, file_name)\n",
    "    if os.path.isfile(source_path):\n",
    "        # 获取文件修改时间\n",
    "        modify_time = os.path.getmtime(source_path)\n",
    "        # 是否在一周之内修改过\n",
    "        if modify_time > format_condition:\n",
    "            # 如果修改过，将文件移动到new_dir\n",
    "            target_path = os.path.join(new_dir, file_name)\n",
    "            shutil.move(source_path, target_path)\n",
    "        else:\n",
    "            # 如果没有修改过，将文件移动到old_dir\n",
    "            target_path = os.path.join(old_dir, file_name)\n",
    "            shutil.move(source_path, target_path)\n"
   ]
  },
  {
   "cell_type": "markdown",
   "metadata": {},
   "source": [
    "## 文件IO操作"
   ]
  },
  {
   "cell_type": "markdown",
   "metadata": {},
   "source": [
    "### 文件IO的自建命令`open`、`file`"
   ]
  },
  {
   "cell_type": "markdown",
   "metadata": {},
   "source": [
    "`open`是Python提供的操作文件数据内容的内建函数，通过此函数可以创建一个`file`类型的对象。`file`函数和`open`有同样地效果，建议你使用`open`命令。"
   ]
  },
  {
   "cell_type": "markdown",
   "metadata": {},
   "source": [
    "### `File`对象\n"
   ]
  },
  {
   "cell_type": "markdown",
   "metadata": {},
   "source": [
    "### 写入打开文件"
   ]
  },
  {
   "cell_type": "code",
   "execution_count": 72,
   "metadata": {},
   "outputs": [],
   "source": [
    "test_open_file_path = \"/home/nbuser/library/examples/lesson5/test_open_file\"\n",
    "file_obj = open(test_open_file_path, \"w\")    # \"w\"表示写入，新建文件时应当使用写入的方式\n",
    "content_str = \"\"\"\n",
    "这是一些希望被写入到文件中的内容。\n",
    "第二行内容，\n",
    "第三行内容。\n",
    "\"\"\"\n",
    "file_obj.write(content_str)\n",
    "file_obj.close()"
   ]
  },
  {
   "cell_type": "markdown",
   "metadata": {},
   "source": [
    "### 只读打开文件"
   ]
  },
  {
   "cell_type": "code",
   "execution_count": 73,
   "metadata": {},
   "outputs": [
    {
     "name": "stdout",
     "output_type": "stream",
     "text": [
      "\n",
      "这是一些希望被写入到文件中的内容。\n",
      "第二行内容，\n",
      "第三行内容。\n",
      "\n"
     ]
    }
   ],
   "source": [
    "readonly_file_obj = open(test_open_file_path, \"r\")\n",
    "content_str = readonly_file_obj.read()\n",
    "print content_str"
   ]
  },
  {
   "cell_type": "code",
   "execution_count": 74,
   "metadata": {},
   "outputs": [
    {
     "ename": "IOError",
     "evalue": "File not open for writing",
     "output_type": "error",
     "traceback": [
      "\u001b[0;31m\u001b[0m",
      "\u001b[0;31mIOError\u001b[0mTraceback (most recent call last)",
      "\u001b[0;32m<ipython-input-74-f61e73ba4783>\u001b[0m in \u001b[0;36m<module>\u001b[0;34m()\u001b[0m\n\u001b[0;32m----> 1\u001b[0;31m \u001b[0mreadonly_file_obj\u001b[0m\u001b[0;34m.\u001b[0m\u001b[0mwrite\u001b[0m\u001b[0;34m(\u001b[0m\u001b[0;34m\"try to write something...\"\u001b[0m\u001b[0;34m)\u001b[0m\u001b[0;34m\u001b[0m\u001b[0m\n\u001b[0m",
      "\u001b[0;31mIOError\u001b[0m: File not open for writing"
     ]
    }
   ],
   "source": [
    "readonly_file_obj.write(\"try to write something...\")"
   ]
  },
  {
   "cell_type": "code",
   "execution_count": 75,
   "metadata": {},
   "outputs": [],
   "source": [
    "readonly_file_obj.close()"
   ]
  },
  {
   "cell_type": "markdown",
   "metadata": {},
   "source": [
    "### 增写打开文件"
   ]
  },
  {
   "cell_type": "code",
   "execution_count": 76,
   "metadata": {},
   "outputs": [],
   "source": [
    "append_file_obj = open(test_open_file_path, \"a\")\n",
    "append_file_obj.write(\"一些新增的内容。\\n\")\n",
    "append_file_obj.close()"
   ]
  },
  {
   "cell_type": "markdown",
   "metadata": {},
   "source": [
    "### `+`的作用"
   ]
  },
  {
   "cell_type": "markdown",
   "metadata": {},
   "source": [
    "在open命令的mode参数中使用`+`可以扩展其功能，即使得`r`模式下的文件变得可读可写。"
   ]
  },
  {
   "cell_type": "markdown",
   "metadata": {},
   "source": [
    "> 思考一下，r+ 和 w+ 的区别是什么呢？"
   ]
  },
  {
   "cell_type": "markdown",
   "metadata": {},
   "source": [
    "> 更Pythonic的写法：`with`语句"
   ]
  },
  {
   "cell_type": "code",
   "execution_count": 77,
   "metadata": {},
   "outputs": [],
   "source": [
    "with open(test_open_file_path, \"a+\") as file_obj:\n",
    "    file_obj.write(\"最后一行内容\")"
   ]
  },
  {
   "cell_type": "markdown",
   "metadata": {},
   "source": [
    "### 本课结语\n",
    "\n",
    "在本节课中，我们已经学习了以下几个内容：\n",
    "- 最常用的数据结构`list`\n",
    "- 操作系统相关的自建模块`os`、`sys`、`shutil`\n",
    "- 文件IO操作\n",
    "\n",
    "如果你还没有熟练地掌握这些知识，我建议你通过以下几种方式提高自己：\n",
    "\n",
    "- 反复地阅读这一节课的内容；\n",
    "- 依据本课知识，举一反三地进行更多的练习；\n",
    "- 到互联网上浏览和补充相关的知识，完善和巩固知识体系；\n",
    "- 在我们的课堂群中和我们进行更多的交流。\n",
    "\n",
    "如果你觉得本课内容对你有帮助，欢迎到我们的[课程](https://ke.qq.com/course/328764?tuin=2a5bd9a8)中进行评价，给予我们一个珍贵的好评。"
   ]
  }
 ],
 "metadata": {
  "kernelspec": {
   "display_name": "Python 2",
   "language": "python",
   "name": "python2"
  },
  "language_info": {
   "codemirror_mode": {
    "name": "ipython",
    "version": 2
   },
   "file_extension": ".py",
   "mimetype": "text/x-python",
   "name": "python",
   "nbconvert_exporter": "python",
   "pygments_lexer": "ipython2",
   "version": "2.7.14"
  }
 },
 "nbformat": 4,
 "nbformat_minor": 2
}
