{
  "cells": [
    {
      "metadata": {
        "collapsed": true
      },
      "cell_type": "markdown",
      "source": "# Lesson8 递归函数与常用Python高级特性上"
    },
    {
      "metadata": {},
      "cell_type": "markdown",
      "source": "## 课程内容\n同学，你好！欢迎来到第八课。\n\n在上一次课中，我们学习了函数的相关知识，包括\n\n- 函数的调用\n- 自定义函数\n- 函数的参数\n- 匿名函数\n- 变量作用域\n\n今天这节课，我们将来学习函数的一种高级应用——递归函数和一些常用的Python高级功能相关内容， 包括：\n\n- 递归函数\n- 生成式\n- 迭代器\n- 生成器"
    },
    {
      "metadata": {},
      "cell_type": "markdown",
      "source": "## 递归"
    },
    {
      "metadata": {},
      "cell_type": "markdown",
      "source": "在数学和计算机科学中，`递归(Recursion)`一种迭代解决问题的方法。其特点是将复杂的问题分解为多次结构相同的问题进行解决。\n\n在Python中，`递归(Recursion)函数`是指在函数的定义中使用函数自身的方法。相比循环迭代，递归函数具有定义清晰，实现简单的优势。"
    },
    {
      "metadata": {},
      "cell_type": "markdown",
      "source": "但是由于递归是一个相对抽象的概念，它的实现并不是一个直观的过程。因此递归对于开发初学者们来说是一个相对复杂的知识点。为了使你对递归函数有一个清晰的认识，我们以经典的“阶乘”问题为案例来演示使用递归函数解决问题。"
    },
    {
      "metadata": {},
      "cell_type": "markdown",
      "source": "> 课堂案例：阶乘  \n> 求输入整数的阶乘。计算某个数的阶乘指的是用这个数依次去乘包括 1 在内的所有比它小的数，这次计算最终的积即为阶乘的结果。在阶乘中，输入数字必须是一个正整数。"
    },
    {
      "metadata": {
        "trusted": true
      },
      "cell_type": "code",
      "source": "# 使用for循环实现阶乘\ndef for_factorial(number):\n    # 过滤不符合条件的情况\n    if not (isinstance(number, int) and number > 0):\n        return\n    # 循环计算\n    result = 1\n    for n in range(number, 0, -1):\n        result *= n\n    return result\n\nif __name__ == \"__main__\":\n    print for_factorial(5)",
      "execution_count": 1,
      "outputs": [
        {
          "output_type": "stream",
          "text": "120\n",
          "name": "stdout"
        }
      ]
    },
    {
      "metadata": {},
      "cell_type": "markdown",
      "source": "设计递归的思路的突破口在于找到迭代问题的结构相同性，并将其抽象为一个函数，并以此函数本身作为进入迭代下一层的入口。\n\n在阶乘问题中，我们可以发现每一次迭代，当前数字都要和一个比它自己更小的一个数字的阶乘结果相乘。因此进入迭代下一层的入口则可以写为以下形式："
    },
    {
      "metadata": {
        "trusted": true
      },
      "cell_type": "code",
      "source": "# 使用递归实现阶乘的尝试\ndef recursive_factorial(number):\n    # Fixme: 这个函数是错误的，因为它缺少停止计算的条件\n    \n    # 如果将阶乘看成一个不断重复的计算，那么任何一个number的阶乘结果都应当是其本身与number-1的阶乘相乘的结果\n    return number * recursive_factorial(number - 1)\n    \nif __name__ == \"__main__\":\n    # 过滤不符合条件的情况\n    input_number = 6\n    if isinstance(input_number, int) and input_number > 0:\n        print recursive_factorial(input_number)",
      "execution_count": 10,
      "outputs": []
    },
    {
      "metadata": {},
      "cell_type": "markdown",
      "source": "> 为了保证可以在有限计算次数内完成运算得到结果，递归函数必须具备以下两个基本要素:   \n> - **边界条件**：确定递归到何时终止，也称为递归出口。   \n> - **递归模式**：大问题是如何分解为小问题的，也称为递归体。 "
    },
    {
      "metadata": {
        "trusted": true
      },
      "cell_type": "code",
      "source": "# 使用递归实现阶乘的尝试\ndef recursive_factorial(number):\n    # 当number等于1时，停止递归\n    if number == 1:\n        return number\n    # 如果将阶乘看成一个不断重复的计算，那么任何一个number的阶乘结果都应当是其本身与number-1的阶乘相乘的结果\n    return number * recursive_factorial(number - 1)\n    \nif __name__ == \"__main__\":\n    input_number = 6\n    if isinstance(input_number, int) and input_number > 0:\n        print recursive_factorial(input_number)",
      "execution_count": 7,
      "outputs": [
        {
          "output_type": "stream",
          "text": "720\n",
          "name": "stdout"
        }
      ]
    },
    {
      "metadata": {},
      "cell_type": "markdown",
      "source": "实现一个递归函数，需要遵循以下几个步骤：\n\n1. 初始化算法。递归程序通常需要一个开始时使用的种子值（seed value）。要完成此任务，可以向函数传递参数，或者提供一个入口函数， 这个函数是非递归的，但可以为递归计算设置种子值。\n2. 检查要处理的当前值是否已经与基线条件相匹配。如果匹配，则进行处理并返回值。\n3. 使用更小的或更简单的子问题（或多个子问题）来重新定义答案。\n4. 对子问题运行算法。\n5. 将结果合并入答案的表达式。\n6. 返回结果。"
    },
    {
      "metadata": {},
      "cell_type": "markdown",
      "source": "> 课堂案例： 有限位数的裴波那契数列  \n裴波那契数列又称黄金分割数列，其数学表达式表示为:  \n    $ F[n]=F[n-1]+F[n-2](n>=3,F[1]=1,F[2]=1) $\n"
    },
    {
      "metadata": {
        "trusted": true
      },
      "cell_type": "code",
      "source": "def recursion_fibonacci(n):\n    if n in (1, 2):\n        return 1\n    else:\n        return recursion_fibonacci(n - 1) + recursion_fibonacci(n - 2)\n\nif __name__ == \"__main__\":\n    print recursion_fibonacci(6)",
      "execution_count": 9,
      "outputs": [
        {
          "output_type": "stream",
          "text": "8\n",
          "name": "stdout"
        }
      ]
    },
    {
      "metadata": {},
      "cell_type": "markdown",
      "source": "> 课堂案例：文件夹遍历"
    },
    {
      "metadata": {
        "trusted": true
      },
      "cell_type": "code",
      "source": "import os\n\n\ndef walk_folders(folder_path):\n    sub_file_list = []\n    # 遍历文件夹下所有子文件\n    for sub_file_name in os.listdir(folder_path):\n        # 获取路径\n        sub_path = os.path.join(folder_path, sub_file_name)\n        if os.path.isfile(sub_path):\n            # 如果子文件是文件类型的，添加到子文件列表\n            sub_file = {\"type\": \"file\", \"name\": sub_file_name}\n            sub_file_list.append(sub_file)\n        else:\n            # 如果子文件是文件夹类型的，递归求取子文件列表，添加到子文件列表\n            sub_folder = {\"type\": \"folder\", \"name\": sub_file_name, \"sub_files\": walk_folders(sub_path)}\n            sub_file_list.append(sub_folder)\n    return sub_file_list\n\n\nif __name__ == \"__main__\":\n    from pprint import pprint\n    pprint(walk_folders(\"/home/nbuser/library/examples\"))",
      "execution_count": 69,
      "outputs": [
        {
          "output_type": "stream",
          "text": "[{'name': 'lesson6',\n  'sub_files': [{'name': 'your.txt', 'type': 'file'},\n                {'name': 'my.txt', 'type': 'file'},\n                {'name': 'test_folder',\n                 'sub_files': [{'name': 'my.txt', 'type': 'file'}],\n                 'type': 'folder'}],\n  'type': 'folder'},\n {'name': 'test_file', 'type': 'file'},\n {'name': 'lesson3',\n  'sub_files': [{'name': 'helloworld.py', 'type': 'file'}],\n  'type': 'folder'},\n {'name': 'lesson4',\n  'sub_files': [{'name': 'turtle_paint.py', 'type': 'file'},\n                {'name': 'guss_number.py', 'type': 'file'},\n                {'name': 'turtle_star.py', 'type': 'file'},\n                {'name': 'awesome_turtle_by_zhoulu.py', 'type': 'file'},\n                {'name': 'get_locattion.py', 'type': 'file'},\n                {'name': 'zenofpython_cn.py', 'type': 'file'}],\n  'type': 'folder'},\n {'name': 'lesson5',\n  'sub_files': [{'name': 'organize_files.py', 'type': 'file'},\n                {'name': 'old', 'sub_files': [], 'type': 'folder'},\n                {'name': 'new',\n                 'sub_files': [{'name': 'new_name', 'type': 'file'},\n                               {'name': 'test_open_file', 'type': 'file'}],\n                 'type': 'folder'}],\n  'type': 'folder'}]\n",
          "name": "stdout"
        }
      ]
    },
    {
      "metadata": {},
      "cell_type": "markdown",
      "source": "> 课外作业：根据输入级数画分形三角的乌龟 "
    },
    {
      "metadata": {},
      "cell_type": "markdown",
      "source": "## 生成式"
    },
    {
      "metadata": {},
      "cell_type": "markdown",
      "source": "在开发工作中，我们经常会遇到需要按一定规则生成列表或者字典的需求。为了解决这些问题，Python内置了简单却强大的生成式功能。你可以在一行代码内遍历、过滤各种可迭代的数据机构体，并按照自己的需要生成新的数据结构体。\n\n生成式也叫解析式或者推导式，是一种以循环迭代和条件判断来控制元素内容的一种用于产生数据结构的表达式。"
    },
    {
      "metadata": {},
      "cell_type": "markdown",
      "source": "### 列表生成式"
    },
    {
      "metadata": {},
      "cell_type": "markdown",
      "source": "列表生成式的一般语法为\n\n```python\n[item for item in a_iterable if a_condition]\n```"
    },
    {
      "metadata": {},
      "cell_type": "markdown",
      "source": "生成1-10中每个数字的平方组成的列表："
    },
    {
      "metadata": {
        "trusted": true
      },
      "cell_type": "code",
      "source": "[i ** 2 for i in range(1, 11)]",
      "execution_count": 13,
      "outputs": [
        {
          "output_type": "execute_result",
          "execution_count": 13,
          "data": {
            "text/plain": "[1, 4, 9, 16, 25, 36, 49, 64, 81, 100]"
          },
          "metadata": {}
        }
      ]
    },
    {
      "metadata": {},
      "cell_type": "markdown",
      "source": "生成1-10中每个偶数的平方组成的列表："
    },
    {
      "metadata": {
        "trusted": true
      },
      "cell_type": "code",
      "source": "[i ** 2 for i in range(1, 11) if i % 2 == 0]",
      "execution_count": 14,
      "outputs": [
        {
          "output_type": "execute_result",
          "execution_count": 14,
          "data": {
            "text/plain": "[4, 16, 36, 64, 100]"
          },
          "metadata": {}
        }
      ]
    },
    {
      "metadata": {},
      "cell_type": "markdown",
      "source": "列表生成式的每个元素可以为任意类型的对象。下例中，每个元素都是一个字典。"
    },
    {
      "metadata": {
        "trusted": true
      },
      "cell_type": "code",
      "source": "[{\"value\": i, \"type\": type(i)} for i in [\"hello\", 123, 3.14, range(10)]]",
      "execution_count": 19,
      "outputs": [
        {
          "output_type": "execute_result",
          "execution_count": 19,
          "data": {
            "text/plain": "[{'type': str, 'value': 'hello'},\n {'type': int, 'value': 123},\n {'type': float, 'value': 3.14},\n {'type': list, 'value': [0, 1, 2, 3, 4, 5, 6, 7, 8, 9]}]"
          },
          "metadata": {}
        }
      ]
    },
    {
      "metadata": {},
      "cell_type": "markdown",
      "source": "### 嵌套的生成式"
    },
    {
      "metadata": {},
      "cell_type": "markdown",
      "source": "并列使用多个`for...in`循环语句，实现循环嵌套："
    },
    {
      "metadata": {
        "trusted": true
      },
      "cell_type": "code",
      "source": "[i+j for i in \"123\" for j in \"abc\"]",
      "execution_count": 16,
      "outputs": [
        {
          "output_type": "execute_result",
          "execution_count": 16,
          "data": {
            "text/plain": "['1a', '1b', '1c', '2a', '2b', '2c', '3a', '3b', '3c']"
          },
          "metadata": {}
        }
      ]
    },
    {
      "metadata": {},
      "cell_type": "markdown",
      "source": "> 注意：因为循环嵌套逻辑较为复杂，建议不要使用超过两层的循环嵌套。"
    },
    {
      "metadata": {},
      "cell_type": "markdown",
      "source": "### 字典生成式"
    },
    {
      "metadata": {},
      "cell_type": "markdown",
      "source": "同列表生成式一样，字典也可以使用类似的生成式生成。\n\n不同于列表生成式，字典生成式需要使用大括号包围，并且需要以配对的键值作为元素，键值之间以冒号隔开。字典生成式的语法规则为：\n\n```python\n{key: value for key in a_iterable if a_condition}\n```"
    },
    {
      "metadata": {
        "trusted": true
      },
      "cell_type": "code",
      "source": "{i: type(i) for i in [\"hello\", 123, 3.14]}",
      "execution_count": 21,
      "outputs": [
        {
          "output_type": "execute_result",
          "execution_count": 21,
          "data": {
            "text/plain": "{3.14: float, 123: int, 'hello': str}"
          },
          "metadata": {}
        }
      ]
    },
    {
      "metadata": {},
      "cell_type": "markdown",
      "source": "> 注意：在构建字典时，unhashable的对象不可作为字典的key"
    },
    {
      "metadata": {
        "trusted": true
      },
      "cell_type": "code",
      "source": "{i: type(i) for i in [\"hello\", 123, 3.14, range(3)]}    # range(3)的值是一个列表，列表不能作为字典的key",
      "execution_count": 23,
      "outputs": [
        {
          "output_type": "error",
          "ename": "TypeError",
          "evalue": "unhashable type: 'list'",
          "traceback": [
            "\u001b[0;31m\u001b[0m",
            "\u001b[0;31mTypeError\u001b[0mTraceback (most recent call last)",
            "\u001b[0;32m<ipython-input-23-09f61a533c25>\u001b[0m in \u001b[0;36m<module>\u001b[0;34m()\u001b[0m\n\u001b[0;32m----> 1\u001b[0;31m \u001b[0;34m{\u001b[0m\u001b[0mi\u001b[0m\u001b[0;34m:\u001b[0m \u001b[0mtype\u001b[0m\u001b[0;34m(\u001b[0m\u001b[0mi\u001b[0m\u001b[0;34m)\u001b[0m \u001b[0;32mfor\u001b[0m \u001b[0mi\u001b[0m \u001b[0;32min\u001b[0m \u001b[0;34m[\u001b[0m\u001b[0;34m\"hello\"\u001b[0m\u001b[0;34m,\u001b[0m \u001b[0;36m123\u001b[0m\u001b[0;34m,\u001b[0m \u001b[0;36m3.14\u001b[0m\u001b[0;34m,\u001b[0m \u001b[0mrange\u001b[0m\u001b[0;34m(\u001b[0m\u001b[0;36m3\u001b[0m\u001b[0;34m)\u001b[0m\u001b[0;34m]\u001b[0m\u001b[0;34m}\u001b[0m    \u001b[0;31m# range(3)的值是一个列表，列表不能作为字典的key\u001b[0m\u001b[0;34m\u001b[0m\u001b[0m\n\u001b[0m",
            "\u001b[0;32m<ipython-input-23-09f61a533c25>\u001b[0m in \u001b[0;36m<dictcomp>\u001b[0;34m((i,))\u001b[0m\n\u001b[0;32m----> 1\u001b[0;31m \u001b[0;34m{\u001b[0m\u001b[0mi\u001b[0m\u001b[0;34m:\u001b[0m \u001b[0mtype\u001b[0m\u001b[0;34m(\u001b[0m\u001b[0mi\u001b[0m\u001b[0;34m)\u001b[0m \u001b[0;32mfor\u001b[0m \u001b[0mi\u001b[0m \u001b[0;32min\u001b[0m \u001b[0;34m[\u001b[0m\u001b[0;34m\"hello\"\u001b[0m\u001b[0;34m,\u001b[0m \u001b[0;36m123\u001b[0m\u001b[0;34m,\u001b[0m \u001b[0;36m3.14\u001b[0m\u001b[0;34m,\u001b[0m \u001b[0mrange\u001b[0m\u001b[0;34m(\u001b[0m\u001b[0;36m3\u001b[0m\u001b[0;34m)\u001b[0m\u001b[0;34m]\u001b[0m\u001b[0;34m}\u001b[0m    \u001b[0;31m# range(3)的值是一个列表，列表不能作为字典的key\u001b[0m\u001b[0;34m\u001b[0m\u001b[0m\n\u001b[0m",
            "\u001b[0;31mTypeError\u001b[0m: unhashable type: 'list'"
          ]
        }
      ]
    },
    {
      "metadata": {},
      "cell_type": "markdown",
      "source": "### 集合生成式"
    },
    {
      "metadata": {},
      "cell_type": "markdown",
      "source": "同样的，集合也可以使用相似的生成式生成。"
    },
    {
      "metadata": {
        "trusted": true
      },
      "cell_type": "code",
      "source": "a_set = {i for i in range(10) if i % 2 == 0}\nprint a_set\nprint type(a_set)",
      "execution_count": 24,
      "outputs": [
        {
          "output_type": "stream",
          "text": "set([0, 8, 2, 4, 6])\n<type 'set'>\n",
          "name": "stdout"
        }
      ]
    },
    {
      "metadata": {},
      "cell_type": "markdown",
      "source": "> 思考一下： 元组可以使用生成式生成吗？如果可以，如何生成？如果不可以，为什么？"
    },
    {
      "metadata": {},
      "cell_type": "markdown",
      "source": "## 迭代器"
    },
    {
      "metadata": {},
      "cell_type": "markdown",
      "source": "在Python中，可迭代的对象类型有很多。"
    },
    {
      "metadata": {
        "trusted": true
      },
      "cell_type": "code",
      "source": "for i in [1, 2, 3, 4]:\n    print i",
      "execution_count": 42,
      "outputs": [
        {
          "output_type": "stream",
          "text": "1\n2\n3\n4\n",
          "name": "stdout"
        }
      ]
    },
    {
      "metadata": {
        "trusted": true
      },
      "cell_type": "code",
      "source": "for c in \"python\":\n    print c",
      "execution_count": 43,
      "outputs": [
        {
          "output_type": "stream",
          "text": "p\ny\nt\nh\no\nn\n",
          "name": "stdout"
        }
      ]
    },
    {
      "metadata": {
        "trusted": true
      },
      "cell_type": "code",
      "source": "for k in {\"x\": 1, \"y\": 2}:\n    print k",
      "execution_count": 44,
      "outputs": [
        {
          "output_type": "stream",
          "text": "y\nx\n",
          "name": "stdout"
        }
      ]
    },
    {
      "metadata": {
        "trusted": true
      },
      "cell_type": "code",
      "source": "for line in open(\"/home/nbuser/library/examples/test_file\"):\n    print line",
      "execution_count": 45,
      "outputs": [
        {
          "output_type": "stream",
          "text": "first line\n\nsecond line\n",
          "name": "stdout"
        }
      ]
    },
    {
      "metadata": {},
      "cell_type": "markdown",
      "source": "Python中的列表、字符串、字典、元组、文件对象等等各种对象都可以和`for...in`循环配合使用，这些对象被统称为`可迭代对象(iterable object)`。"
    },
    {
      "metadata": {},
      "cell_type": "markdown",
      "source": "### 迭代器协议"
    },
    {
      "metadata": {},
      "cell_type": "markdown",
      "source": "Python内建的`iter`函数可以将一个可迭代的对象转化为一个迭代器对象。迭代器对象是一种具备了`next`方法可以自我迭代的对象，它符合了Python的迭代器协议。\n\n> 迭代器协议指：对象需要提供next()方法，它要么返回迭代中的下一项，要么就引起一个StopIteration异常，以终止迭代。"
    },
    {
      "metadata": {
        "trusted": true
      },
      "cell_type": "code",
      "source": "x = iter([1, 2, 3])",
      "execution_count": 46,
      "outputs": []
    },
    {
      "metadata": {
        "trusted": true
      },
      "cell_type": "code",
      "source": "print x, type(x)",
      "execution_count": 51,
      "outputs": [
        {
          "output_type": "stream",
          "text": "<listiterator object at 0x7fcd6da6e410> <type 'listiterator'>\n",
          "name": "stdout"
        }
      ]
    },
    {
      "metadata": {},
      "cell_type": "markdown",
      "source": "### next方法"
    },
    {
      "metadata": {},
      "cell_type": "markdown",
      "source": "每当我们调用迭代器的next方法时，该方法会将迭代器的下一个元素返回回来，直到最后一个。当元素已为迭代器的最后一位时，调用next将会触发`StopIteration`异常。"
    },
    {
      "metadata": {
        "trusted": true
      },
      "cell_type": "code",
      "source": "x.next()",
      "execution_count": 47,
      "outputs": [
        {
          "output_type": "execute_result",
          "execution_count": 47,
          "data": {
            "text/plain": "1"
          },
          "metadata": {}
        }
      ]
    },
    {
      "metadata": {
        "trusted": true
      },
      "cell_type": "code",
      "source": "x.next()",
      "execution_count": 48,
      "outputs": [
        {
          "output_type": "execute_result",
          "execution_count": 48,
          "data": {
            "text/plain": "2"
          },
          "metadata": {}
        }
      ]
    },
    {
      "metadata": {
        "trusted": true
      },
      "cell_type": "code",
      "source": "x.next()",
      "execution_count": 49,
      "outputs": [
        {
          "output_type": "execute_result",
          "execution_count": 49,
          "data": {
            "text/plain": "3"
          },
          "metadata": {}
        }
      ]
    },
    {
      "metadata": {
        "trusted": true
      },
      "cell_type": "code",
      "source": "x.next()",
      "execution_count": 50,
      "outputs": [
        {
          "output_type": "error",
          "ename": "StopIteration",
          "evalue": "",
          "traceback": [
            "\u001b[0;31m\u001b[0m",
            "\u001b[0;31mStopIteration\u001b[0mTraceback (most recent call last)",
            "\u001b[0;32m<ipython-input-50-e05f366da090>\u001b[0m in \u001b[0;36m<module>\u001b[0;34m()\u001b[0m\n\u001b[0;32m----> 1\u001b[0;31m \u001b[0mx\u001b[0m\u001b[0;34m.\u001b[0m\u001b[0mnext\u001b[0m\u001b[0;34m(\u001b[0m\u001b[0;34m)\u001b[0m\u001b[0;34m\u001b[0m\u001b[0m\n\u001b[0m",
            "\u001b[0;31mStopIteration\u001b[0m: "
          ]
        }
      ]
    },
    {
      "metadata": {},
      "cell_type": "markdown",
      "source": "### xrange"
    },
    {
      "metadata": {},
      "cell_type": "markdown",
      "source": "在第4课中，我们介绍过一个自动生成数字列表的函数`range`。当使用range函数生成较大的数字列表时，我们同样会遇到内存消耗过大的问题。为了解决这个问题，Python提供了一个按相同规则构建数字生成器的函数`xrange`。\n\n严格地说，xrange不是生成器，但它具备了和生成器类似的特性。"
    },
    {
      "metadata": {
        "trusted": true
      },
      "cell_type": "code",
      "source": "a_list = range(10)\nprint a_list\nprint type(a_list)",
      "execution_count": 28,
      "outputs": [
        {
          "output_type": "stream",
          "text": "[0, 1, 2, 3, 4, 5, 6, 7, 8, 9]\n<type 'list'>\n",
          "name": "stdout"
        }
      ]
    },
    {
      "metadata": {
        "trusted": true
      },
      "cell_type": "code",
      "source": "a_xrange = xrange(10)\nprint a_xrange\nprint type(a_xrange)",
      "execution_count": 29,
      "outputs": [
        {
          "output_type": "stream",
          "text": "xrange(10)\n<type 'xrange'>\n",
          "name": "stdout"
        }
      ]
    },
    {
      "metadata": {},
      "cell_type": "markdown",
      "source": "迭代遍历上例中的`a_list`和`a_xrange`的运行效果是一样的"
    },
    {
      "metadata": {
        "trusted": true
      },
      "cell_type": "code",
      "source": "for i in a_list:\n    print i",
      "execution_count": 30,
      "outputs": [
        {
          "output_type": "stream",
          "text": "0\n1\n2\n3\n4\n5\n6\n7\n8\n9\n",
          "name": "stdout"
        }
      ]
    },
    {
      "metadata": {
        "trusted": true
      },
      "cell_type": "code",
      "source": "for i in a_xrange:\n    print i",
      "execution_count": 31,
      "outputs": [
        {
          "output_type": "stream",
          "text": "0\n1\n2\n3\n4\n5\n6\n7\n8\n9\n",
          "name": "stdout"
        }
      ]
    },
    {
      "metadata": {},
      "cell_type": "markdown",
      "source": "和列表一样，xrange对象也可以使用索引取值,并且同样具备求取长度等方法。"
    },
    {
      "metadata": {
        "trusted": true
      },
      "cell_type": "code",
      "source": "a_xrange[3]",
      "execution_count": 33,
      "outputs": [
        {
          "output_type": "execute_result",
          "execution_count": 33,
          "data": {
            "text/plain": "3"
          },
          "metadata": {}
        }
      ]
    },
    {
      "metadata": {
        "trusted": true
      },
      "cell_type": "code",
      "source": "len(a_xrange)",
      "execution_count": 35,
      "outputs": [
        {
          "output_type": "execute_result",
          "execution_count": 35,
          "data": {
            "text/plain": "10"
          },
          "metadata": {}
        }
      ]
    },
    {
      "metadata": {},
      "cell_type": "markdown",
      "source": "虽然xrange对象具备列表的各种性质，但不具备任何列表的方法。"
    },
    {
      "metadata": {
        "trusted": true
      },
      "cell_type": "code",
      "source": "dir(a_xrange)",
      "execution_count": 36,
      "outputs": [
        {
          "output_type": "execute_result",
          "execution_count": 36,
          "data": {
            "text/plain": "['__class__',\n '__delattr__',\n '__doc__',\n '__format__',\n '__getattribute__',\n '__getitem__',\n '__hash__',\n '__init__',\n '__iter__',\n '__len__',\n '__new__',\n '__reduce__',\n '__reduce_ex__',\n '__repr__',\n '__reversed__',\n '__setattr__',\n '__sizeof__',\n '__str__',\n '__subclasshook__']"
          },
          "metadata": {}
        }
      ]
    },
    {
      "metadata": {},
      "cell_type": "markdown",
      "source": "## 生成器"
    },
    {
      "metadata": {},
      "cell_type": "markdown",
      "source": "在上文案例中我们可以看到，借助列表生成式可以轻松地创建出一个列表。但是，受到内存限制，列表容量肯定是有限的。为了节约资源，或者创建出一个允许按需无限生成值的数据结构，Python提供了`生成器(Generator)`类型对象。\n\n生成器是一类特殊的迭代器，它简化了迭代器的创建。同时实现了延迟操作的功能，也就是在需要的时候才产生结果，不是立即产生结果。\n\n使用生成器对象，我们可以在代码运行的过程中不断根据需要推算出后续的元素。这样我们就不必创建完整的list，从而节省大量的空间。"
    },
    {
      "metadata": {},
      "cell_type": "markdown",
      "source": "> 注意：生成器是一种单迭代器对象，即生成器只能被遍历一次。"
    },
    {
      "metadata": {},
      "cell_type": "markdown",
      "source": "下面我们来介绍两种常用的自定义生成器的方法——`生成器表达式`和`生成器函数`。"
    },
    {
      "metadata": {},
      "cell_type": "markdown",
      "source": "### 生成器表达式"
    },
    {
      "metadata": {},
      "cell_type": "markdown",
      "source": "如列表生成式一样，Python提供了一种语法类似的生成器。\n\n和列表表示不同，生成器表达式使用圆括号来包围自身。"
    },
    {
      "metadata": {
        "trusted": true
      },
      "cell_type": "code",
      "source": "my_generator = (i for i in range(10) if i % 2 == 1)\nprint my_generator, type(my_generator)",
      "execution_count": 25,
      "outputs": [
        {
          "output_type": "stream",
          "text": "<generator object <genexpr> at 0x7fcd6d6b3e10> <type 'generator'>\n",
          "name": "stdout"
        }
      ]
    },
    {
      "metadata": {
        "trusted": true
      },
      "cell_type": "code",
      "source": "my_generator.next()",
      "execution_count": 26,
      "outputs": [
        {
          "output_type": "execute_result",
          "execution_count": 26,
          "data": {
            "text/plain": "1"
          },
          "metadata": {}
        }
      ]
    },
    {
      "metadata": {
        "trusted": true
      },
      "cell_type": "code",
      "source": "my_generator.next()",
      "execution_count": 27,
      "outputs": [
        {
          "output_type": "execute_result",
          "execution_count": 27,
          "data": {
            "text/plain": "3"
          },
          "metadata": {}
        }
      ]
    },
    {
      "metadata": {},
      "cell_type": "markdown",
      "source": "### 生成器函数"
    },
    {
      "metadata": {},
      "cell_type": "markdown",
      "source": "生成器函数是一种可以返回一个生成器的函数，其特点是在函数体中存在`yield`语句。在生成器函数中，我们需要使用`yield`关键字来实现持续返回序列元素，而非return。"
    },
    {
      "metadata": {},
      "cell_type": "markdown",
      "source": "#### yield"
    },
    {
      "metadata": {},
      "cell_type": "markdown",
      "source": "在生成器函数中，每次执行到yield语句时，该函数都会生成一个新值，并暂停函数代码的运行。"
    },
    {
      "metadata": {
        "trusted": true
      },
      "cell_type": "code",
      "source": "def yrange(n):\n    i = 0\n    while i < n:\n        yield i\n        i += 1",
      "execution_count": 52,
      "outputs": []
    },
    {
      "metadata": {
        "trusted": true
      },
      "cell_type": "code",
      "source": "y = yrange(10)",
      "execution_count": 53,
      "outputs": []
    },
    {
      "metadata": {
        "trusted": true
      },
      "cell_type": "code",
      "source": "y.next()",
      "execution_count": 54,
      "outputs": [
        {
          "output_type": "execute_result",
          "execution_count": 54,
          "data": {
            "text/plain": "0"
          },
          "metadata": {}
        }
      ]
    },
    {
      "metadata": {
        "trusted": true
      },
      "cell_type": "code",
      "source": "y.next()",
      "execution_count": 55,
      "outputs": [
        {
          "output_type": "execute_result",
          "execution_count": 55,
          "data": {
            "text/plain": "1"
          },
          "metadata": {}
        }
      ]
    },
    {
      "metadata": {
        "trusted": true
      },
      "cell_type": "code",
      "source": "y.next()",
      "execution_count": 56,
      "outputs": [
        {
          "output_type": "execute_result",
          "execution_count": 56,
          "data": {
            "text/plain": "2"
          },
          "metadata": {}
        }
      ]
    },
    {
      "metadata": {},
      "cell_type": "markdown",
      "source": "当下一次调用next的时候，代码将会接着yield语句之后继续运行，并在再次遇到yield语句时生成新值。"
    },
    {
      "metadata": {
        "trusted": true
      },
      "cell_type": "code",
      "source": "def foo():\n    print \"begin\"\n    for i in range(3):\n        print \"before yield\", i\n        yield i\n        print \"after yield\", i\n    print \"end\"",
      "execution_count": 57,
      "outputs": []
    },
    {
      "metadata": {
        "trusted": true
      },
      "cell_type": "code",
      "source": "f = foo()\nf.next()",
      "execution_count": 58,
      "outputs": [
        {
          "output_type": "stream",
          "text": "begin\nbefore yield 0\n",
          "name": "stdout"
        },
        {
          "output_type": "execute_result",
          "execution_count": 58,
          "data": {
            "text/plain": "0"
          },
          "metadata": {}
        }
      ]
    },
    {
      "metadata": {
        "trusted": true
      },
      "cell_type": "code",
      "source": "f.next()",
      "execution_count": 59,
      "outputs": [
        {
          "output_type": "stream",
          "text": "after yield 0\nbefore yield 1\n",
          "name": "stdout"
        },
        {
          "output_type": "execute_result",
          "execution_count": 59,
          "data": {
            "text/plain": "1"
          },
          "metadata": {}
        }
      ]
    },
    {
      "metadata": {
        "trusted": true
      },
      "cell_type": "code",
      "source": "f.next()",
      "execution_count": 60,
      "outputs": [
        {
          "output_type": "stream",
          "text": "after yield 1\nbefore yield 2\n",
          "name": "stdout"
        },
        {
          "output_type": "execute_result",
          "execution_count": 60,
          "data": {
            "text/plain": "2"
          },
          "metadata": {}
        }
      ]
    },
    {
      "metadata": {},
      "cell_type": "markdown",
      "source": "> 在生成器函数中使用`return`关键字可用于结束生成器求值。因此在生成器函数中的`return`关键字后不能返回任何内容。"
    },
    {
      "metadata": {
        "trusted": true
      },
      "cell_type": "code",
      "source": "def generator_example():\n    i = 0\n    while True:\n        if i % 2 == 1:\n            yield i\n        elif i > 5:\n            return \n        i += 1",
      "execution_count": 63,
      "outputs": []
    },
    {
      "metadata": {
        "trusted": true
      },
      "cell_type": "code",
      "source": "x = generator_example()",
      "execution_count": 64,
      "outputs": []
    },
    {
      "metadata": {
        "trusted": true
      },
      "cell_type": "code",
      "source": "print x.next()",
      "execution_count": 65,
      "outputs": [
        {
          "output_type": "stream",
          "text": "1\n",
          "name": "stdout"
        }
      ]
    },
    {
      "metadata": {
        "trusted": true
      },
      "cell_type": "code",
      "source": "print x.next()",
      "execution_count": 66,
      "outputs": [
        {
          "output_type": "stream",
          "text": "3\n",
          "name": "stdout"
        }
      ]
    },
    {
      "metadata": {
        "trusted": true
      },
      "cell_type": "code",
      "source": "print x.next()",
      "execution_count": 67,
      "outputs": [
        {
          "output_type": "stream",
          "text": "5\n",
          "name": "stdout"
        }
      ]
    },
    {
      "metadata": {
        "trusted": true
      },
      "cell_type": "code",
      "source": "print x.next()",
      "execution_count": 68,
      "outputs": [
        {
          "output_type": "error",
          "ename": "StopIteration",
          "evalue": "",
          "traceback": [
            "\u001b[0;31m\u001b[0m",
            "\u001b[0;31mStopIteration\u001b[0mTraceback (most recent call last)",
            "\u001b[0;32m<ipython-input-68-e7fd9557c5e5>\u001b[0m in \u001b[0;36m<module>\u001b[0;34m()\u001b[0m\n\u001b[0;32m----> 1\u001b[0;31m \u001b[0;32mprint\u001b[0m \u001b[0mx\u001b[0m\u001b[0;34m.\u001b[0m\u001b[0mnext\u001b[0m\u001b[0;34m(\u001b[0m\u001b[0;34m)\u001b[0m\u001b[0;34m\u001b[0m\u001b[0m\n\u001b[0m",
            "\u001b[0;31mStopIteration\u001b[0m: "
          ]
        }
      ]
    },
    {
      "metadata": {
        "trusted": true
      },
      "cell_type": "code",
      "source": "# 在生成器函数中使用return，并在return后返回内容将触发语法错误\ndef test_generator():\n    i = 0\n    while True:\n        if i % 2 == 1:\n            yield i\n        elif i > 5:\n            return 8    # return后填入内容\n        i += 1",
      "execution_count": 62,
      "outputs": [
        {
          "output_type": "error",
          "ename": "SyntaxError",
          "evalue": "'return' with argument inside generator (<ipython-input-62-48e5bfeb1b20>, line 8)",
          "traceback": [
            "\u001b[0;36m  File \u001b[0;32m\"<ipython-input-62-48e5bfeb1b20>\"\u001b[0;36m, line \u001b[0;32m8\u001b[0m\n\u001b[0;31m    return 8    # return后填入内容\u001b[0m\n\u001b[0;31mSyntaxError\u001b[0m\u001b[0;31m:\u001b[0m 'return' with argument inside generator\n"
          ]
        }
      ]
    },
    {
      "metadata": {},
      "cell_type": "markdown",
      "source": "> 课堂案例：无限位数的裴波拉契数列"
    },
    {
      "metadata": {},
      "cell_type": "markdown",
      "source": "### 本课结语\n\n在本节课中，我们已经学习了以下几个内容：\n\n- 递归函数\n- 生成式\n- 迭代器\n- 生成器\n\n如果你还没有熟练地掌握这些知识，我建议你通过以下几种方式提高自己：\n\n- 反复地阅读这一节课的内容；\n- 依据本课知识，举一反三地进行更多的练习；\n- 到互联网上浏览和补充相关的知识，完善和巩固知识体系；\n- 在我们的课堂群中和我们进行更多的交流。\n\n如果你觉得本课内容对你有帮助，欢迎到我们的[课程](https://ke.qq.com/course/328764?tuin=2a5bd9a8)中进行评价，给予我们一个珍贵的好评。"
    }
  ],
  "metadata": {
    "kernelspec": {
      "name": "python2",
      "display_name": "Python 2",
      "language": "python"
    },
    "language_info": {
      "mimetype": "text/x-python",
      "nbconvert_exporter": "python",
      "name": "python",
      "pygments_lexer": "ipython2",
      "version": "2.7.14",
      "file_extension": ".py",
      "codemirror_mode": {
        "version": 2,
        "name": "ipython"
      }
    }
  },
  "nbformat": 4,
  "nbformat_minor": 2
}