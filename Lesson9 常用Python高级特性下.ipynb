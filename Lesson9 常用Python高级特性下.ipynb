{
  "cells": [
    {
      "metadata": {},
      "cell_type": "markdown",
      "source": "# Lesson9 常用的Python高级特性下"
    },
    {
      "metadata": {
        "collapsed": true
      },
      "cell_type": "markdown",
      "source": "## 课程内容\n\n同学，你好！欢迎来到第九课。\n\n在上一次课中，我们学习了递归与部分常用的Python高级功能，包括\n\n- 递归函数\n- 生成式\n- 生成器与迭代器\n- 生成器函数\n\n今天这节课，我们将来学习更多的Python高级功能， 包括：\n\n- Python中的函数式编程\n- 偏函数\n- 高阶函数\n- 装饰器\n"
    },
    {
      "metadata": {},
      "cell_type": "markdown",
      "source": "## Python中的函数式编程"
    },
    {
      "metadata": {},
      "cell_type": "markdown",
      "source": "### 函数式编程的概念"
    },
    {
      "metadata": {},
      "cell_type": "markdown",
      "source": "一种开发模式\n\n特点是将函数作为参数传递，避免函数副作用\n\n优缺点"
    },
    {
      "metadata": {},
      "cell_type": "markdown",
      "source": "## 偏函数"
    },
    {
      "metadata": {},
      "cell_type": "markdown",
      "source": "### 使用lambda实现偏函数"
    },
    {
      "metadata": {},
      "cell_type": "markdown",
      "source": "### partial"
    },
    {
      "metadata": {},
      "cell_type": "markdown",
      "source": "## 高阶函数"
    },
    {
      "metadata": {},
      "cell_type": "markdown",
      "source": "高阶函数的定义"
    },
    {
      "metadata": {},
      "cell_type": "markdown",
      "source": "### Python内建的高阶函数"
    },
    {
      "metadata": {},
      "cell_type": "markdown",
      "source": "### 自定义的高阶函数"
    },
    {
      "metadata": {},
      "cell_type": "markdown",
      "source": "## 装饰器"
    },
    {
      "metadata": {},
      "cell_type": "markdown",
      "source": "### 装饰器模式"
    },
    {
      "metadata": {},
      "cell_type": "markdown",
      "source": "### 常见装饰器及装饰器的使用"
    },
    {
      "metadata": {},
      "cell_type": "markdown",
      "source": "### 自定义装饰器"
    },
    {
      "metadata": {},
      "cell_type": "markdown",
      "source": "> 课堂练习: 实现一个给函数计时的装饰器"
    },
    {
      "metadata": {},
      "cell_type": "markdown",
      "source": "### 本课结语\n\n在本节课中，我们已经学习了以下几个内容：\n\n- Python中的函数式编程\n- 偏函数\n- 高阶函数\n- 装饰器\n\n如果你还没有熟练地掌握这些知识，我建议你通过以下几种方式提高自己：\n\n- 反复地阅读这一节课的内容；\n- 依据本课知识，举一反三地进行更多的练习；\n- 到互联网上浏览和补充相关的知识，完善和巩固知识体系；\n- 在我们的课堂群中和我们进行更多的交流。\n\n如果你觉得本课内容对你有帮助，欢迎到我们的[课程](https://ke.qq.com/course/328764?tuin=2a5bd9a8)中进行评价，给予我们一个珍贵的好评。"
    }
  ],
  "metadata": {
    "kernelspec": {
      "name": "python2",
      "display_name": "Python 2",
      "language": "python"
    },
    "language_info": {
      "mimetype": "text/x-python",
      "nbconvert_exporter": "python",
      "name": "python",
      "pygments_lexer": "ipython2",
      "version": "2.7.14",
      "file_extension": ".py",
      "codemirror_mode": {
        "version": 2,
        "name": "ipython"
      }
    }
  },
  "nbformat": 4,
  "nbformat_minor": 2
}