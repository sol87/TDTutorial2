{
  "cells": [
    {
      "metadata": {},
      "cell_type": "markdown",
      "source": "# Lesson9 常用的Python高级特性下"
    },
    {
      "metadata": {
        "collapsed": true
      },
      "cell_type": "markdown",
      "source": "## 课程内容\n\n同学，你好！欢迎来到第九课。\n\n在上一次课中，我们学习了递归与部分常用的Python高级功能，包括\n\n- 递归函数\n- 生成式\n- 生成器与迭代器\n- 生成器函数\n\n今天这节课，我们将来学习更多的Python高级功能， 包括：\n\n- Python中的函数式编程\n- 偏函数\n- 高阶函数\n- 装饰器\n"
    },
    {
      "metadata": {},
      "cell_type": "markdown",
      "source": "## Python中的函数式编程"
    },
    {
      "metadata": {},
      "cell_type": "markdown",
      "source": "### 函数式编程的概念"
    },
    {
      "metadata": {},
      "cell_type": "markdown",
      "source": "函数式编程是一种经典的开发范式，和面向对象编程同属于“结构化编程”的范畴。函数式编程的主要思想是把运算过程尽量写成一系列嵌套的函数调用，从而使代码更加精炼和易于理解。"
    },
    {
      "metadata": {},
      "cell_type": "markdown",
      "source": "函数式编程具备5个鲜明的特征，分别是：\n\n- 将函数视为一种可用的数据类型\n- 只用\"表达式\"，不用\"语句\"\n- 避免函数的副作用\n- 不修改程序状态\n- 依赖参数\n- 引用透明，只依赖参数"
    },
    {
      "metadata": {},
      "cell_type": "markdown",
      "source": "为了支持函数式编程，Python提供了很多相关的高级特征。"
    },
    {
      "metadata": {},
      "cell_type": "markdown",
      "source": "下面是一个利用函数式编程实现将列表中所有数字翻倍的例子。"
    },
    {
      "metadata": {
        "trusted": true
      },
      "cell_type": "code",
      "source": "map(lambda n : n*2, [1,2,3,4,5])",
      "execution_count": 1,
      "outputs": [
        {
          "output_type": "execute_result",
          "execution_count": 1,
          "data": {
            "text/plain": "[2, 4, 6, 8, 10]"
          },
          "metadata": {}
        }
      ]
    },
    {
      "metadata": {},
      "cell_type": "markdown",
      "source": "在这个案例中，我们可以体会到函数式编程代码的简洁性。\n\n案例中使用了两个函数（一个map函数和一个lambda自定义函数）的组合，其中lambda函数作为参数被传入了map函数中。可以作为其他函数的参数，说明了函数“一等公民”的地位。\n\n最终的返回值中，我们得到了一个全新的列表。这体现了函数式编程不改变参数本身的特性。"
    },
    {
      "metadata": {},
      "cell_type": "markdown",
      "source": "由于函数式编程不依赖、也不会改变外界的状态，只要给定输入参数，返回的结果必定相同。因此，每一个函数都可以被看做独立单元，代码更加模块化，非常有利于调试及测试工作。"
    },
    {
      "metadata": {},
      "cell_type": "markdown",
      "source": "下面，我们就来认识一下在Python中进行函数式编程的一些知识和技巧。"
    },
    {
      "metadata": {},
      "cell_type": "markdown",
      "source": "## 高阶函数"
    },
    {
      "metadata": {},
      "cell_type": "markdown",
      "source": "在函数式编程中，我们可以将函数当作变量一样自由使用。一个函数接收另一个函数作为参数，这种函数称之为`高阶函数(Higher-order Functions)`。"
    },
    {
      "metadata": {},
      "cell_type": "markdown",
      "source": "为了适应在Python中进行函数式编程的需要，Python提供了一些内建的高阶函数，同时很多第三方的模块包也提供了大量的高阶函数。除此之外，我们还可以自己定义自己的高阶函数。\n\n下面，我们先来介绍一下最常见的一些高阶函数。"
    },
    {
      "metadata": {},
      "cell_type": "markdown",
      "source": "## 偏函数"
    },
    {
      "metadata": {},
      "cell_type": "markdown",
      "source": "在开发工作中，我们经常会遇到这样一些情况：\n- 在批量调用同一函数处理大量数据时，存在函数中部分参数需要长时间保持不变的情况；\n- 被调用的函数本身缺少部分默认值，而调用这些函数的方式却是固定的。因此导致需要在函数外部给函数设置默认值的情况；\n\n在这些情况下，我们不得不对函数进行重新定义。使用传统的方式，我们需要定义一个新的函数，并在这个函数中调用原本的函数："
    },
    {
      "metadata": {},
      "cell_type": "markdown",
      "source": "二进制字符串转十进制数字"
    },
    {
      "metadata": {
        "trusted": true
      },
      "cell_type": "code",
      "source": "def int_b_func(num_str):\n    return int(num_str, base=2)",
      "execution_count": null,
      "outputs": []
    },
    {
      "metadata": {
        "trusted": true
      },
      "cell_type": "code",
      "source": "int_b_func(\"0111\")",
      "execution_count": 14,
      "outputs": [
        {
          "output_type": "execute_result",
          "execution_count": 14,
          "data": {
            "text/plain": "7"
          },
          "metadata": {}
        }
      ]
    },
    {
      "metadata": {},
      "cell_type": "markdown",
      "source": "比10大的最大值"
    },
    {
      "metadata": {
        "trusted": true
      },
      "cell_type": "code",
      "source": "def max_grater_than_10(*numbers):\n    return max(10, *numbers)",
      "execution_count": 5,
      "outputs": []
    },
    {
      "metadata": {
        "trusted": true
      },
      "cell_type": "code",
      "source": "max_grater_than_10(5, 6, 7)",
      "execution_count": 6,
      "outputs": [
        {
          "output_type": "execute_result",
          "execution_count": 6,
          "data": {
            "text/plain": "10"
          },
          "metadata": {}
        }
      ]
    },
    {
      "metadata": {},
      "cell_type": "markdown",
      "source": "### partial"
    },
    {
      "metadata": {},
      "cell_type": "markdown",
      "source": "上图的两个例子，我们都可以使用Python提供的`偏函数(Partial function)`来更加简洁地实现。\n\n`functools.partial`函数要求开发者传入一个函数作为参数，并传入其他参数和值作为这些参数的默认值。这种以函数作为参数的方式使得程序更加符合函数式编程的范式，使得代码更加的简洁。"
    },
    {
      "metadata": {
        "trusted": true
      },
      "cell_type": "code",
      "source": "import functools",
      "execution_count": 6,
      "outputs": []
    },
    {
      "metadata": {},
      "cell_type": "markdown",
      "source": "二进制字符串转十进制数字"
    },
    {
      "metadata": {
        "trusted": true
      },
      "cell_type": "code",
      "source": "int_b_partial = functools.partial(int, base=2)",
      "execution_count": 9,
      "outputs": []
    },
    {
      "metadata": {
        "trusted": true
      },
      "cell_type": "code",
      "source": "int_b_partial('0111')",
      "execution_count": 12,
      "outputs": [
        {
          "output_type": "execute_result",
          "execution_count": 12,
          "data": {
            "text/plain": "7"
          },
          "metadata": {}
        }
      ]
    },
    {
      "metadata": {
        "trusted": true
      },
      "cell_type": "code",
      "source": "int_b_partial('1111')",
      "execution_count": 13,
      "outputs": [
        {
          "output_type": "execute_result",
          "execution_count": 13,
          "data": {
            "text/plain": "15"
          },
          "metadata": {}
        }
      ]
    },
    {
      "metadata": {},
      "cell_type": "markdown",
      "source": "比10大的最大值"
    },
    {
      "metadata": {
        "trusted": true
      },
      "cell_type": "code",
      "source": "max_gt10_partial = functools.partial(max, 10)",
      "execution_count": 4,
      "outputs": []
    },
    {
      "metadata": {
        "trusted": true
      },
      "cell_type": "code",
      "source": "max_gt10_partial(5, 6, 7)",
      "execution_count": 5,
      "outputs": [
        {
          "output_type": "execute_result",
          "execution_count": 5,
          "data": {
            "text/plain": "10"
          },
          "metadata": {}
        }
      ]
    },
    {
      "metadata": {},
      "cell_type": "markdown",
      "source": "### 使用lambda实现偏函数"
    },
    {
      "metadata": {
        "trusted": true
      },
      "cell_type": "code",
      "source": "is_string = lambda value : isinstance(value, basestring)",
      "execution_count": 1,
      "outputs": []
    },
    {
      "metadata": {
        "trusted": true
      },
      "cell_type": "code",
      "source": "is_string(\"hello\")",
      "execution_count": 2,
      "outputs": [
        {
          "output_type": "execute_result",
          "execution_count": 2,
          "data": {
            "text/plain": "True"
          },
          "metadata": {}
        }
      ]
    },
    {
      "metadata": {
        "trusted": true
      },
      "cell_type": "code",
      "source": "is_string(123)",
      "execution_count": 3,
      "outputs": [
        {
          "output_type": "execute_result",
          "execution_count": 3,
          "data": {
            "text/plain": "False"
          },
          "metadata": {}
        }
      ]
    },
    {
      "metadata": {},
      "cell_type": "markdown",
      "source": "### Python内建的高阶函数"
    },
    {
      "metadata": {},
      "cell_type": "markdown",
      "source": "#### Map"
    },
    {
      "metadata": {},
      "cell_type": "markdown",
      "source": "`map`函数是一个功能强大的批处理高阶函数，也是在Python中进行函数式编程不可缺少的一个重要函数。\n\nmap函数接收两个参数，一个是函数，一个是序列，map将传入的函数依次作用到序列的每个元素，并把结果作为新的list返回。其调用方式如下：\n\n```python\nmap(func, iterable)\n```"
    },
    {
      "metadata": {},
      "cell_type": "markdown",
      "source": "假如我们需要获取一个纯数字组成的列表中的每一个元素平方后的新列表，则可以使用map实现："
    },
    {
      "metadata": {
        "trusted": true
      },
      "cell_type": "code",
      "source": "def square(n):\n    return n * n\n\nnum_list = [1, 2, 3, 4, 5, 6]\nprint map(square, num_list)",
      "execution_count": 15,
      "outputs": [
        {
          "output_type": "stream",
          "text": "[1, 4, 9, 16, 25, 36]\n",
          "name": "stdout"
        }
      ]
    },
    {
      "metadata": {},
      "cell_type": "markdown",
      "source": "修改一个列表中的所有元素的数据类型"
    },
    {
      "metadata": {
        "trusted": true
      },
      "cell_type": "code",
      "source": "map(str, [1, 2, 3, 4, 5, 6, 7, 8, 9])",
      "execution_count": 16,
      "outputs": [
        {
          "output_type": "execute_result",
          "execution_count": 16,
          "data": {
            "text/plain": "['1', '2', '3', '4', '5', '6', '7', '8', '9']"
          },
          "metadata": {}
        }
      ]
    },
    {
      "metadata": {},
      "cell_type": "markdown",
      "source": "#### Reduce"
    },
    {
      "metadata": {},
      "cell_type": "markdown",
      "source": "`reduce`函数是Python内建的另一个非常常用的批处理高阶函数。\n\n与map相同，reduce函数也需要接受一个函数参数和一个序列参数。但与map不同的是，reduce对序列中的元素从左到右进行累计运算，直到序列结束。因此，reduce函数得到的不再是一个元素数量相同的序列，而是一个最终的结果。"
    },
    {
      "metadata": {},
      "cell_type": "markdown",
      "source": "`reduce(f, [x1, x2, x3, x4])`的效果相当于`f(f(f(x1, x2), x3), x4)`"
    },
    {
      "metadata": {
        "trusted": true
      },
      "cell_type": "code",
      "source": "reduce(lambda x, y : x + y, [1, 2, 3, 4, 5])",
      "execution_count": 2,
      "outputs": [
        {
          "output_type": "execute_result",
          "execution_count": 2,
          "data": {
            "text/plain": "15"
          },
          "metadata": {}
        }
      ]
    },
    {
      "metadata": {
        "trusted": true
      },
      "cell_type": "code",
      "source": "reduce(lambda x, y : x * y, range(5, 0, -1))    # 使用reduce实现阶乘",
      "execution_count": 4,
      "outputs": [
        {
          "output_type": "execute_result",
          "execution_count": 4,
          "data": {
            "text/plain": "120"
          },
          "metadata": {}
        }
      ]
    },
    {
      "metadata": {},
      "cell_type": "markdown",
      "source": "在reduce函数运行的过程中，传入函数每次会处理一个元素，并将之前的结果作为另一个参数共同参与计算。实际上，reduce函数并不会从序列的第一个元素开始计算，而是从第二个元素开始，并将第一个元素作为之前的结果传入函数。"
    },
    {
      "metadata": {},
      "cell_type": "markdown",
      "source": "> 注意：由于作为第一个参数传入reduce的函数每次运行时都要处理当前元素和之前累计结果，因此该函数必须允许传入两个参数。"
    },
    {
      "metadata": {
        "trusted": true
      },
      "cell_type": "code",
      "source": "reduce(lambda x: x*2, [1, 2, 3])    # 当传入函数所需参数不足时，将触发类型错误",
      "execution_count": 7,
      "outputs": [
        {
          "output_type": "error",
          "ename": "TypeError",
          "evalue": "<lambda>() takes exactly 1 argument (2 given)",
          "traceback": [
            "\u001b[0;31m\u001b[0m",
            "\u001b[0;31mTypeError\u001b[0mTraceback (most recent call last)",
            "\u001b[0;32m<ipython-input-7-a1bba8f933ef>\u001b[0m in \u001b[0;36m<module>\u001b[0;34m()\u001b[0m\n\u001b[0;32m----> 1\u001b[0;31m \u001b[0mreduce\u001b[0m\u001b[0;34m(\u001b[0m\u001b[0;32mlambda\u001b[0m \u001b[0mx\u001b[0m\u001b[0;34m:\u001b[0m \u001b[0mx\u001b[0m\u001b[0;34m*\u001b[0m\u001b[0;36m2\u001b[0m\u001b[0;34m,\u001b[0m \u001b[0;34m[\u001b[0m\u001b[0;36m1\u001b[0m\u001b[0;34m,\u001b[0m \u001b[0;36m2\u001b[0m\u001b[0;34m,\u001b[0m \u001b[0;36m3\u001b[0m\u001b[0;34m]\u001b[0m\u001b[0;34m)\u001b[0m    \u001b[0;31m# 当传入函数所需参数不足时，将触发类型错误\u001b[0m\u001b[0;34m\u001b[0m\u001b[0m\n\u001b[0m",
            "\u001b[0;31mTypeError\u001b[0m: <lambda>() takes exactly 1 argument (2 given)"
          ]
        }
      ]
    },
    {
      "metadata": {
        "trusted": true
      },
      "cell_type": "code",
      "source": "help(reduce)",
      "execution_count": 1,
      "outputs": [
        {
          "output_type": "stream",
          "text": "Help on built-in function reduce in module __builtin__:\n\nreduce(...)\n    reduce(function, sequence[, initial]) -> value\n    \n    Apply a function of two arguments cumulatively to the items of a sequence,\n    from left to right, so as to reduce the sequence to a single value.\n    For example, reduce(lambda x, y: x+y, [1, 2, 3, 4, 5]) calculates\n    ((((1+2)+3)+4)+5).  If initial is present, it is placed before the items\n    of the sequence in the calculation, and serves as a default when the\n    sequence is empty.\n\n",
          "name": "stdout"
        }
      ]
    },
    {
      "metadata": {},
      "cell_type": "markdown",
      "source": "从帮助中，我们可以到除了函数和序列外，reduce函数还允许传入一个可选字段`initial`。这个字段表示的是累计结果的初始数值。"
    },
    {
      "metadata": {
        "trusted": true
      },
      "cell_type": "code",
      "source": "reduce(lambda x, y : x + y, range(5), 100)",
      "execution_count": 8,
      "outputs": [
        {
          "output_type": "execute_result",
          "execution_count": 8,
          "data": {
            "text/plain": "110"
          },
          "metadata": {}
        }
      ]
    },
    {
      "metadata": {},
      "cell_type": "markdown",
      "source": "#### Filter"
    },
    {
      "metadata": {},
      "cell_type": "markdown",
      "source": "`filter`函数是Python内建的第三个高阶函数，其作用是使用传入的参数对序列进行过滤。\n\n与上述两个高阶函数相同，filter函数也需要接受一个函数参数和一个序列参数。但是filter函数有且仅有这两个必填参数，没有更多的选填参数。"
    },
    {
      "metadata": {},
      "cell_type": "markdown",
      "source": "filter函数的调用形式与map比较相近，都是将第二个参数中的每一个元素分别传给第一个参数，依次执行函数得到结果；不同的是，filter函数会判断每次执行结果的bool值，并只将bool值为True的元素筛选保留下来，组成一个新的列表并进行返回。"
    },
    {
      "metadata": {
        "trusted": true
      },
      "cell_type": "code",
      "source": "filter(lambda x: True if x % 2 == 0 else False, range(20))",
      "execution_count": 9,
      "outputs": [
        {
          "output_type": "execute_result",
          "execution_count": 9,
          "data": {
            "text/plain": "[0, 2, 4, 6, 8, 10, 12, 14, 16, 18]"
          },
          "metadata": {}
        }
      ]
    },
    {
      "metadata": {},
      "cell_type": "markdown",
      "source": "> 注意：作为第一个参数传入filter中的函数起到的作用是判断元素是否可被保留，因此其返回值应当明确为一个Bool类型值。"
    },
    {
      "metadata": {},
      "cell_type": "markdown",
      "source": "### 自定义的高阶函数"
    },
    {
      "metadata": {},
      "cell_type": "markdown",
      "source": "根据需要自定义一个可以处理字典对象的map函数"
    },
    {
      "metadata": {
        "trusted": true
      },
      "cell_type": "code",
      "source": "def dict_map(func, dict_arg):\n    # filter wrong inputs\n    if not callable(func):\n        raise TypeError(\"'%s' object is not callable\" % type(func))\n    if not isinstance(dict_arg, dict):\n        raise TypeError(\"argument 2 to map() must be a dict object\")\n    \n    # execute the map\n    kw_items = dict_arg.items()\n    return dict(map(lambda item: (item[0], func(item[1])), kw_items))     # item[0] is the key, item[1] is the value",
      "execution_count": 10,
      "outputs": []
    },
    {
      "metadata": {
        "trusted": true
      },
      "cell_type": "code",
      "source": "dict_map(lambda x: x+1, {\"a\": 10, \"b\": 20, \"c\": 30})",
      "execution_count": 11,
      "outputs": [
        {
          "output_type": "execute_result",
          "execution_count": 11,
          "data": {
            "text/plain": "{'a': 11, 'b': 21, 'c': 31}"
          },
          "metadata": {}
        }
      ]
    },
    {
      "metadata": {},
      "cell_type": "markdown",
      "source": "> 思考一下，如何自定义一个可以处理字典的filter函数？"
    },
    {
      "metadata": {},
      "cell_type": "markdown",
      "source": "## 装饰器"
    },
    {
      "metadata": {},
      "cell_type": "markdown",
      "source": "在开发中，为了保障开发过程的顺利进行或是增强程序的健壮性，我们经常需要在程序中插入一些与业务逻辑无关的代码，比如：插入日志、性能测试、事务处理、缓存、权限校验等。\n\n为了更好地使不同功能的代码职责独立，我们最好的方法就是把这些非业务逻辑的代码抽象出来，作为一种可以动态切入到业务过程中的资源来使用。这种在运行时，动态地将代码切入到类的指定方法、指定位置上的编程思想，我们称之为`面向切面的编程(AOP, Aspect Oriented Program)`。"
    },
    {
      "metadata": {},
      "cell_type": "markdown",
      "source": "为了方便地进行面向切面编程，Python提供了一种特殊的高阶函数——`装饰器(decorator)`。"
    },
    {
      "metadata": {},
      "cell_type": "markdown",
      "source": "### 装饰器模式"
    },
    {
      "metadata": {},
      "cell_type": "markdown",
      "source": "概括的讲，装饰器的作用就是为已经存在的对象添加额外的功能。借助装饰器，我们可以在不破坏代码原本结构的情况下抽离出大量与函数功能本身无关的雷同代码，封装到装饰器中并继续重用。这种使用装饰器动态地将功能添加到一个对象中的编程模式即`装饰器模式(Decorator Pattern)`。"
    },
    {
      "metadata": {},
      "cell_type": "markdown",
      "source": "### 自定义装饰器"
    },
    {
      "metadata": {},
      "cell_type": "markdown",
      "source": "当我们面临需要在不改变原本代码的前提下为函数添加额外功能的需求时，我们应当如何实现呢？\n\n借助本课所学的知识，我们可以另外实现一个高阶函数，将目标函数作为高阶函数的参数传入，再在高阶函数中对目标函数的运行过程进行修改，实现一个新的函数，并在最终将这个改造后的新函数返回出来。"
    },
    {
      "metadata": {},
      "cell_type": "markdown",
      "source": "例如，我们希望记录某个函数的执行日志，我们可以实现这样一个高阶函数："
    },
    {
      "metadata": {
        "trusted": true
      },
      "cell_type": "code",
      "source": "import logging\n\n\ndef func_warn_log(func):\n    logging.warn(\"%s is running\" % func.__name__)    # log the process\n    func()    # execute the function\n    \n    \ndef foo():\n    print \"this is foo...\"",
      "execution_count": null,
      "outputs": []
    },
    {
      "metadata": {
        "trusted": true
      },
      "cell_type": "code",
      "source": "func_warn_log(foo)",
      "execution_count": null,
      "outputs": []
    },
    {
      "metadata": {},
      "cell_type": "markdown",
      "source": "这种方式确实可以实现添加执行日志的功能，但是我们无法访问目标函数的输入参数和输出结果；并且这种方式实际上只是在高阶函数内运行了目标函数，并不能起到装饰一个函数且不影响其本来的调用代码的作用。\n\n为了解决这个问题，我们可以考虑在高阶函数中定义一个子函数来代替原本的函数，并在高阶函数中返回这个新函数。"
    },
    {
      "metadata": {
        "trusted": true
      },
      "cell_type": "code",
      "source": "import logging\n\n\ndef wrap_func_warn_log(func):\n    # 定义一个新的包装函数\n    def wrapper():\n        logging.warn(\"%s is running\" % func.__name__)\n        return func()   # 在包装函数内执行传入的函数func()\n    return wrapper    # 返回包装后的函数\n\n\ndef foo():\n    print \"this is foo...\"",
      "execution_count": null,
      "outputs": []
    },
    {
      "metadata": {
        "trusted": true
      },
      "cell_type": "code",
      "source": "foo = wrap_func_warn_log(foo)    # 重新赋值foo，使得foo函数变为被包装后的函数\nfoo()",
      "execution_count": null,
      "outputs": []
    },
    {
      "metadata": {},
      "cell_type": "markdown",
      "source": "通过这种方式，我们就实现了一个简单的函数的装饰器。在这个例子中我们不难看出，从本质上看，装饰器就是一个返回函数的高阶函数。"
    },
    {
      "metadata": {},
      "cell_type": "markdown",
      "source": "为了方便装饰器的调用，Python提供了一种简单的调用方式——使用`@`语法糖调用装饰器。这种方式的好处是，无需对函数进行重定义或额外封装，即可实现装饰效果。"
    },
    {
      "metadata": {
        "trusted": true
      },
      "cell_type": "code",
      "source": "import logging\n\n\ndef wrap_func_warn_log(func):\n    # 定义一个新的包装函数\n    def wrapper():\n        logging.warn(\"%s is running\" % func.__name__)\n        return func()   # 在包装函数内执行传入的函数func()\n    return wrapper    # 返回包装后的函数\n\n\n@wrap_func_warn_log\ndef foo():\n    print \"this is foo...\"",
      "execution_count": null,
      "outputs": []
    },
    {
      "metadata": {},
      "cell_type": "markdown",
      "source": "> 课后练习: 实现一个给函数计时的装饰器"
    },
    {
      "metadata": {},
      "cell_type": "markdown",
      "source": "### 带参数的装饰器*"
    },
    {
      "metadata": {},
      "cell_type": "markdown",
      "source": "在设计装饰器的过程中，如果遇到一些功能非常相近的装饰器，我们是否可以将其抽象为一个函数，并使用参数去区分这些不同功能呢？答案是肯定的，我们可以看下面这个例子："
    },
    {
      "metadata": {},
      "cell_type": "markdown",
      "source": "如果我们希望改装上例中的`wrap_func_log`这个装饰器，使其可以自由地改变日志的等级（即按需要改变`logging.warn`方法为`logging.error`、`logging.info`等方法），应当如何实现呢？"
    },
    {
      "metadata": {},
      "cell_type": "markdown",
      "source": "在这个案例中，我们需要考虑实现使用者在调用`@wrap_func_log(level=warning)`的时候，等价于调用`@wrap_func_warn_log`。\n\n因此，我们只要使得 `wrap_func_log(level=\"warning\")`的效果等价于`wrap_func_warn_log`即可。实现这个需求并不难："
    },
    {
      "metadata": {
        "trusted": true
      },
      "cell_type": "code",
      "source": "import logging\n\n\ndef wrap_func_log(level=\"info\"):\n    # 定义参数映射表\n    LOG_LEVELS = {\n        \"debug\": logging.debug,\n        \"info\": logging.info,\n        \"warning\": logging.warning,\n        \"error\": logging.error\n    }\n    log_command = LOG_LEVELS.get(level) or logging.info    # 根据参数选择log级别\n    # 包裹原本的装饰器\n    def dec_wrapper(func):\n        def func_wrapper():\n            log_command(\"%s is running\" % func.__name__)\n            return func()   # 在包装函数内执行传入的函数func()\n        return func_wrapper    # 返回包装后的函数\n    return dec_wrapper    # 返回内部的装饰器",
      "execution_count": null,
      "outputs": []
    },
    {
      "metadata": {},
      "cell_type": "markdown",
      "source": "观察此装饰函数的实现我们可以看出，相比不带参数的装饰器这个函数更多了一层。当参数传入这个参数时，函数根据参数的不同生成了一个新的装饰器函数。"
    },
    {
      "metadata": {
        "trusted": true
      },
      "cell_type": "code",
      "source": "@wrap_func_log(level=\"warning\")\ndef foo():\n    print \"this is foo...\"",
      "execution_count": null,
      "outputs": []
    },
    {
      "metadata": {
        "trusted": true
      },
      "cell_type": "code",
      "source": "foo()",
      "execution_count": null,
      "outputs": []
    },
    {
      "metadata": {
        "trusted": true
      },
      "cell_type": "code",
      "source": "@wrap_func_log(level=\"error\")\ndef foo():\n    print \"this is foo...\"",
      "execution_count": null,
      "outputs": []
    },
    {
      "metadata": {
        "trusted": true
      },
      "cell_type": "code",
      "source": "foo()",
      "execution_count": null,
      "outputs": []
    },
    {
      "metadata": {},
      "cell_type": "markdown",
      "source": "### 本课结语\n\n在本节课中，我们已经学习了以下几个内容：\n\n- Python中的函数式编程\n- 偏函数\n- 高阶函数\n- 装饰器\n\n如果你还没有熟练地掌握这些知识，我建议你通过以下几种方式提高自己：\n\n- 反复地阅读这一节课的内容；\n- 依据本课知识，举一反三地进行更多的练习；\n- 到互联网上浏览和补充相关的知识，完善和巩固知识体系；\n- 在我们的课堂群中和我们进行更多的交流。\n\n如果你觉得本课内容对你有帮助，欢迎到我们的[课程](https://ke.qq.com/course/328764?tuin=2a5bd9a8)中进行评价，给予我们一个珍贵的好评。"
    }
  ],
  "metadata": {
    "kernelspec": {
      "name": "python2",
      "display_name": "Python 2",
      "language": "python"
    },
    "language_info": {
      "mimetype": "text/x-python",
      "nbconvert_exporter": "python",
      "name": "python",
      "pygments_lexer": "ipython2",
      "version": "2.7.14",
      "file_extension": ".py",
      "codemirror_mode": {
        "version": 2,
        "name": "ipython"
      }
    }
  },
  "nbformat": 4,
  "nbformat_minor": 2
}