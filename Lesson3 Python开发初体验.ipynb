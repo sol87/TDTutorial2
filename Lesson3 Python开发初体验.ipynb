{
 "cells": [
  {
   "cell_type": "markdown",
   "metadata": {},
   "source": [
    "# Lesson3 Python开发初体验"
   ]
  },
  {
   "cell_type": "markdown",
   "metadata": {
    "collapsed": true
   },
   "source": [
    "## 课程内容\n",
    "\n",
    "同学，你好！很高兴能够一起进入Python学习的奇妙旅程。\n",
    "\n",
    "在上一次课中，我们已经安装好了Python的运行环境，你应该已经成功运行了“Hello World”程序了。\n",
    "\n",
    "今天这节课，我们将向大家讲解以下几个内容：\n",
    "\n",
    "- 第一个命令保留字`print`\n",
    "- 字符串\n",
    "- 注释\n",
    "- 常见异常\n",
    "- 基本数据类型\n",
    "- 类型相关的内建函数"
   ]
  },
  {
   "cell_type": "markdown",
   "metadata": {},
   "source": [
    "## 第一个命令保留字`print`\n",
    "\n",
    "回顾一下“Hello word”程序："
   ]
  },
  {
   "cell_type": "code",
   "execution_count": 2,
   "metadata": {},
   "outputs": [
    {
     "name": "stdout",
     "output_type": "stream",
     "text": [
      "hello world.\n"
     ]
    }
   ],
   "source": [
    "print \"hello world.\""
   ]
  },
  {
   "cell_type": "markdown",
   "metadata": {},
   "source": [
    "在这段代码中存在两个部分的内容，分别是不带引号的`print`和被引号包围的的`“hello world.”`\n",
    "\n",
    "这段代码的功能是在返回区打印 `hello world.`这个句子。\n",
    "\n",
    "显然，`print`这个单词在这里是一个**命令**性质的内容，它会促使后方的内容被打印出来；而`“hello world.”`则是被打印出来的**数据**性质的内容。\n",
    "\n",
    "你可以尝试用`print`这个命令语句打印别的内容，比如："
   ]
  },
  {
   "cell_type": "code",
   "execution_count": 3,
   "metadata": {},
   "outputs": [
    {
     "name": "stdout",
     "output_type": "stream",
     "text": [
      "123\n",
      "hello again.\n",
      "===\n"
     ]
    }
   ],
   "source": [
    "print 123\n",
    "print \"hello again.\"\n",
    "print \"===\""
   ]
  },
  {
   "cell_type": "markdown",
   "metadata": {},
   "source": [
    "> 注意：在Python3中，`print`不再作为命令保留字存在，而是以内建函数的方式存在。如果你使用的是Python3，你需要这么打印： ```print(\"hello world\")```"
   ]
  },
  {
   "cell_type": "markdown",
   "metadata": {},
   "source": [
    "在python中，像`print`这样有确切功能的单词还有很多，它们可以直接被Python解释器识别并发挥作用。这些Python原生支持的功能型单词代码被称为**保留字**。\n",
    "在之后的课程中我们会逐渐学习到更多的Python保留字。"
   ]
  },
  {
   "cell_type": "markdown",
   "metadata": {},
   "source": [
    "### Python2.7中的保留字列表\n",
    "\n",
    "|保留字       |说明\n",
    "|-|-|\n",
    "|and \t\t|用于表达式运算，逻辑与操作\n",
    "|as\t\t\t|用于类型转换\n",
    "|assert\t\t|断言，用于判断变量或条件表达式的值是否为真\n",
    "|break\t\t|中断循环语句的执行\n",
    "|class\t\t|用于定义类\n",
    "|continue\t|继续执行下一次循环\n",
    "|def\t\t|用于定义函数或方法\n",
    "|del\t\t|删除变量或者序列的值\n",
    "|elif\t\t|条件语句 与if else 结合使用\n",
    "|else\t\t|条件语句，与if,elif结合使用。也可以用于异常和循环使用\n",
    "|except \t|包括捕获异常后的操作代码，与try，finally结合使用\n",
    "|exec\t\t|用于执行python语句\n",
    "|for\t\t|循环语句\n",
    "|finally\t|用于异常语句，出现异常后，始终要执行finally包含的代码块。与try,except结合使用\n",
    "|from\t\t|用于导入模块，与import结合使用\n",
    "|global\t\t|定义全局变量\n",
    "|if\t\t\t|条件语句，与else，elif结合使用\n",
    "|import\t\t|用于导入模块，与from 结合使用\n",
    "|in\t\t\t|判断变量是否存在序列中\n",
    "|is\t\t\t|判断变量是否为某个类的实例\n",
    "|lambda\t\t|定义匿名函数\n",
    "|not\t\t|用于表达式运算，逻辑非操作\n",
    "|or\t\t\t|用于表达式运算，逻辑或操作\n",
    "|pass\t\t|空的类，函数，方法的占位符\n",
    "|print\t\t|打印语句\n",
    "|raise\t\t|异常抛出操作\n",
    "|return\t\t|用于从函数返回计算结果\n",
    "|try\t\t|包含可能会出现异常的语句，与except，finally结合使用\n",
    "|while\t\t|循环语句\n",
    "|with\t\t|简化Python的语句\n",
    "|yield\t\t|用于从函数依次返回值"
   ]
  },
  {
   "cell_type": "markdown",
   "metadata": {},
   "source": [
    "## 字符串\n",
    "\n",
    "在“hello world”的案例中，`\"hello world.\"`就是一个字符串。\n",
    "\n",
    "与保留字不同,字符串并不具备命令功能，而仅仅是表示一段文字信息的数据内容。\n",
    "\n",
    "字符串的一个典型特征就是由**引号`'`或`\"`**包围。\n",
    "\n",
    "任何字符或空字符都可以作为字符串的内容，以下这些例子都是正确的字符串。"
   ]
  },
  {
   "cell_type": "code",
   "execution_count": 45,
   "metadata": {},
   "outputs": [
    {
     "data": {
      "text/plain": [
       "'hello'"
      ]
     },
     "execution_count": 45,
     "metadata": {},
     "output_type": "execute_result"
    }
   ],
   "source": [
    "\"hello\""
   ]
  },
  {
   "cell_type": "code",
   "execution_count": 46,
   "metadata": {},
   "outputs": [
    {
     "data": {
      "text/plain": [
       "'how are you?'"
      ]
     },
     "execution_count": 46,
     "metadata": {},
     "output_type": "execute_result"
    }
   ],
   "source": [
    "'how are you?'"
   ]
  },
  {
   "cell_type": "code",
   "execution_count": 47,
   "metadata": {},
   "outputs": [
    {
     "data": {
      "text/plain": [
       "\"I'm fine. Thank you, and you?\""
      ]
     },
     "execution_count": 47,
     "metadata": {},
     "output_type": "execute_result"
    }
   ],
   "source": [
    "\"I'm fine. Thank you, and you?\""
   ]
  },
  {
   "cell_type": "code",
   "execution_count": 49,
   "metadata": {},
   "outputs": [
    {
     "data": {
      "text/plain": [
       "'123456'"
      ]
     },
     "execution_count": 49,
     "metadata": {},
     "output_type": "execute_result"
    }
   ],
   "source": [
    "'123456'"
   ]
  },
  {
   "cell_type": "code",
   "execution_count": 59,
   "metadata": {},
   "outputs": [
    {
     "data": {
      "text/plain": [
       "'!@#$%^&()*^&%'"
      ]
     },
     "execution_count": 59,
     "metadata": {},
     "output_type": "execute_result"
    }
   ],
   "source": [
    "'!@#$%^&()*^&%'"
   ]
  },
  {
   "cell_type": "code",
   "execution_count": 58,
   "metadata": {},
   "outputs": [
    {
     "data": {
      "text/plain": [
       "'\\xe8\\xbf\\x99\\xe6\\x98\\xaf\\xe4\\xb8\\x80\\xe4\\xb8\\xaa\\xe5\\xad\\x97\\xe7\\xac\\xa6\\xe4\\xb8\\xb2'"
      ]
     },
     "execution_count": 58,
     "metadata": {},
     "output_type": "execute_result"
    }
   ],
   "source": [
    "'这是一个字符串'"
   ]
  },
  {
   "cell_type": "code",
   "execution_count": 56,
   "metadata": {},
   "outputs": [
    {
     "data": {
      "text/plain": [
       "u'\\u8fd9\\u4e5f\\u662f\\u4e00\\u4e2a\\u5b57\\u7b26\\u4e32'"
      ]
     },
     "execution_count": 56,
     "metadata": {},
     "output_type": "execute_result"
    }
   ],
   "source": [
    "u'这也是一个字符串'"
   ]
  },
  {
   "cell_type": "code",
   "execution_count": 52,
   "metadata": {},
   "outputs": [
    {
     "data": {
      "text/plain": [
       "''"
      ]
     },
     "execution_count": 52,
     "metadata": {},
     "output_type": "execute_result"
    }
   ],
   "source": [
    "\"\""
   ]
  },
  {
   "cell_type": "markdown",
   "metadata": {},
   "source": [
    "在上方的例子中，我们可以看到无论是单引号`'`还是双引号`\"`都可以正确地表示字符串，但是并不会受另外的字符串影响。\n",
    "\n",
    "这意味着，当你的字符串中需要出现单引号时，你可以在最外层使用双引号。反之亦然。\n",
    "\n",
    "> 注意，在Python中，单引号和双引号都可以正确表示字符串，但只有英文模式下的引号是正确的。\n",
    ">\n",
    "> 作为初学者，我应当在我的代码中使用双引号还是单引号？我的答案是，任意一种，但不要随意切换。"
   ]
  },
  {
   "cell_type": "markdown",
   "metadata": {},
   "source": [
    "除了单行的字符串外，我们还可以使用一对三个一组的引号包围一段文字来实现跨越多行的字符串。如："
   ]
  },
  {
   "cell_type": "code",
   "execution_count": 5,
   "metadata": {},
   "outputs": [
    {
     "name": "stdout",
     "output_type": "stream",
     "text": [
      "\n",
      "This is a multi-line string.\n",
      "It has two lines.\n",
      "\n",
      "\n",
      "Not only double qoute can make a string,\n",
      "Single qoute is also ok.\n",
      "\n"
     ]
    }
   ],
   "source": [
    "# 双引号可以让字符串跨越多行\n",
    "print \"\"\"\n",
    "This is a multi-line string.\n",
    "It has two lines.\n",
    "\"\"\"\n",
    "# 单引号同样可以\n",
    "print '''\n",
    "Not only double qoute can make a string,\n",
    "Single qoute is also ok.\n",
    "'''"
   ]
  },
  {
   "cell_type": "markdown",
   "metadata": {},
   "source": [
    "同样的，三引号也是需要相同的，不支持混用。"
   ]
  },
  {
   "cell_type": "markdown",
   "metadata": {},
   "source": [
    "### 转义字符\n",
    "\n",
    "除了使用三引号的方式，还有别的方式表达换行吗？\n",
    "\n",
    "答案是肯定的，你可以使用`\"\\n\"`来表示一个换行符。当这个标记出现在一个字符串当中时，即会被识别为换行符。如："
   ]
  },
  {
   "cell_type": "code",
   "execution_count": 6,
   "metadata": {},
   "outputs": [
    {
     "name": "stdout",
     "output_type": "stream",
     "text": [
      "后面是一个换行符\n",
      "前面是一个换行符\n"
     ]
    }
   ],
   "source": [
    "print \"后面是一个换行符\\n前面是一个换行符\""
   ]
  },
  {
   "cell_type": "markdown",
   "metadata": {},
   "source": [
    "除了换行符之外，在字符串中，很多特殊功能都可以使用以`\\`开头的特殊字符表示，这种特殊的字符被称为**转义字符**。常见的转义字符有：\n",
    "\n",
    "|转义字符|\t作用描述|\n",
    "|-|-|\n",
    "|\\ (在行尾时)|\t续行符\n",
    "|\\\\\\|\t反斜杠符号\n",
    "|\\'|\t单引号\n",
    "|\\\"|\t双引号\n",
    "|\\a|\t响铃\n",
    "|\\b|\t退格(Backspace)\n",
    "|\\e|\t转义\n",
    "|\\000|\t空\n",
    "|\\n|\t换行\n",
    "|\\v|\t纵向制表符\n",
    "|\\t|\t横向制表符\n",
    "|\\r|\t回车\n",
    "|\\f|\t换页\n",
    "|\\oyy|\t八进制数，yy代表的字符，例如：\\o12代表换行\n",
    "|\\xyy|\t十六进制数，yy代表的字符，例如：\\x0a代表换行\n",
    "|\\other|\t其它的字符以普通格式输出\n",
    " "
   ]
  },
  {
   "cell_type": "markdown",
   "metadata": {},
   "source": [
    "> 思考一下： 当一段字符串中需要同时出现单引号和双引号的情况，应当如何表示？例如，将下述内容转换为字符串  \n",
    ">\n",
    "> *用\"符号和'符号包围一段内容都可以表示这段内容是字符串。*"
   ]
  },
  {
   "cell_type": "markdown",
   "metadata": {},
   "source": [
    "有关各类转义符的作用，现在你只需要有所了解即可，在之后的学习和工作中你会自然地接触这些案例，我建议你到用到的时候再去记忆它们。早点忘记这些细节，始终记得有这种存在才是帮助你减轻学习负担、抓住学习重点的关键！"
   ]
  },
  {
   "cell_type": "markdown",
   "metadata": {},
   "source": [
    "## 注释\n",
    "\n",
    "任何一门编程语言都有注释的功能，也就是使用一类特殊的符号装饰使得部分代码不会被运行的功能。\n",
    "\n",
    "在Python当中`#`是一个合法的注释符，在同一行内，#右侧的代码将被识别为注释内容从而失去功能性。\n",
    "\n",
    "> 代码是写给人阅读的，顺便用于运行。如果代码是写给机器阅读的，那么我们应该使用二进制机器码编程。  ——  Harold Abelson 与 Gerald Jay Sussman, 计算机科学家和作家，摘自《The Structure and Interpretation of Computer Programs》\n",
    "\n",
    "> 注释纵然可以解释一些事情，但也不宜滥用。好的代码自己本身就是最好的文档。当你打算加注释的时候，问问自己‘我如何才能把我的代码改善到不需增加注释？’重构自己的代码，然后使文档让其更清楚。 — Steve McConnell《代码大全》的作者"
   ]
  },
  {
   "cell_type": "markdown",
   "metadata": {},
   "source": [
    "正确使用注释的范例："
   ]
  },
  {
   "cell_type": "code",
   "execution_count": 7,
   "metadata": {},
   "outputs": [
    {
     "name": "stdout",
     "output_type": "stream",
     "text": [
      "hello world.\n"
     ]
    }
   ],
   "source": [
    "# 在行首插入#，占用一行的注释下方代码\n",
    "print \"hello world.\"    # 在一段代码后插入#，注释该行代码。"
   ]
  },
  {
   "cell_type": "markdown",
   "metadata": {},
   "source": [
    "> 思考题  \n",
    ">\n",
    "> 思考一下，下面这段代码运行之后会发生什么？如果你已经有答案了，能不能说出原因？\n",
    "\n",
    "```python\n",
    "print \"这段字符串中有一个#存在。\"\n",
    "```"
   ]
  },
  {
   "cell_type": "markdown",
   "metadata": {},
   "source": [
    "除了`#`之外，你还可以使用上文中提到的三对引号实现的跨行字符串来实现多行注释内容。这种注释通常被用于模块、函数、类等代码块的注释，也被称为“Doc String”。\n",
    "\n",
    "> 有一些第三方文档生成服务可以通过解析python源代码，自动找到代码中的doc string生成文档。有很多成熟的python包都是用这种方式生成的文档。\n",
    "\n",
    "代码示例：\n",
    "\n",
    "```python\n",
    "\"\"\"\n",
    "这是一段跨行的注释内容，\n",
    "可以用于Python代码块文档的注释。\n",
    "\"\"\"\n",
    "```"
   ]
  },
  {
   "cell_type": "markdown",
   "metadata": {},
   "source": [
    "## 常见异常\n",
    "\n",
    "Python是一种解释型语言，当你执行一段代码的时候，就相当于你向解释器推送了一坨数据。解释器会实时地分析这些数据，把它们变成一个个简短的计算机指令，然后调用CPU、内存等硬件来执行。\n",
    "\n",
    "> 解释器与编译器：编译器像是一家文档翻译公司，程序员将写好的代码寄给编译器，编译器一次性翻译完再转交给机器；而解释器则像一个同声口译专员，程序员一边讲，解释器会实时地翻译这些内容给机器。\n",
    "\n",
    "在这个过程中，解释器不但负责翻译，还会负责查错。当你输入的代码不符合规范，或是在运行的时候出现了意料之外的中断时，解释器都会将其视作当作`异常`来处理，进入异常处理程序，收集错误信息并反馈给你。\n",
    "\n",
    "> 作为开发者，你几乎每天都要和异常相处。相信我，纵使最优秀的程序员也是在不断地出现异常和解决异常中将程序开发出来的。\n",
    ">\n",
    "> 作为一位初学者，如果你勤于练习，那么你一定会面临大量的异常。不用担心, 这并不可怕。我相信这个阶段你所遇到的异常虽然很多单种类并不见得丰富。所以此时你只需要要掌握几种最为常见的异常，即可应对大部分的问题。"
   ]
  },
  {
   "cell_type": "markdown",
   "metadata": {},
   "source": [
    "### 定位异常的位置\n",
    "\n",
    "通常情况下，当你运行的代码发生了异常的时候，运行环境会显示出解释器抛出的异常信息。异常概况通常会显示在异常信息的最后一行，在此之前会显示异常回溯（trace back）信息。\n",
    "\n",
    "![image.png](http://ome7yw3kc.bkt.clouddn.com/%E6%8A%A5%E9%94%99%E4%BF%A1%E6%81%AF.png)\n",
    "\n",
    "如上图所示，红色线框内的内容即是异常回溯信息；紫色线框内的内容是异常概况信息。\n",
    "\n",
    "当发生异常时，你可以通过异常概况中的异常类型和描述来推测发生了什么。但是在实际开发中，异常的定位难度远大于解决异常本身，大部分情况下，你需要阅读回溯信息来找到发生异常的位置。\n",
    "\n",
    "异常回溯信息中，每一行的末尾都有一个行号。你可以根据行号的提示找到发生异常的位置。\n"
   ]
  },
  {
   "cell_type": "markdown",
   "metadata": {},
   "source": [
    "### 常见异常1 语法错误（SyntaxError）\n",
    "\n",
    "这可能是你遇到的最多的错误。如果你在运行中遇到了这个错误，那么你只需要检查自己有没有写错单词或者标点符号即可。\n",
    "\n",
    "> 大多数语法错误都是经验不足的阶段才会犯的，所以如果你检查了很久都没有办法定位错误的话，找个老鸟问一下肯定可以轻轻松松地解决这种错误。"
   ]
  },
  {
   "cell_type": "markdown",
   "metadata": {},
   "source": [
    "### 常见异常2 缩进错误（IndentationError）\n",
    "Python是依靠缩进来判断代码作用域的语言，因此缩进在Python中是一种严格的规则。\n",
    "\n",
    "在初学阶段你可能会经常遇到这个错误。不用担心，这是最容易解决的错误。一段时间后，你就不会总是出现这个问题了。\n",
    "\n",
    "> 你可以使用空格或tab作为缩进依据，绝对不要混合使用。如果你希望我推荐一种缩进的方式，我建议你使用4个空格作为一级缩进。"
   ]
  },
  {
   "cell_type": "markdown",
   "metadata": {},
   "source": [
    "### 更多的异常\n",
    "\n",
    "还有很多异常，但它们并没有前面提到的两种出现的频率高。你会在之后的学习和实践中不断地认识它们的。\n",
    "\n",
    "下表是所有Python标准异常的简介，希望对你有用\n",
    "\n",
    "|异常名称\t|描述\n",
    "|-|-|\n",
    "|BaseException\t|所有异常的基类\n",
    "|SystemExit\t|解释器请求退出\n",
    "|KeyboardInterrupt\t|用户中断执行(通常是输入^C)\n",
    "|Exception\t|常规错误的基类\n",
    "|StopIteration\t|迭代器没有更多的值\n",
    "|GeneratorExit\t|生成器(generator)发生异常来通知退出\n",
    "|StandardError\t|所有的内建标准异常的基类\n",
    "|ArithmeticError\t|所有数值计算错误的基类\n",
    "|FloatingPointError\t|浮点计算错误\n",
    "|OverflowError\t|数值运算超出最大限制\n",
    "|ZeroDivisionError\t|除(或取模)零 (所有数据类型)\n",
    "|AssertionError\t|断言语句失败\n",
    "|AttributeError\t|对象没有这个属性\n",
    "|EOFError\t|没有内建输入,到达EOF 标记\n",
    "|EnvironmentError\t|操作系统错误的基类\n",
    "|IOError\t|输入/输出操作失败\n",
    "|OSError\t|操作系统错误\n",
    "|WindowsError\t|系统调用失败\n",
    "|ImportError\t|导入模块/对象失败\n",
    "|LookupError\t|无效数据查询的基类\n",
    "|IndexError\t|序列中没有此索引(index)\n",
    "|KeyError\t|映射中没有这个键\n",
    "|MemoryError\t|内存溢出错误(对于Python 解释器不是致命的)\n",
    "|NameError\t|未声明/初始化对象 (没有属性)\n",
    "|UnboundLocalError\t|访问未初始化的本地变量\n",
    "|ReferenceError\t|弱引用(Weak reference)试图访问已经垃圾回收了的对象\n",
    "|RuntimeError\t|一般的运行时错误\n",
    "|NotImplementedError\t|尚未实现的方法\n",
    "|SyntaxError\t|Python 语法错误\n",
    "|IndentationError\t|缩进错误\n",
    "|TabError\t|Tab 和空格混用\n",
    "|SystemError\t|一般的解释器系统错误\n",
    "|TypeError\t|对类型无效的操作\n",
    "|ValueError\t|传入无效的参数\n",
    "|UnicodeError\t|Unicode 相关的错误\n",
    "|UnicodeDecodeError\t|Unicode 解码时的错误\n",
    "|UnicodeEncodeError\t|Unicode 编码时错误\n",
    "|UnicodeTranslateError\t|Unicode 转换时错误\n",
    "|Warning\t|警告的基类\n",
    "|DeprecationWarning\t|关于被弃用的特征的警告\n",
    "|FutureWarning\t|关于构造将来语义会有改变的警告\n",
    "|OverflowWarning\t|旧的关于自动提升为长整型(long)的警告\n",
    "|PendingDeprecationWarning\t|关于特性将会被废弃的警告\n",
    "|RuntimeWarning\t|可疑的运行时行为(runtime behavior)的警告\n",
    "|SyntaxWarning\t|可疑的语法的警告\n",
    "|UserWarning\t|用户代码生成的警告"
   ]
  },
  {
   "cell_type": "markdown",
   "metadata": {},
   "source": [
    "## 基础数据类型与运算\n",
    "\n",
    "讲完了print和字符串，我们已经可以让代码替我们表达信息了。但是这样的操作好像并没有发挥出计算机的功能来。下面我们就来认识一下除了字符串以外的几种基本数据类型。\n",
    "\n",
    "### 整数Int\n",
    "\n",
    "在Python中，十进制的整数可以无需任何修饰直接表示自身数值。\n",
    "\n",
    "> 2进制、8进制和16进制的整数也都有自己的表示方式，如果对你有用，自己上网搜索表示方法。\n",
    "\n",
    "> Python当中的整数对于位数的限制并不明确，一般情况下并不会出现位数溢出的情况。当数值超过一定位数时，解释器会自动将其转为长整型（Long）以防止溢出。\n"
   ]
  },
  {
   "cell_type": "code",
   "execution_count": 8,
   "metadata": {},
   "outputs": [
    {
     "data": {
      "text/plain": [
       "1234"
      ]
     },
     "execution_count": 8,
     "metadata": {},
     "output_type": "execute_result"
    }
   ],
   "source": [
    "1234"
   ]
  },
  {
   "cell_type": "code",
   "execution_count": 9,
   "metadata": {},
   "outputs": [
    {
     "data": {
      "text/plain": [
       "999999999999999999999999999999999999999L"
      ]
     },
     "execution_count": 9,
     "metadata": {},
     "output_type": "execute_result"
    }
   ],
   "source": [
    "999999999999999999999999999999999999999"
   ]
  },
  {
   "cell_type": "code",
   "execution_count": 10,
   "metadata": {},
   "outputs": [
    {
     "data": {
      "text/plain": [
       "-998"
      ]
     },
     "execution_count": 10,
     "metadata": {},
     "output_type": "execute_result"
    }
   ],
   "source": [
    "-998"
   ]
  },
  {
   "cell_type": "markdown",
   "metadata": {},
   "source": [
    "### 浮点数Float\n",
    "\n",
    "浮点数即是小数。在绝大多数编程语言中，浮点数的精度都是有限的。在Python中，浮点数使用本机双精度(64 bit)表示，精度可以达到小数点后大约15到17位。\n"
   ]
  },
  {
   "cell_type": "code",
   "execution_count": 11,
   "metadata": {},
   "outputs": [
    {
     "data": {
      "text/plain": [
       "3.141592653589793"
      ]
     },
     "execution_count": 11,
     "metadata": {},
     "output_type": "execute_result"
    }
   ],
   "source": [
    "3.14159265358979323846264338327950288419716939937510582097494459230781640628620899862803482534"
   ]
  },
  {
   "cell_type": "markdown",
   "metadata": {},
   "source": [
    "> 超过17位的小数可以考虑使用decimal模块来实现，如果你真的需要具体方法，请自行谷歌。"
   ]
  },
  {
   "cell_type": "markdown",
   "metadata": {},
   "source": [
    "> 除了整数和浮点数外，Python还支持诸如复数这样更加复杂的数学类型，你可以使用Math模块来实现这些高级数学运算。"
   ]
  },
  {
   "cell_type": "markdown",
   "metadata": {},
   "source": [
    "> 思考一下，整数和浮点数在内存中是如何存储的？"
   ]
  },
  {
   "cell_type": "markdown",
   "metadata": {},
   "source": [
    "### 布尔值Bool\n",
    "\n",
    "布尔值（`Bool`）是计算机科学中的逻辑数据类型，以发明布尔代数的数学家乔治·布尔为名。它是只有两种值的原始类型，在Python中是`True`和`False`。\n",
    "\n",
    "布尔运算在计算机科学领域具有崇高的地位，不夸张地说整个计算机科学都是建立在这种基本的算法基础上的。在后续的课程当中，我们将会越来越深入地理解这种数据类型的作用。"
   ]
  },
  {
   "cell_type": "markdown",
   "metadata": {},
   "source": [
    "> 在Python中，所有的对象都可以被解析为布尔值。\n",
    ">\n",
    "> 在布尔运算中，除了True和False外，任何非零数字或非空对象都会被解析为True，数字零、空对象以及特殊对象None都被解析为Flase。"
   ]
  },
  {
   "cell_type": "markdown",
   "metadata": {},
   "source": [
    "### 空值（None）\n",
    "\n",
    "这是一个空对象，在转成布尔值时等价于False，在Python中，它只有一种表示，即`None`。\n",
    "\n",
    "这个数据类型存在的意义在于描述那些没有返回值的表达式或调用结果。如果你现在无法理解这句话的涵义，那就先忽略这件事。不用担心，在后续的学习中，你会逐渐理解。"
   ]
  },
  {
   "cell_type": "markdown",
   "metadata": {},
   "source": [
    "###  运算符\n",
    "\n",
    "为了实现数学运算的功能，Python提供了算数运算符合逻辑运算符两种运算符号。在Python代码中，由数据和运算符组成的表达式将会被求值运算，并得到返回结果。你可以理解为表达式所指代的即为其结果。如："
   ]
  },
  {
   "cell_type": "code",
   "execution_count": 12,
   "metadata": {},
   "outputs": [
    {
     "data": {
      "text/plain": [
       "2"
      ]
     },
     "execution_count": 12,
     "metadata": {},
     "output_type": "execute_result"
    }
   ],
   "source": [
    "1 + 1"
   ]
  },
  {
   "cell_type": "code",
   "execution_count": 13,
   "metadata": {},
   "outputs": [
    {
     "data": {
      "text/plain": [
       "56088"
      ]
     },
     "execution_count": 13,
     "metadata": {},
     "output_type": "execute_result"
    }
   ],
   "source": [
    "456 * 123"
   ]
  },
  {
   "cell_type": "markdown",
   "metadata": {},
   "source": [
    "#### 算数运算符\n",
    "\n",
    "常见的数学运算，都可以直接使用Python原生提供的算数运算符进行求值。下表为常用的算数运算符\n",
    "\n",
    "|运算符\t|描述\t|示例\n",
    "|-|-|-|\n",
    "|+\t|加\t|1 + 2 输出结果 3\n",
    "|-\t|减\t|1 - 2 输出结果 -1\n",
    "|*\t|乘\t|1 * 2 输出结果 2\n",
    "|/\t|除 |2 / 1 输出结果 2, 9 / 2 在Python2中输出结果为4\n",
    "|//\t|整除 |9//2 输出结果 4 , 9.0//2.0 输出结果 4.0\n",
    "|%\t|取余 |2 % 1 输出结果 0\n",
    "|**\t|乘方 |\t3**2 为3的平方， 输出结果 9"
   ]
  },
  {
   "cell_type": "markdown",
   "metadata": {},
   "source": [
    "##### 数字类型的算数运算\n",
    "\n",
    "在Python中创建的算数运算表达式将会以普通的数学运算优先级顺序被计算，即符合乘除优先，从左向右的原则计算。同样的，你也可以使用小括号来改变运算的顺序。"
   ]
  },
  {
   "cell_type": "code",
   "execution_count": 14,
   "metadata": {},
   "outputs": [
    {
     "data": {
      "text/plain": [
       "33"
      ]
     },
     "execution_count": 14,
     "metadata": {},
     "output_type": "execute_result"
    }
   ],
   "source": [
    "3 + 5 * 6"
   ]
  },
  {
   "cell_type": "code",
   "execution_count": 15,
   "metadata": {},
   "outputs": [
    {
     "data": {
      "text/plain": [
       "3"
      ]
     },
     "execution_count": 15,
     "metadata": {},
     "output_type": "execute_result"
    }
   ],
   "source": [
    "12 / (2 + 2)"
   ]
  },
  {
   "cell_type": "markdown",
   "metadata": {},
   "source": [
    "在Python2中，仅有整数参与的算数运算其结果也是整数。"
   ]
  },
  {
   "cell_type": "code",
   "execution_count": 16,
   "metadata": {},
   "outputs": [
    {
     "data": {
      "text/plain": [
       "3"
      ]
     },
     "execution_count": 16,
     "metadata": {},
     "output_type": "execute_result"
    }
   ],
   "source": [
    "10 / 3"
   ]
  },
  {
   "cell_type": "markdown",
   "metadata": {},
   "source": [
    "> 注意：在python3中，当出现无法整除的情况时，除法会得到浮点数结果。"
   ]
  },
  {
   "cell_type": "markdown",
   "metadata": {},
   "source": [
    "求余运算算也叫求模运算，是程序开发中（尤其是加密算法中）经常需要进行的一种计算。"
   ]
  },
  {
   "cell_type": "code",
   "execution_count": 17,
   "metadata": {},
   "outputs": [
    {
     "data": {
      "text/plain": [
       "1"
      ]
     },
     "execution_count": 17,
     "metadata": {},
     "output_type": "execute_result"
    }
   ],
   "source": [
    "10 % 3"
   ]
  },
  {
   "cell_type": "code",
   "execution_count": 18,
   "metadata": {},
   "outputs": [
    {
     "data": {
      "text/plain": [
       "0.20000000000000012"
      ]
     },
     "execution_count": 18,
     "metadata": {},
     "output_type": "execute_result"
    }
   ],
   "source": [
    "1.1 % 0.3"
   ]
  },
  {
   "cell_type": "markdown",
   "metadata": {},
   "source": [
    "> 注意：虽然Python允许对浮点数进行求余，但我并不建议你在开发中这么写。"
   ]
  },
  {
   "cell_type": "markdown",
   "metadata": {},
   "source": [
    "> 思考以下几个问题:\n",
    "- 减法在内存操作层面是如何实现的？\n",
    "- 求余运算在内存操作层面是如何实现的？"
   ]
  },
  {
   "cell_type": "markdown",
   "metadata": {},
   "source": [
    "##### 非数字类型的算数运算\n",
    "\n",
    "除了数字类型可以做算数运算外，一些非数字的类型也可以进行算数运算。\n",
    "例如前面我们学习过的字符串。"
   ]
  },
  {
   "cell_type": "code",
   "execution_count": 19,
   "metadata": {},
   "outputs": [
    {
     "data": {
      "text/plain": [
       "'helloworld'"
      ]
     },
     "execution_count": 19,
     "metadata": {},
     "output_type": "execute_result"
    }
   ],
   "source": [
    "# 字符串的加法\n",
    "\"hello\" + \"world\""
   ]
  },
  {
   "cell_type": "code",
   "execution_count": 20,
   "metadata": {},
   "outputs": [
    {
     "data": {
      "text/plain": [
       "'HelloHelloHelloHelloHello'"
      ]
     },
     "execution_count": 20,
     "metadata": {},
     "output_type": "execute_result"
    }
   ],
   "source": [
    "# 字符串的乘法\n",
    "\"Hello\" * 5"
   ]
  },
  {
   "cell_type": "markdown",
   "metadata": {},
   "source": [
    "有一种有趣的现象，bool类型中的`True`和`False`在算术运算中会被当做整数`1`和`0`计算，如："
   ]
  },
  {
   "cell_type": "code",
   "execution_count": 21,
   "metadata": {},
   "outputs": [
    {
     "data": {
      "text/plain": [
       "3"
      ]
     },
     "execution_count": 21,
     "metadata": {},
     "output_type": "execute_result"
    }
   ],
   "source": [
    "False + True * 3"
   ]
  },
  {
   "cell_type": "markdown",
   "metadata": {},
   "source": [
    "#### 比较运算符\n",
    "\n",
    "比较运算表达式通常由数据对象和比较符号（即比较运算符）组成，其返回的结果通常为一个布尔值。"
   ]
  },
  {
   "cell_type": "code",
   "execution_count": 22,
   "metadata": {},
   "outputs": [
    {
     "data": {
      "text/plain": [
       "True"
      ]
     },
     "execution_count": 22,
     "metadata": {},
     "output_type": "execute_result"
    }
   ],
   "source": [
    "5 > 4"
   ]
  },
  {
   "cell_type": "code",
   "execution_count": 23,
   "metadata": {},
   "outputs": [
    {
     "data": {
      "text/plain": [
       "False"
      ]
     },
     "execution_count": 23,
     "metadata": {},
     "output_type": "execute_result"
    }
   ],
   "source": [
    "3 <= 2"
   ]
  },
  {
   "cell_type": "code",
   "execution_count": 24,
   "metadata": {},
   "outputs": [
    {
     "data": {
      "text/plain": [
       "False"
      ]
     },
     "execution_count": 24,
     "metadata": {},
     "output_type": "execute_result"
    }
   ],
   "source": [
    "\"Hello\" > \"World\" "
   ]
  },
  {
   "cell_type": "markdown",
   "metadata": {},
   "source": [
    "> 思考一下，在上一个题中`\"Hello\"`为什么比`\"World\"`更“小”？"
   ]
  },
  {
   "cell_type": "markdown",
   "metadata": {},
   "source": [
    "下表列举了Python中常用的比较运算符\n",
    "\n",
    "|运算符\t|描述\t|实例\n",
    "|-|-|-|\n",
    "|==\t|等于 - 比较对象是否相等\t|(5 == 10) 返回 False\n",
    "|!=\t|不等于\t|(5 != 10) 返回 True\n",
    "|<>\t|不等于\t|(5 <> 10) 返回 True。等价于 != \n",
    "|>\t|大于\t|(5 > 10) 返回 False\n",
    "|<\t|小于\t|(5 < 10) 返回 True\n",
    "|>=\t|大于等于\t- 返回x是否大于等于y。\t|(5 >= 10) 返回 False\n",
    "|<=\t|小于等于 -\t返回x是否小于等于y。\t|(5 <= 10) 返回 true"
   ]
  },
  {
   "cell_type": "markdown",
   "metadata": {},
   "source": [
    "> **一个特殊的比较运算符——`is`**\n",
    ">\n",
    "> `is`是一个类似于`==`的比较运算符，但它们之间有着本质上的区别。`is`比较的是两者是否指向同一个Python对象, 而`==`比较的是两者的值是否一致。如果你先在还无法理解这句话，不要担心。后续课程中，我们将会更大程度上的展开这些内容。"
   ]
  },
  {
   "cell_type": "markdown",
   "metadata": {},
   "source": [
    "### 逻辑运算符\n",
    "\n",
    "逻辑运算是对一个或多个布尔值进行操作，并得到一个新的布尔值的计算方式。和比较运算符相似，这种运算返回的结果通常为一个布尔值。"
   ]
  },
  {
   "cell_type": "code",
   "execution_count": 25,
   "metadata": {},
   "outputs": [
    {
     "data": {
      "text/plain": [
       "True"
      ]
     },
     "execution_count": 25,
     "metadata": {},
     "output_type": "execute_result"
    }
   ],
   "source": [
    "5 > 4 and 4 > 3"
   ]
  },
  {
   "cell_type": "code",
   "execution_count": 26,
   "metadata": {},
   "outputs": [
    {
     "data": {
      "text/plain": [
       "True"
      ]
     },
     "execution_count": 26,
     "metadata": {},
     "output_type": "execute_result"
    }
   ],
   "source": [
    "5 > 4 or False"
   ]
  },
  {
   "cell_type": "markdown",
   "metadata": {},
   "source": [
    "> 同其他运算方式一样，逻辑运算表达式也支持小括号。使用小括号可以很好地优化代码的可读性。"
   ]
  },
  {
   "cell_type": "code",
   "execution_count": 27,
   "metadata": {},
   "outputs": [
    {
     "data": {
      "text/plain": [
       "True"
      ]
     },
     "execution_count": 27,
     "metadata": {},
     "output_type": "execute_result"
    }
   ],
   "source": [
    "2 > 3 or (3 > 2 and 5 >= 4)"
   ]
  },
  {
   "cell_type": "markdown",
   "metadata": {},
   "source": [
    "下表列出了Python中的几个逻辑运算符\n",
    "\n",
    "|运算符|表达式示例 |描述\n",
    "|-|-|-|-|\n",
    "|and| x and y | 当x与y同时为True时，结果为True，否则为False\n",
    "|or| x or y | 当x与y任意一个为True时，结果为True，否则为False\n",
    "|not| not x | 当x为False时，结果为True，否则为False"
   ]
  },
  {
   "cell_type": "markdown",
   "metadata": {},
   "source": [
    "### Python中操作数据类型的内建函数\n",
    "\n",
    "在Python中，除了保留字和数据对象以及运算符之外，解释器还默认加载了一些内建的函数命令供你调用。\n",
    "\n",
    "\n",
    "> 函数（Function）是一种可调用（callable）的Python对象，你可以在函数名后连接填有参数的小括号来调用它。被调用的函数将会被当做一种表达式被求值。如果你还无法理解这部分内容，不用担心，后续课程我们会详细讲解。\n",
    "\n",
    "> 内建函数（built-in functions）指的是无需定义或导入即可直接使用的函数。\n",
    "\n",
    "> 在Python命令行中，你可以使用help命令来查询函数的文档信息，从而了解函数的功能及调用规则。\n",
    "\n",
    "在本次课中，我们将介绍一部分针对数据类型进行操作的内建函数。\n"
   ]
  },
  {
   "cell_type": "markdown",
   "metadata": {},
   "source": [
    "#### type()\n",
    "\n",
    "`type`函数可以帮助我们获得参数的类型。\n"
   ]
  },
  {
   "cell_type": "code",
   "execution_count": 28,
   "metadata": {},
   "outputs": [
    {
     "data": {
      "text/plain": [
       "int"
      ]
     },
     "execution_count": 28,
     "metadata": {},
     "output_type": "execute_result"
    }
   ],
   "source": [
    "type(1)"
   ]
  },
  {
   "cell_type": "code",
   "execution_count": 29,
   "metadata": {},
   "outputs": [
    {
     "data": {
      "text/plain": [
       "float"
      ]
     },
     "execution_count": 29,
     "metadata": {},
     "output_type": "execute_result"
    }
   ],
   "source": [
    "type(3.14)"
   ]
  },
  {
   "cell_type": "code",
   "execution_count": 30,
   "metadata": {},
   "outputs": [
    {
     "data": {
      "text/plain": [
       "float"
      ]
     },
     "execution_count": 30,
     "metadata": {},
     "output_type": "execute_result"
    }
   ],
   "source": [
    "type(4 / 2.0)"
   ]
  },
  {
   "cell_type": "code",
   "execution_count": 31,
   "metadata": {},
   "outputs": [
    {
     "data": {
      "text/plain": [
       "str"
      ]
     },
     "execution_count": 31,
     "metadata": {},
     "output_type": "execute_result"
    }
   ],
   "source": [
    "type(\"128\")"
   ]
  },
  {
   "cell_type": "code",
   "execution_count": 32,
   "metadata": {},
   "outputs": [
    {
     "data": {
      "text/plain": [
       "bool"
      ]
     },
     "execution_count": 32,
     "metadata": {},
     "output_type": "execute_result"
    }
   ],
   "source": [
    "type(5 >= 4)"
   ]
  },
  {
   "cell_type": "markdown",
   "metadata": {},
   "source": [
    "#### isinstance()\n",
    "\n",
    "isinstance函数用于判断一个Python对象是否为某种给定的类型或属于某些给定类型中的一种，其返回值为布尔类型。\n",
    "\n",
    "此函数需要填入两个参数，第一个参数可以为任意的Python对象，第二个参数则必须是一种合法的Python类型或一个包含多种类型的列表。\n",
    "\n",
    "> 列表是一种常用的数据结构类型，下节课我们将深入地讲解。"
   ]
  },
  {
   "cell_type": "code",
   "execution_count": 33,
   "metadata": {
    "scrolled": true
   },
   "outputs": [
    {
     "data": {
      "text/plain": [
       "True"
      ]
     },
     "execution_count": 33,
     "metadata": {},
     "output_type": "execute_result"
    }
   ],
   "source": [
    "isinstance(1, int)"
   ]
  },
  {
   "cell_type": "code",
   "execution_count": 34,
   "metadata": {},
   "outputs": [
    {
     "data": {
      "text/plain": [
       "True"
      ]
     },
     "execution_count": 34,
     "metadata": {},
     "output_type": "execute_result"
    }
   ],
   "source": [
    "isinstance(\"hello world\", str)"
   ]
  },
  {
   "cell_type": "code",
   "execution_count": 35,
   "metadata": {},
   "outputs": [
    {
     "data": {
      "text/plain": [
       "False"
      ]
     },
     "execution_count": 35,
     "metadata": {},
     "output_type": "execute_result"
    }
   ],
   "source": [
    "isinstance(\"1\", int)"
   ]
  },
  {
   "cell_type": "code",
   "execution_count": 36,
   "metadata": {},
   "outputs": [
    {
     "data": {
      "text/plain": [
       "True"
      ]
     },
     "execution_count": 36,
     "metadata": {},
     "output_type": "execute_result"
    }
   ],
   "source": [
    "isinstance(3.14, float)"
   ]
  },
  {
   "cell_type": "code",
   "execution_count": 37,
   "metadata": {},
   "outputs": [
    {
     "data": {
      "text/plain": [
       "True"
      ]
     },
     "execution_count": 37,
     "metadata": {},
     "output_type": "execute_result"
    }
   ],
   "source": [
    "isinstance(True, int)"
   ]
  },
  {
   "cell_type": "markdown",
   "metadata": {},
   "source": [
    "> 注意，在CPython解释器（即Python官网下载的最常用的解释器）中，bool类型为int类型的子类型，因此`True`会被识别为`int`类型。"
   ]
  },
  {
   "cell_type": "markdown",
   "metadata": {},
   "source": [
    "#### 类型转换函数\n",
    "\n",
    "`int`,`float`,`bool`,`str`等函数均可将传入的参数转换为对应的类型并返回。"
   ]
  },
  {
   "cell_type": "code",
   "execution_count": 38,
   "metadata": {},
   "outputs": [
    {
     "data": {
      "text/plain": [
       "123"
      ]
     },
     "execution_count": 38,
     "metadata": {},
     "output_type": "execute_result"
    }
   ],
   "source": [
    "int(\"123\")"
   ]
  },
  {
   "cell_type": "code",
   "execution_count": 39,
   "metadata": {},
   "outputs": [
    {
     "data": {
      "text/plain": [
       "128"
      ]
     },
     "execution_count": 39,
     "metadata": {},
     "output_type": "execute_result"
    }
   ],
   "source": [
    "int(128.456)"
   ]
  },
  {
   "cell_type": "code",
   "execution_count": 40,
   "metadata": {},
   "outputs": [
    {
     "data": {
      "text/plain": [
       "3.14159"
      ]
     },
     "execution_count": 40,
     "metadata": {},
     "output_type": "execute_result"
    }
   ],
   "source": [
    "float(\"3.14159\")"
   ]
  },
  {
   "cell_type": "code",
   "execution_count": 41,
   "metadata": {},
   "outputs": [
    {
     "data": {
      "text/plain": [
       "False"
      ]
     },
     "execution_count": 41,
     "metadata": {},
     "output_type": "execute_result"
    }
   ],
   "source": [
    "bool(0)"
   ]
  },
  {
   "cell_type": "code",
   "execution_count": 42,
   "metadata": {},
   "outputs": [
    {
     "data": {
      "text/plain": [
       "True"
      ]
     },
     "execution_count": 42,
     "metadata": {},
     "output_type": "execute_result"
    }
   ],
   "source": [
    "bool(999)"
   ]
  },
  {
   "cell_type": "code",
   "execution_count": 43,
   "metadata": {},
   "outputs": [
    {
     "data": {
      "text/plain": [
       "True"
      ]
     },
     "execution_count": 43,
     "metadata": {},
     "output_type": "execute_result"
    }
   ],
   "source": [
    "bool(\"Hello\")"
   ]
  },
  {
   "cell_type": "code",
   "execution_count": 44,
   "metadata": {},
   "outputs": [
    {
     "data": {
      "text/plain": [
       "'1.414'"
      ]
     },
     "execution_count": 44,
     "metadata": {},
     "output_type": "execute_result"
    }
   ],
   "source": [
    "str(1.414)"
   ]
  },
  {
   "cell_type": "markdown",
   "metadata": {},
   "source": [
    "### 本课结语\n",
    "\n",
    "在本节课中，我们已经学习了以下几个内容：\n",
    "- Python内建的一个保留字命令`print`, \n",
    "- Python当中的几种基础数据类型及常用的运算符，\n",
    "- 针对数据类型进行操作的几个常用内建函数。\n",
    "\n",
    "如果你还没有熟练地掌握这些知识，我建议你通过以下几种方式提高自己：\n",
    "\n",
    "- 反复地阅读这一节课的内容；\n",
    "- 依据本课知识，举一反三地进行更多的练习；\n",
    "- 到互联网上浏览和补充相关的知识，完善和巩固知识体系；\n",
    "- 在我们的课堂群中和我们进行更多的交流。\n",
    "\n",
    "如果你觉得本课内容对你有帮助，欢迎到我们的[课程](https://ke.qq.com/course/328764?tuin=2a5bd9a8)中进行评价，给予我们一个珍贵的好评。"
   ]
  }
 ],
 "metadata": {
  "kernelspec": {
   "display_name": "Python 2",
   "language": "python",
   "name": "python2"
  },
  "language_info": {
   "codemirror_mode": {
    "name": "ipython",
    "version": 2
   },
   "file_extension": ".py",
   "mimetype": "text/x-python",
   "name": "python",
   "nbconvert_exporter": "python",
   "pygments_lexer": "ipython2",
   "version": "2.7.14"
  }
 },
 "nbformat": 4,
 "nbformat_minor": 2
}
